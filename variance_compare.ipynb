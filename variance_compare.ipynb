{
 "cells": [
  {
   "cell_type": "code",
   "execution_count": 1,
   "id": "3e98b0f8-693f-45c7-ac7c-acbc8e3d79a0",
   "metadata": {},
   "outputs": [],
   "source": [
    "%load_ext autoreload\n",
    "%autoreload 2\n",
    "%matplotlib inline\n",
    "\n",
    "\n",
    "import numpy as np\n",
    "import matplotlib.pyplot as plt\n",
    "from scipy.linalg import expm\n",
    "from tqdm.notebook import tqdm\n",
    "import pickle\n",
    "import timeit\n",
    "from td_algorithm_funcs import get_prop_v2, get_prop_abs_v2, get_hists_v4, get_rate, simulate_traj\n",
    "import pandas as pd"
   ]
  },
  {
   "cell_type": "markdown",
   "id": "a15bb137-d1d5-4c8f-9711-22731b136046",
   "metadata": {
    "tags": []
   },
   "source": [
    "# One example"
   ]
  },
  {
   "cell_type": "code",
   "execution_count": 22,
   "id": "dab67300-68d5-40fd-a36d-74f13561daba",
   "metadata": {},
   "outputs": [],
   "source": [
    "# Mean movment in dt -> dx = s*sqrt(dt) -> dx = sqrt(2 D dt)"
   ]
  },
  {
   "cell_type": "code",
   "execution_count": 23,
   "id": "022ba8f5-e887-4452-bfe7-3f10376368a6",
   "metadata": {},
   "outputs": [],
   "source": [
    "# k = 1\n",
    "# tau = 0.5\n",
    "# D = 1/2\n",
    "# s = np.sqrt(2*D)\n",
    "# N_t = 100\n",
    "# dt = tau/4 if tau > 0 else 5e-2\n",
    "# dx = 1/2\n",
    "#sb = 20\n",
    "\n",
    "k = 3\n",
    "tau = 0.2\n",
    "D = 1e-6\n",
    "s = np.sqrt(2*D)\n",
    "N_t = 50\n",
    "dt = tau/4 if tau > 0 else 5e-2\n",
    "dx = 4e-4 #1e-4\n",
    "sb = 15*dx#0.005\n",
    "\n",
    "f = 30\n",
    "N_p = 8_000\n",
    "\n",
    "\n",
    "ntau = round(tau/dt)\n",
    "ts = np.arange(0,N_t)*dt\n",
    "ts_r = ts[1:]\n",
    "\n",
    "\n",
    "# jump over zero as x point\n",
    "x_s = np.arange(-sb,sb+1e-6,dx)\n",
    "bins = np.arange(-sb-dx/2,sb+dx/2+1e-5,dx)\n",
    "N_x = len(x_s)\n",
    "\n",
    "# def force(x,*args):\n",
    "#      return -k*x\n",
    "\n",
    "\n",
    "def force(x,*args):\n",
    "    return -k*x**3*1e6\n",
    "\n",
    "i_zero = np.argmin(force(x_s)**2)"
   ]
  },
  {
   "cell_type": "code",
   "execution_count": 24,
   "id": "14dc9f24-5f1b-4f1c-9552-7884604a3981",
   "metadata": {},
   "outputs": [
    {
     "data": {
      "text/plain": [
       "31"
      ]
     },
     "execution_count": 24,
     "metadata": {},
     "output_type": "execute_result"
    }
   ],
   "source": [
    "N_x"
   ]
  },
  {
   "cell_type": "code",
   "execution_count": 25,
   "id": "bd1fc8dc-4fc7-41a1-9d68-9c816ee1d6c6",
   "metadata": {},
   "outputs": [
    {
     "name": "stdout",
     "output_type": "stream",
     "text": [
      "CAREFUL: nan in prop, maybe because of to high values in potential\n"
     ]
    },
    {
     "data": {
      "application/vnd.jupyter.widget-view+json": {
       "model_id": "3a621ba7a03c4b0da86a9091588bdcc5",
       "version_major": 2,
       "version_minor": 0
      },
      "text/plain": [
       "  0%|          | 0/50 [00:00<?, ?it/s]"
      ]
     },
     "metadata": {},
     "output_type": "display_data"
    },
    {
     "name": "stdout",
     "output_type": "stream",
     "text": [
      "Total number of final states: (22345,)\n"
     ]
    }
   ],
   "source": [
    "prop = get_prop_abs_v2(x_s, force,D,dt,dx, side='lr')\n",
    "hists, unaltered_props, total_prob = get_hists_v4(N_t = N_t, N_x=N_x,ntau=ntau,i_zero=i_zero,prop=prop, thresh = 5e-7)"
   ]
  },
  {
   "cell_type": "code",
   "execution_count": 26,
   "id": "e77fb60c-0eb3-48b2-b55c-cae8cec5e48c",
   "metadata": {},
   "outputs": [],
   "source": [
    "#prop_old = get_prop_v2(x_s, force,D,dt,dx)\n",
    "#hists_old, unaltered_props_old, total_prob_old = get_hists_v4(N_t = N_t, N_x=N_x,ntau=ntau,i_zero=i_zero,prop=prop_old, thresh = 5e-7)"
   ]
  },
  {
   "cell_type": "code",
   "execution_count": 27,
   "id": "0df10c1c-3899-48da-9b1e-b3a4b786ebbc",
   "metadata": {},
   "outputs": [
    {
     "data": {
      "text/plain": [
       "<matplotlib.image.AxesImage at 0x7fe83253bfd0>"
      ]
     },
     "execution_count": 27,
     "metadata": {},
     "output_type": "execute_result"
    },
    {
     "data": {
      "image/png": "[encoded data removed]",
      "text/plain": [
       "<Figure size 1500x700 with 1 Axes>"
      ]
     },
     "metadata": {},
     "output_type": "display_data"
    }
   ],
   "source": [
    "plt.figure(figsize=(15,7))\n",
    "plt.imshow(prop[-2])"
   ]
  },
  {
   "cell_type": "code",
   "execution_count": 28,
   "id": "6b9a2ac7-10a2-4d13-a297-034b0e49e718",
   "metadata": {},
   "outputs": [
    {
     "data": {
      "application/vnd.jupyter.widget-view+json": {
       "model_id": "c4ffb86b45074e0ca9a997a3b3f2e824",
       "version_major": 2,
       "version_minor": 0
      },
      "text/plain": [
       "  0%|          | 0/1559 [00:00<?, ?it/s]"
      ]
     },
     "metadata": {},
     "output_type": "display_data"
    },
    {
     "name": "stderr",
     "output_type": "stream",
     "text": [
      "/tmp/ipykernel_11263/3964552566.py:38: RuntimeWarning: overflow encountered in multiply\n",
      "  return -k*x**3*1e6\n",
      "/tmp/ipykernel_11263/3964552566.py:38: RuntimeWarning: overflow encountered in power\n",
      "  return -k*x**3*1e6\n",
      "/home/nils/Programmieren/overdampedDelayHarmonicOscillator/td_algorithm_funcs.py:92: RuntimeWarning: invalid value encountered in add\n",
      "  pos[:,:,i] = pos[:,:,i-1] + vel[:,:,i-1]*dt\n"
     ]
    },
    {
     "data": {
      "application/vnd.jupyter.widget-view+json": {
       "model_id": "cbd5a91a00674c2da7645da683ffa16c",
       "version_major": 2,
       "version_minor": 0
      },
      "text/plain": [
       "  0%|          | 0/1680 [00:00<?, ?it/s]"
      ]
     },
     "metadata": {},
     "output_type": "display_data"
    }
   ],
   "source": [
    "pos = simulate_traj(N_p=N_p, N_loop=1, N_t=(N_t+ntau+2)*f, ntau=ntau*f, s=s, dt=dt/f,border=0, force=force)\n",
    "all_pos = pos[0]\n",
    "sim_hists = np.stack([np.histogram(all_pos[:,j], bins = bins)[0] for j in tqdm(range(all_pos.shape[-1]))])\n",
    "sim_ts = np.arange(0, len(all_pos[0]))*dt/f -tau-dt"
   ]
  },
  {
   "cell_type": "code",
   "execution_count": 29,
   "id": "7d9f09a4-dc36-4ea4-b649-0fd544cb7459",
   "metadata": {},
   "outputs": [
    {
     "data": {
      "text/plain": [
       "nan"
      ]
     },
     "execution_count": 29,
     "metadata": {},
     "output_type": "execute_result"
    }
   ],
   "source": [
    "np.max(all_pos)"
   ]
  },
  {
   "cell_type": "code",
   "execution_count": 30,
   "id": "33fc874a-68bc-45c4-a82b-dc3ab3d6aba7",
   "metadata": {},
   "outputs": [
    {
     "data": {
      "text/plain": [
       "[<matplotlib.lines.Line2D at 0x7fe832a67670>]"
      ]
     },
     "execution_count": 30,
     "metadata": {},
     "output_type": "execute_result"
    },
    {
     "data": {
      "image/png": "[encoded data removed]",
      "text/plain": [
       "<Figure size 640x480 with 1 Axes>"
      ]
     },
     "metadata": {},
     "output_type": "display_data"
    }
   ],
   "source": [
    "div_particle = (np.isnan(all_pos).sum(0) + ( np.abs(all_pos) > sb).sum(0))/N_p\n",
    "plt.plot(div_particle)"
   ]
  },
  {
   "cell_type": "code",
   "execution_count": 31,
   "id": "bdd0587a-ea97-4ed9-87b4-cccfc8724873",
   "metadata": {},
   "outputs": [
    {
     "data": {
      "text/plain": [
       "(8000, 1680)"
      ]
     },
     "execution_count": 31,
     "metadata": {},
     "output_type": "execute_result"
    }
   ],
   "source": [
    "all_pos.shape"
   ]
  },
  {
   "cell_type": "code",
   "execution_count": 32,
   "id": "33e10392-ff9e-4139-8e11-bd494d2fde9d",
   "metadata": {},
   "outputs": [
    {
     "data": {
      "text/plain": [
       "4"
      ]
     },
     "execution_count": 32,
     "metadata": {},
     "output_type": "execute_result"
    }
   ],
   "source": [
    "ntau"
   ]
  },
  {
   "cell_type": "code",
   "execution_count": 33,
   "id": "80af1f78-3495-4f53-bb2a-51929a406cac",
   "metadata": {},
   "outputs": [
    {
     "data": {
      "text/plain": [
       "[<matplotlib.lines.Line2D at 0x7fe8326e7fa0>]"
      ]
     },
     "execution_count": 33,
     "metadata": {},
     "output_type": "execute_result"
    },
    {
     "data": {
      "image/png": "[encoded data removed]",
      "text/plain": [
       "<Figure size 640x480 with 1 Axes>"
      ]
     },
     "metadata": {},
     "output_type": "display_data"
    }
   ],
   "source": [
    "idx = 49\n",
    "plt.plot(x_s,hists[idx]*np.cumprod(unaltered_props)[idx],'.-')\n",
    "#plt.plot(x_s,hists_old[idx],'.-')\n",
    "plt.plot(x_s,sim_hists[f*(idx+ntau+1)]/N_p,'.-')"
   ]
  },
  {
   "cell_type": "code",
   "execution_count": 35,
   "id": "221d7e9d-10c3-4a62-99c2-82637c23e425",
   "metadata": {},
   "outputs": [],
   "source": [
    "sim_var = np.var(pos, axis = 1)\n",
    "sim_p = sim_hists[:,:]/np.sum(sim_hists, axis = 1)[:,None]\n",
    "sim_hist_var = np.sum(sim_p*x_s[None,:]**2 - (sim_p*x_s[None,:])**2, axis = 1)\n",
    "\n",
    "num_p = hists[:,:]/np.sum(hists, axis = 1)[:,None]\n",
    "num_var = np.sum(num_p*x_s[None,:]**2 - (num_p*x_s[None,:])**2, axis = 1)\n",
    "\n",
    "#num_p_old = hists_old[:,:]/np.sum(hists_old, axis = 1)[:,None]\n",
    "#num_var_old = np.sum(num_p_old*x_s[None,:]**2 - (num_p_old*x_s[None,:])**2, axis = 1)"
   ]
  },
  {
   "cell_type": "code",
   "execution_count": 36,
   "id": "ac0c7eb5-68c7-415b-9506-7f1e58211986",
   "metadata": {},
   "outputs": [
    {
     "data": {
      "text/plain": [
       "[<matplotlib.lines.Line2D at 0x7fe832c7bfd0>]"
      ]
     },
     "execution_count": 36,
     "metadata": {},
     "output_type": "execute_result"
    },
    {
     "data": {
      "image/png": "[encoded data removed]",
      "text/plain": [
       "<Figure size 640x480 with 1 Axes>"
      ]
     },
     "metadata": {},
     "output_type": "display_data"
    }
   ],
   "source": [
    "\n",
    "plt.plot(sim_ts,sim_hist_var)\n",
    "plt.plot(ts, num_var)\n",
    "#plt.plot(ts, num_var_old)\n",
    "plt.ylim(*plt.ylim())\n",
    "plt.plot(sim_ts,sim_var[0])"
   ]
  },
  {
   "cell_type": "code",
   "execution_count": 43,
   "id": "56f00f55-2bb6-4949-afb3-4ffc740ed5c4",
   "metadata": {},
   "outputs": [
    {
     "data": {
      "text/plain": [
       "[<matplotlib.lines.Line2D at 0x7fd9febdbb80>]"
      ]
     },
     "execution_count": 43,
     "metadata": {},
     "output_type": "execute_result"
    },
    {
     "data": {
      "image/png": "[encoded data removed]",
      "text/plain": [
       "<Figure size 640x480 with 1 Axes>"
      ]
     },
     "metadata": {},
     "output_type": "display_data"
    }
   ],
   "source": [
    "plt.plot(np.cumprod(unaltered_props))\n",
    "plt.plot(np.cumprod(total_prob))\n",
    "#plt.ylim(0,2)"
   ]
  },
  {
   "cell_type": "markdown",
   "id": "2ca6a01b-91a1-4c99-ae28-bf7850f05702",
   "metadata": {
    "tags": []
   },
   "source": [
    "# The Loop"
   ]
  },
  {
   "cell_type": "code",
   "execution_count": 2,
   "id": "6475bd2e-3d0f-4d8c-85d3-0a208d5dcea9",
   "metadata": {},
   "outputs": [],
   "source": [
    "k = 3\n",
    "D = 1e-6\n",
    "s = np.sqrt(2*D)\n",
    "N_t = 100\n",
    "dx = 4e-4 #4e-4\n",
    "sb = 15*dx#0.005\n",
    "\n",
    "f = 30\n",
    "N_p = 8_000\n",
    "\n",
    "\n",
    "# jump over zero as x point\n",
    "x_s = np.arange(-sb,sb+1e-6,dx)\n",
    "bins = np.arange(-sb-dx/2,sb+dx/2+1e-5,dx)\n",
    "N_x = len(x_s)\n",
    "\n",
    "ltaus = np.array([0.01, 0.05, 0.1, 0.2,0.3,0.4,0.5,0.6])\n",
    "sim_vars = np.empty(len(ltaus))\n",
    "num_vars = np.empty(len(ltaus))\n",
    "num_vars_2 = np.empty(len(ltaus))\n",
    "sim_hist_vars = np.empty(len(ltaus))\n",
    "\n",
    "tau_frac = 4\n",
    "\n",
    "# def force(x,*args):\n",
    "#      return -k*x\n",
    "def force(x,*args):\n",
    "    return -k*x**3*1e6\n",
    "i_zero = np.argmin(force(x_s)**2)"
   ]
  },
  {
   "cell_type": "code",
   "execution_count": 3,
   "id": "49dee5ac-462d-4c24-9af2-54eca5df61d6",
   "metadata": {},
   "outputs": [
    {
     "data": {
      "application/vnd.jupyter.widget-view+json": {
       "model_id": "c1e88dedb9f94e91a8ad9a9785e53e0d",
       "version_major": 2,
       "version_minor": 0
      },
      "text/plain": [
       "  0%|          | 0/8 [00:00<?, ?it/s]"
      ]
     },
     "metadata": {},
     "output_type": "display_data"
    },
    {
     "name": "stdout",
     "output_type": "stream",
     "text": [
      "0.0025 4\n",
      "CAREFUL: nan in prop, maybe because of to high values in potential\n"
     ]
    },
    {
     "data": {
      "application/vnd.jupyter.widget-view+json": {
       "model_id": "936625457d15417981b5a44ae6423842",
       "version_major": 2,
       "version_minor": 0
      },
      "text/plain": [
       "  0%|          | 0/100 [00:00<?, ?it/s]"
      ]
     },
     "metadata": {},
     "output_type": "display_data"
    },
    {
     "name": "stdout",
     "output_type": "stream",
     "text": [
      "Total number of final states: (967,)\n"
     ]
    },
    {
     "data": {
      "application/vnd.jupyter.widget-view+json": {
       "model_id": "913a982b80614d799eb6eccbacb04fdf",
       "version_major": 2,
       "version_minor": 0
      },
      "text/plain": [
       "  0%|          | 0/3059 [00:00<?, ?it/s]"
      ]
     },
     "metadata": {},
     "output_type": "display_data"
    },
    {
     "data": {
      "application/vnd.jupyter.widget-view+json": {
       "model_id": "b1545fb8ee1d436b813309881d403f0b",
       "version_major": 2,
       "version_minor": 0
      },
      "text/plain": [
       "  0%|          | 0/3180 [00:00<?, ?it/s]"
      ]
     },
     "metadata": {},
     "output_type": "display_data"
    },
    {
     "name": "stdout",
     "output_type": "stream",
     "text": [
      "0.0125 4\n",
      "CAREFUL: nan in prop, maybe because of to high values in potential\n"
     ]
    },
    {
     "data": {
      "application/vnd.jupyter.widget-view+json": {
       "model_id": "7d9488ae129b4f28be658b7cb6ad7a0e",
       "version_major": 2,
       "version_minor": 0
      },
      "text/plain": [
       "  0%|          | 0/100 [00:00<?, ?it/s]"
      ]
     },
     "metadata": {},
     "output_type": "display_data"
    },
    {
     "name": "stdout",
     "output_type": "stream",
     "text": [
      "Total number of final states: (5639,)\n"
     ]
    },
    {
     "data": {
      "application/vnd.jupyter.widget-view+json": {
       "model_id": "4f289d9cdede44c096dd04364877c4ba",
       "version_major": 2,
       "version_minor": 0
      },
      "text/plain": [
       "  0%|          | 0/3059 [00:00<?, ?it/s]"
      ]
     },
     "metadata": {},
     "output_type": "display_data"
    },
    {
     "data": {
      "application/vnd.jupyter.widget-view+json": {
       "model_id": "f7d118cd6a6243cb89ce6ac823614b2d",
       "version_major": 2,
       "version_minor": 0
      },
      "text/plain": [
       "  0%|          | 0/3180 [00:00<?, ?it/s]"
      ]
     },
     "metadata": {},
     "output_type": "display_data"
    },
    {
     "name": "stdout",
     "output_type": "stream",
     "text": [
      "0.025 4\n",
      "CAREFUL: nan in prop, maybe because of to high values in potential\n"
     ]
    },
    {
     "data": {
      "application/vnd.jupyter.widget-view+json": {
       "model_id": "c32cd9558a964f888a276e534c219146",
       "version_major": 2,
       "version_minor": 0
      },
      "text/plain": [
       "  0%|          | 0/100 [00:00<?, ?it/s]"
      ]
     },
     "metadata": {},
     "output_type": "display_data"
    },
    {
     "name": "stdout",
     "output_type": "stream",
     "text": [
      "Total number of final states: (17271,)\n"
     ]
    },
    {
     "data": {
      "application/vnd.jupyter.widget-view+json": {
       "model_id": "a757c5b73bbd4ccc862fa3c82072d34f",
       "version_major": 2,
       "version_minor": 0
      },
      "text/plain": [
       "  0%|          | 0/3059 [00:00<?, ?it/s]"
      ]
     },
     "metadata": {},
     "output_type": "display_data"
    },
    {
     "name": "stderr",
     "output_type": "stream",
     "text": [
      "/tmp/ipykernel_11263/4124427470.py:28: RuntimeWarning: overflow encountered in multiply\n",
      "  return -k*x**3*1e6\n",
      "/tmp/ipykernel_11263/4124427470.py:28: RuntimeWarning: overflow encountered in power\n",
      "  return -k*x**3*1e6\n",
      "/home/nils/Programmieren/overdampedDelayHarmonicOscillator/td_algorithm_funcs.py:92: RuntimeWarning: invalid value encountered in add\n",
      "  pos[:,:,i] = pos[:,:,i-1] + vel[:,:,i-1]*dt\n"
     ]
    },
    {
     "data": {
      "application/vnd.jupyter.widget-view+json": {
       "model_id": "7975f6c64544464b96f24dc6ed8ba670",
       "version_major": 2,
       "version_minor": 0
      },
      "text/plain": [
       "  0%|          | 0/3180 [00:00<?, ?it/s]"
      ]
     },
     "metadata": {},
     "output_type": "display_data"
    },
    {
     "name": "stdout",
     "output_type": "stream",
     "text": [
      "0.05 4\n",
      "CAREFUL: nan in prop, maybe because of to high values in potential\n"
     ]
    },
    {
     "name": "stderr",
     "output_type": "stream",
     "text": [
      "/home/nils/anaconda3/envs/kroy/lib/python3.10/site-packages/numpy/core/_methods.py:213: RuntimeWarning: invalid value encountered in reduce\n",
      "  arrmean = umr_sum(arr, axis, dtype, keepdims=True, where=where)\n",
      "/home/nils/anaconda3/envs/kroy/lib/python3.10/site-packages/numpy/core/_methods.py:233: RuntimeWarning: invalid value encountered in subtract\n",
      "  x = asanyarray(arr - arrmean)\n",
      "/home/nils/anaconda3/envs/kroy/lib/python3.10/site-packages/numpy/core/_methods.py:236: RuntimeWarning: overflow encountered in multiply\n",
      "  x = um.multiply(x, x, out=x)\n",
      "/home/nils/anaconda3/envs/kroy/lib/python3.10/site-packages/numpy/core/_methods.py:247: RuntimeWarning: overflow encountered in reduce\n",
      "  ret = umr_sum(x, axis, dtype, out, keepdims=keepdims, where=where)\n"
     ]
    },
    {
     "data": {
      "application/vnd.jupyter.widget-view+json": {
       "model_id": "fa808c482b714f52a0bdd151878f199b",
       "version_major": 2,
       "version_minor": 0
      },
      "text/plain": [
       "  0%|          | 0/100 [00:00<?, ?it/s]"
      ]
     },
     "metadata": {},
     "output_type": "display_data"
    },
    {
     "name": "stdout",
     "output_type": "stream",
     "text": [
      "Total number of final states: (53455,)\n"
     ]
    },
    {
     "data": {
      "application/vnd.jupyter.widget-view+json": {
       "model_id": "98316afeda8f4012bfbaae1d8e641a7b",
       "version_major": 2,
       "version_minor": 0
      },
      "text/plain": [
       "  0%|          | 0/3059 [00:00<?, ?it/s]"
      ]
     },
     "metadata": {},
     "output_type": "display_data"
    },
    {
     "data": {
      "application/vnd.jupyter.widget-view+json": {
       "model_id": "76eb107fdaa54f338c1ade5e24a01e3c",
       "version_major": 2,
       "version_minor": 0
      },
      "text/plain": [
       "  0%|          | 0/3180 [00:00<?, ?it/s]"
      ]
     },
     "metadata": {},
     "output_type": "display_data"
    },
    {
     "name": "stdout",
     "output_type": "stream",
     "text": [
      "0.075 4\n",
      "CAREFUL: nan in prop, maybe because of to high values in potential\n"
     ]
    },
    {
     "data": {
      "application/vnd.jupyter.widget-view+json": {
       "model_id": "e2c0be39ef8d46aeb4b9b3004e239b15",
       "version_major": 2,
       "version_minor": 0
      },
      "text/plain": [
       "  0%|          | 0/100 [00:00<?, ?it/s]"
      ]
     },
     "metadata": {},
     "output_type": "display_data"
    },
    {
     "name": "stdout",
     "output_type": "stream",
     "text": [
      "Total number of final states: (81737,)\n"
     ]
    },
    {
     "data": {
      "application/vnd.jupyter.widget-view+json": {
       "model_id": "49182b9247ff4bd7aa9b5981587caa1e",
       "version_major": 2,
       "version_minor": 0
      },
      "text/plain": [
       "  0%|          | 0/3059 [00:00<?, ?it/s]"
      ]
     },
     "metadata": {},
     "output_type": "display_data"
    },
    {
     "data": {
      "application/vnd.jupyter.widget-view+json": {
       "model_id": "a73d6590bc1549b3a0036efed3f76019",
       "version_major": 2,
       "version_minor": 0
      },
      "text/plain": [
       "  0%|          | 0/3180 [00:00<?, ?it/s]"
      ]
     },
     "metadata": {},
     "output_type": "display_data"
    },
    {
     "name": "stdout",
     "output_type": "stream",
     "text": [
      "0.1 4\n",
      "CAREFUL: nan in prop, maybe because of to high values in potential\n"
     ]
    },
    {
     "data": {
      "application/vnd.jupyter.widget-view+json": {
       "model_id": "17a58657ebef4b6fadf590df5fe2a536",
       "version_major": 2,
       "version_minor": 0
      },
      "text/plain": [
       "  0%|          | 0/100 [00:00<?, ?it/s]"
      ]
     },
     "metadata": {},
     "output_type": "display_data"
    },
    {
     "name": "stdout",
     "output_type": "stream",
     "text": [
      "Total number of final states: (106443,)\n"
     ]
    },
    {
     "data": {
      "application/vnd.jupyter.widget-view+json": {
       "model_id": "e3d45ea541b049f3ad266f9450d03800",
       "version_major": 2,
       "version_minor": 0
      },
      "text/plain": [
       "  0%|          | 0/3059 [00:00<?, ?it/s]"
      ]
     },
     "metadata": {},
     "output_type": "display_data"
    },
    {
     "data": {
      "application/vnd.jupyter.widget-view+json": {
       "model_id": "b37fc62dc2754389b95684721c67886d",
       "version_major": 2,
       "version_minor": 0
      },
      "text/plain": [
       "  0%|          | 0/3180 [00:00<?, ?it/s]"
      ]
     },
     "metadata": {},
     "output_type": "display_data"
    },
    {
     "name": "stdout",
     "output_type": "stream",
     "text": [
      "0.125 4\n",
      "CAREFUL: nan in prop, maybe because of to high values in potential\n"
     ]
    },
    {
     "data": {
      "application/vnd.jupyter.widget-view+json": {
       "model_id": "ba353962cf3740fa941f044e03ab3af6",
       "version_major": 2,
       "version_minor": 0
      },
      "text/plain": [
       "  0%|          | 0/100 [00:00<?, ?it/s]"
      ]
     },
     "metadata": {},
     "output_type": "display_data"
    },
    {
     "name": "stdout",
     "output_type": "stream",
     "text": [
      "Total number of final states: (128211,)\n"
     ]
    },
    {
     "data": {
      "application/vnd.jupyter.widget-view+json": {
       "model_id": "880a118acde64e6db698359e4d38930c",
       "version_major": 2,
       "version_minor": 0
      },
      "text/plain": [
       "  0%|          | 0/3059 [00:00<?, ?it/s]"
      ]
     },
     "metadata": {},
     "output_type": "display_data"
    },
    {
     "data": {
      "application/vnd.jupyter.widget-view+json": {
       "model_id": "16b051cab3cf42c1bfb6a4e46c900664",
       "version_major": 2,
       "version_minor": 0
      },
      "text/plain": [
       "  0%|          | 0/3180 [00:00<?, ?it/s]"
      ]
     },
     "metadata": {},
     "output_type": "display_data"
    },
    {
     "name": "stdout",
     "output_type": "stream",
     "text": [
      "0.15 4\n",
      "CAREFUL: nan in prop, maybe because of to high values in potential\n"
     ]
    },
    {
     "data": {
      "application/vnd.jupyter.widget-view+json": {
       "model_id": "759c0ab3507f4e0f8a11429ca0f1e4f1",
       "version_major": 2,
       "version_minor": 0
      },
      "text/plain": [
       "  0%|          | 0/100 [00:00<?, ?it/s]"
      ]
     },
     "metadata": {},
     "output_type": "display_data"
    },
    {
     "name": "stdout",
     "output_type": "stream",
     "text": [
      "Total number of final states: (148163,)\n"
     ]
    },
    {
     "data": {
      "application/vnd.jupyter.widget-view+json": {
       "model_id": "3404d0492c2f4736915cfb0b20be81d2",
       "version_major": 2,
       "version_minor": 0
      },
      "text/plain": [
       "  0%|          | 0/3059 [00:00<?, ?it/s]"
      ]
     },
     "metadata": {},
     "output_type": "display_data"
    },
    {
     "data": {
      "application/vnd.jupyter.widget-view+json": {
       "model_id": "d1a0c745634e474490eaadf5f980612b",
       "version_major": 2,
       "version_minor": 0
      },
      "text/plain": [
       "  0%|          | 0/3180 [00:00<?, ?it/s]"
      ]
     },
     "metadata": {},
     "output_type": "display_data"
    },
    {
     "name": "stderr",
     "output_type": "stream",
     "text": [
      "/tmp/ipykernel_11263/1955762168.py:17: RuntimeWarning: invalid value encountered in divide\n",
      "  sim_p = sim_hists/np.sum(sim_hists, axis = 1)[:,None]\n"
     ]
    }
   ],
   "source": [
    "for i,ltau in enumerate(tqdm(ltaus)):\n",
    "    \n",
    "    \n",
    "    ldt = ltau/tau_frac if ltau > 0 else 5e-2\n",
    "    lntau = round(ltau/ldt)\n",
    "    \n",
    "    print(ldt, lntau)\n",
    "    prop = get_prop_abs_v2(x_s, force,D,ldt,dx, side = 'lr')\n",
    "    hists, unaltered_props, total_prob = get_hists_v4(N_t = N_t, N_x=N_x,ntau=lntau,i_zero=i_zero,prop=prop)\n",
    "    \n",
    "    \n",
    "    pos = simulate_traj(N_p=N_p, N_loop=1, N_t=(N_t+lntau+2)*f, ntau=lntau*f, s=s, dt=ldt/f,border=0, force=force)\n",
    "    all_pos = pos[0]\n",
    "    sim_hists = [np.histogram(all_pos[:,j], bins = bins)[0] for j in tqdm(range(all_pos.shape[-1]))]\n",
    " \n",
    "    sim_var = np.var(pos, axis = 1)\n",
    "    sim_p = sim_hists/np.sum(sim_hists, axis = 1)[:,None]\n",
    "    sim_hist_var = np.sum(sim_p*x_s[None,:]**2 - (sim_p*x_s[None,:])**2, axis = 1)\n",
    "    \n",
    "    num_p = hists[:,:]/np.sum(hists, axis = 1)[:,None]\n",
    "    num_var = np.sum(num_p*x_s[None,:]**2 - (num_p*x_s[None,:])**2, axis = 1)\n",
    "    \n",
    "    sim_vars[i] = np.mean(sim_var[0,-f*N_t//2:])\n",
    "    num_vars[i] = np.mean(num_var[-N_t//2:])\n",
    "    sim_hist_vars[i] = np.mean(sim_hist_var[-f*N_t//2:])\n",
    "\n",
    "    \n",
    "with open(f'nummeric_results/sim_vs_num_v4_emb{tau_frac}_x4.pkl', 'wb') as file:\n",
    "    pickle.dump({'ltaus':ltaus,\n",
    "                 'sim_vars':sim_vars,\n",
    "                 'sim_hist_vars':sim_hist_vars,\n",
    "                 'num_vars':num_vars\n",
    "                }, file)"
   ]
  },
  {
   "cell_type": "code",
   "execution_count": 14,
   "id": "6253c78d-d8eb-44f6-b0d6-d99563655c7b",
   "metadata": {},
   "outputs": [],
   "source": [
    "sim_vs_num_v4 = pickle.load(open('nummeric_results/sim_vs_num_v4_emb4_x4.pkl', 'rb'))\n",
    "ltaus = sim_vs_num_v4['ltaus']\n",
    "sim_vars = sim_vs_num_v4['sim_vars']\n",
    "num_vars = sim_vs_num_v4['num_vars']\n",
    "sim_hist_vars = sim_vs_num_v4['sim_hist_vars']"
   ]
  },
  {
   "cell_type": "code",
   "execution_count": 11,
   "id": "1434b158-512b-4d0a-b1f1-0357f59169a5",
   "metadata": {},
   "outputs": [],
   "source": [
    "short_time_approx_var = s**2/(2*k)*(1+k*ltaus)\n",
    "exact_sol = s**2/(2*k)*(1+np.sin(k*ltaus))/np.cos(k*ltaus)"
   ]
  },
  {
   "cell_type": "code",
   "execution_count": 19,
   "id": "86efdb78-1234-4073-841a-353339affdbb",
   "metadata": {},
   "outputs": [
    {
     "data": {
      "image/png": "[encoded data removed]",
      "text/plain": [
       "<Figure size 640x480 with 1 Axes>"
      ]
     },
     "metadata": {},
     "output_type": "display_data"
    }
   ],
   "source": [
    "ax = plt.subplot()\n",
    "#plt.plot(ltaus,sim_vars,'.-', label='sim')\n",
    "plt.plot(ltaus,sim_hist_vars,'.-', label='hist-sim')\n",
    "plt.plot(ltaus,num_vars,'.--', label='new algorithm')\n",
    "\n",
    "\n",
    "if False:\n",
    "    plt.plot(ltaus,short_time_approx_var ,'.-.',label='short time')\n",
    "    plt.plot(ltaus[:-1],exact_sol[:-1] ,'.-.',label='exact')\n",
    "\n",
    "    plt.ylim(1e-7,2e-5)\n",
    "    plt.vlines([1/np.e /k, np.pi/2/k],*plt.ylim(), color='black')\n",
    "    plt.text(0.5*1/np.e /k,              2e-7,'Regim I', ha='center', va='center')\n",
    "    plt.text(0.5*(1/np.e /k+  np.pi/2/k),2e-7,'Regim II',ha='center', va='center')\n",
    "    plt.text(1.1*(np.pi/2/k),            2e-7,'Regim III',ha='center', va='center')\n",
    "\n",
    "#plt.yscale('log')\n",
    "plt.legend()\n",
    "plt.xlabel(r'$\\tau$')\n",
    "plt.ylabel(r'$\\sigma^2$')\n",
    "plt.tight_layout()\n",
    "#plt.savefig('Graphic_Results/varianz_compare_x4.pdf')"
   ]
  },
  {
   "cell_type": "code",
   "execution_count": 21,
   "id": "1c754c6d-1bfc-4646-bcc8-aa637e8c20b8",
   "metadata": {},
   "outputs": [
    {
     "data": {
      "text/plain": [
       "<matplotlib.legend.Legend at 0x7fe8324b1ba0>"
      ]
     },
     "execution_count": 21,
     "metadata": {},
     "output_type": "execute_result"
    },
    {
     "data": {
      "image/png": "[encoded data removed]",
      "text/plain": [
       "<Figure size 640x480 with 1 Axes>"
      ]
     },
     "metadata": {},
     "output_type": "display_data"
    }
   ],
   "source": [
    "plt.plot(ltaus,num_vars/sim_hist_vars,'.-', label='v1')\n",
    "if False:\n",
    "    plt.plot(ltaus,short_time_approx_var/sim_hist_vars,'.-',label='short time')\n",
    "plt.ylim(0.5,1.5)\n",
    "plt.legend()"
   ]
  },
  {
   "cell_type": "code",
   "execution_count": null,
   "id": "dccae87b-c280-49a7-85db-ec9a149e5bba",
   "metadata": {},
   "outputs": [],
   "source": []
  }
 ],
 "metadata": {
  "kernelspec": {
   "display_name": "Python 3",
   "language": "python",
   "name": "python3"
  },
  "language_info": {
   "codemirror_mode": {
    "name": "ipython",
    "version": 3
   },
   "file_extension": ".py",
   "mimetype": "text/x-python",
   "name": "python",
   "nbconvert_exporter": "python",
   "pygments_lexer": "ipython3",
   "version": "3.10.6"
  }
 },
 "nbformat": 4,
 "nbformat_minor": 5
}
