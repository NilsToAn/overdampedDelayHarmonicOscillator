{
 "cells": [
  {
   "cell_type": "code",
   "execution_count": 24,
   "metadata": {},
   "outputs": [],
   "source": [
    "import numpy as np\n",
    "import matplotlib.pyplot as plt"
   ]
  },
  {
   "cell_type": "code",
   "execution_count": 25,
   "metadata": {},
   "outputs": [
    {
     "name": "stdout",
     "output_type": "stream",
     "text": [
      "[[ 1  2 34  5]\n",
      " [ 2  4 68 10]]\n",
      "[4. 4. 9. 1. 1.]\n"
     ]
    }
   ],
   "source": [
    "array1 = np.array([1,2,34,5])\n",
    "array2 = np.array([1,2])\n",
    "a1 = np.expand_dims(array1, axis=0)\n",
    "a2 = np.expand_dims(array2, axis=-1)\n",
    "\n",
    "print(a1*a2)\n",
    "\n",
    "\n",
    "res = np.empty(5)\n",
    "for i, o1 in enumerate([2,2,3,1]):\n",
    "    res[i] = o1**2\n",
    "\n",
    "print(res)\n",
    "\n",
    "i , (a,b) = 10, [12,24]"
   ]
  },
  {
   "cell_type": "code",
   "execution_count": 26,
   "metadata": {},
   "outputs": [],
   "source": [
    "states = np.empty((27,3),int)\n",
    "states[:,0] = np.array([0,1,2]).repeat(9)\n",
    "states[:,1] = np.array([0,1,2]*3).repeat(3)\n",
    "states[:,2] = np.array([0,1,2]*9)"
   ]
  },
  {
   "cell_type": "code",
   "execution_count": 27,
   "metadata": {},
   "outputs": [],
   "source": [
    "idxs = np.sum(states*np.arange(0,3)**3, axis = 1)"
   ]
  },
  {
   "cell_type": "code",
   "execution_count": 29,
   "metadata": {},
   "outputs": [],
   "source": [
    "histry_match = np.all(states[:,None,:-1] == states[None,:,1:], axis = 2)"
   ]
  },
  {
   "cell_type": "code",
   "execution_count": null,
   "metadata": {},
   "outputs": [],
   "source": []
  },
  {
   "cell_type": "code",
   "execution_count": null,
   "metadata": {},
   "outputs": [],
   "source": []
  }
 ],
 "metadata": {
  "kernelspec": {
   "display_name": "Python 3",
   "language": "python",
   "name": "python3"
  },
  "language_info": {
   "codemirror_mode": {
    "name": "ipython",
    "version": 3
   },
   "file_extension": ".py",
   "mimetype": "text/x-python",
   "name": "python",
   "nbconvert_exporter": "python",
   "pygments_lexer": "ipython3",
   "version": "3.10.6"
  }
 },
 "nbformat": 4,
 "nbformat_minor": 4
}
