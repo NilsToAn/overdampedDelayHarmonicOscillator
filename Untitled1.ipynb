{
 "cells": [
  {
   "cell_type": "code",
   "execution_count": 1,
   "metadata": {},
   "outputs": [],
   "source": [
    "import numpy as np"
   ]
  },
  {
   "cell_type": "code",
   "execution_count": 35,
   "metadata": {},
   "outputs": [],
   "source": [
    "array1 = np.array([1,2,34,5])\n",
    "array2 = np.array([1,2])\n",
    "a1 = np.expand_dims(array1, axis=0)\n",
    "a2 = np.expand_dims(array2, axis=-1)\n",
    "\n",
    "print(a1*a2)\n",
    "\n",
    "\n",
    "res = np.empty(5)\n",
    "for i, o1 in enumerate([2,2,3,1]):\n",
    "    res[i] = o1**2\n",
    "\n",
    "print(res)\n",
    "\n",
    "i , (a,b) = 10, [12,24]"
   ]
  },
  {
   "cell_type": "code",
   "execution_count": null,
   "metadata": {},
   "outputs": [],
   "source": []
  }
 ],
 "metadata": {
  "kernelspec": {
   "display_name": "Python 3",
   "language": "python",
   "name": "python3"
  },
  "language_info": {
   "codemirror_mode": {
    "name": "ipython",
    "version": 3
   },
   "file_extension": ".py",
   "mimetype": "text/x-python",
   "name": "python",
   "nbconvert_exporter": "python",
   "pygments_lexer": "ipython3",
   "version": "3.6.12"
  }
 },
 "nbformat": 4,
 "nbformat_minor": 4
}
