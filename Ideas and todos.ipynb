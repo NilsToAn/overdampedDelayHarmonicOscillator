{
 "cells": [
  {
   "cell_type": "markdown",
   "id": "830b033f-43b4-45b9-9d18-a1813377fa9e",
   "metadata": {},
   "source": [
    "### Role of D_t \n",
    "- Formular for D_t divergent for tau != 0.\n",
    "- Why ?\n",
    "- What is best replacment ?\n",
    "\n",
    "### Prediction for tau = 0\n",
    "- Seems to be right up to an factor of 3 ???\n",
    "- D_t approx D for this system ?\n",
    "\n",
    "### Prediction for tau != 0\n",
    "- no factor needed ??\n",
    "\n",
    "## Notes\n",
    "- Last experiments in the end of the notebook \"EscapeRate\", \"EscapeRae-mirrored, ..\" not adjused to new D_t\n",
    "- Different types of rates in escape notebooks, what is interessting , what is theorie"
   ]
  },
  {
   "cell_type": "code",
   "execution_count": null,
   "id": "bd8f1b42-2088-409a-b99a-a9310fd85dab",
   "metadata": {},
   "outputs": [],
   "source": []
  }
 ],
 "metadata": {
  "kernelspec": {
   "display_name": "Python 3",
   "language": "python",
   "name": "python3"
  },
  "language_info": {
   "codemirror_mode": {
    "name": "ipython",
    "version": 3
   },
   "file_extension": ".py",
   "mimetype": "text/x-python",
   "name": "python",
   "nbconvert_exporter": "python",
   "pygments_lexer": "ipython3",
   "version": "3.10.6"
  }
 },
 "nbformat": 4,
 "nbformat_minor": 5
}
