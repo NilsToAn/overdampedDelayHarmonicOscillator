{
 "cells": [
  {
   "cell_type": "code",
   "execution_count": 8,
   "id": "feeaf6e1-8f5e-4dfc-a933-5795158a0aab",
   "metadata": {},
   "outputs": [],
   "source": [
    "import torch \n",
    "tensor = torch.tensor\n",
    "import matplotlib.pyplot as plt"
   ]
  },
  {
   "cell_type": "code",
   "execution_count": 9,
   "id": "d7d1f06b-1ca3-427e-b8e8-cb4b6fcf2994",
   "metadata": {},
   "outputs": [],
   "source": [
    "a = tensor([0.,1,2,1,0], requires_grad = True)"
   ]
  },
  {
   "cell_type": "code",
   "execution_count": 10,
   "id": "dbf5b2a4-9747-4711-8f9e-6eae722fd46d",
   "metadata": {},
   "outputs": [],
   "source": [
    "prop = tensor([\n",
    "    [0.5,0,0,0,0.5],\n",
    "    [0.5,0.5,0,0,0],\n",
    "    [0,0.5,0.5,0,0],\n",
    "    [0,0,0.5,0.5,0],\n",
    "    [0,0,0,0.5,0.5]\n",
    "])"
   ]
  },
  {
   "cell_type": "code",
   "execution_count": 11,
   "id": "2095f570-1ee9-46ac-a29e-c36276e08bb9",
   "metadata": {},
   "outputs": [],
   "source": [
    "my_prob = prop@prop\n",
    "b = my_prob@a"
   ]
  },
  {
   "cell_type": "code",
   "execution_count": 12,
   "id": "fa3413c9-9c28-46f9-b10b-4aed7cab0814",
   "metadata": {},
   "outputs": [
    {
     "data": {
      "text/plain": [
       "tensor([0.2500, 0.2500, 1.0000, 1.5000, 1.0000], grad_fn=<MvBackward0>)"
      ]
     },
     "execution_count": 12,
     "metadata": {},
     "output_type": "execute_result"
    }
   ],
   "source": [
    "b"
   ]
  },
  {
   "cell_type": "code",
   "execution_count": 6,
   "id": "f7deb86e-0072-4205-be74-ea86302ab951",
   "metadata": {},
   "outputs": [],
   "source": [
    "old_cond_dist = my_prob*a.detach().numpy()\n",
    "old_cond_dist = old_cond_dist/ old_cond_dist.sum(axis=1)[:,None]"
   ]
  },
  {
   "cell_type": "code",
   "execution_count": 7,
   "id": "93d58404-c89f-4399-aa35-17b1e2cad46d",
   "metadata": {},
   "outputs": [
    {
     "data": {
      "text/plain": [
       "<matplotlib.image.AxesImage at 0x7fac272abfd0>"
      ]
     },
     "execution_count": 7,
     "metadata": {},
     "output_type": "execute_result"
    },
    {
     "data": {
      "image/png": "[encoded data removed]",
      "text/plain": [
       "<Figure size 640x480 with 1 Axes>"
      ]
     },
     "metadata": {},
     "output_type": "display_data"
    }
   ],
   "source": [
    "plt.imshow(old_cond_dist.numpy())"
   ]
  },
  {
   "cell_type": "code",
   "execution_count": 5,
   "id": "0ab9ef6a-9953-4fcb-af55-eb3efeb8aaff",
   "metadata": {},
   "outputs": [],
   "source": [
    "c = b[3]"
   ]
  },
  {
   "cell_type": "code",
   "execution_count": 6,
   "id": "c6a28ca6-6e74-45a5-8510-4f37b61bd02c",
   "metadata": {},
   "outputs": [],
   "source": [
    "c.backward()"
   ]
  },
  {
   "cell_type": "code",
   "execution_count": 7,
   "id": "195150cd-9ef1-42a5-a520-cfe2c8fdfb22",
   "metadata": {},
   "outputs": [
    {
     "data": {
      "text/plain": [
       "tensor([0.0000, 0.2500, 0.5000, 0.2500, 0.0000])"
      ]
     },
     "execution_count": 7,
     "metadata": {},
     "output_type": "execute_result"
    }
   ],
   "source": [
    "a.grad"
   ]
  },
  {
   "cell_type": "code",
   "execution_count": null,
   "id": "5a94cb24-424c-45e7-b7b8-55b3b7ef8e8f",
   "metadata": {},
   "outputs": [],
   "source": []
  }
 ],
 "metadata": {
  "kernelspec": {
   "display_name": "Python 3",
   "language": "python",
   "name": "python3"
  },
  "language_info": {
   "codemirror_mode": {
    "name": "ipython",
    "version": 3
   },
   "file_extension": ".py",
   "mimetype": "text/x-python",
   "name": "python",
   "nbconvert_exporter": "python",
   "pygments_lexer": "ipython3",
   "version": "3.10.6"
  }
 },
 "nbformat": 4,
 "nbformat_minor": 5
}
