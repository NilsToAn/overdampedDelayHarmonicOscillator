{
 "cells": [
  {
   "cell_type": "code",
   "execution_count": 1,
   "metadata": {},
   "outputs": [],
   "source": [
    "%load_ext autoreload\n",
    "%autoreload 2\n",
    "\n",
    "%matplotlib inline"
   ]
  },
  {
   "cell_type": "code",
   "execution_count": 2,
   "metadata": {},
   "outputs": [],
   "source": [
    "import numpy as np\n",
    "import matplotlib.pyplot as plt\n",
    "from ipywidgets import interact, interactive, fixed, interact_manual\n",
    "import ipywidgets as widgets\n",
    "\n",
    "from my_functions import get_mean_std, FokkerPlankCalculator\n"
   ]
  },
  {
   "cell_type": "code",
   "execution_count": 3,
   "metadata": {},
   "outputs": [],
   "source": [
    "my_fpc = FokkerPlankCalculator()"
   ]
  },
  {
   "cell_type": "code",
   "execution_count": 8,
   "metadata": {},
   "outputs": [],
   "source": [
    "def res_plotter_const(\n",
    "    tau = 200,\n",
    "    k = 1/200,\n",
    "    F_strength = 0.2,\n",
    "    max_t=5000):\n",
    "\n",
    "    def F(t):\n",
    "        return F_strength\n",
    "\n",
    "    F = np.vectorize(F)\n",
    "\n",
    "    mean, u_mean, std, u_std = get_mean_std(tau,k, F, max_t=max_t,num_particle=100)\n",
    "    ts = np.linspace(0,max_t,len(mean))\n",
    "\n",
    "    ts_fp, M_data, ts_fp_, v_fp, l_data, F_data = my_fpc.get_fp_mean_std(tau,k,max_t,get_F=F)\n",
    "    plt.plot(ts-tau,mean)\n",
    "    plt.ylim(*plt.ylim())\n",
    "    plt.plot(ts_fp_, M_data)"
   ]
  },
  {
   "cell_type": "code",
   "execution_count": 10,
   "metadata": {},
   "outputs": [
    {
     "data": {
      "application/vnd.jupyter.widget-view+json": {
       "model_id": "78dc184b57314c1db1179bcaef3b8fa0",
       "version_major": 2,
       "version_minor": 0
      },
      "text/plain": [
       "interactive(children=(IntSlider(value=200, description='tau', max=600, min=-200), FloatSlider(value=0.005, des…"
      ]
     },
     "metadata": {},
     "output_type": "display_data"
    }
   ],
   "source": [
    "interact(res_plotter_const, k=(0,0.1,0.01));"
   ]
  },
  {
   "cell_type": "code",
   "execution_count": 6,
   "metadata": {},
   "outputs": [],
   "source": [
    "def res_plotter_osz(\n",
    "    tau = 200,\n",
    "    k = 1/200,\n",
    "    F_strength = 0.2,\n",
    "    max_t=5000,\n",
    "    f= 1/200):\n",
    "\n",
    "    def F(t):\n",
    "        return F_strength*np.sin(f*t)\n",
    "\n",
    "    F = np.vectorize(F)\n",
    "\n",
    "    mean, u_mean, std, u_std = get_mean_std(tau,k, F, max_t=max_t)\n",
    "    ts = np.linspace(0,max_t,len(mean))\n",
    "\n",
    "    ts_fp, M_data, ts_fp_, v_fp, l_data, F_data = my_fpc.get_fp_mean_std(tau,k,max_t,get_F=F)\n",
    "    plt.plot(ts-tau,mean)\n",
    "    plt.ylim(-80,80)\n",
    "    plt.plot(ts_fp_, M_data)"
   ]
  },
  {
   "cell_type": "code",
   "execution_count": 7,
   "metadata": {},
   "outputs": [
    {
     "data": {
      "application/vnd.jupyter.widget-view+json": {
       "model_id": "e98a4012e4ce46b891dbfb1351fc9df8",
       "version_major": 2,
       "version_minor": 0
      },
      "text/plain": [
       "interactive(children=(IntSlider(value=200, description='tau', max=600, min=-200), FloatSlider(value=0.005, des…"
      ]
     },
     "metadata": {},
     "output_type": "display_data"
    }
   ],
   "source": [
    "interact(res_plotter_osz, f=(0.0,0.1,0.001));"
   ]
  },
  {
   "cell_type": "code",
   "execution_count": null,
   "metadata": {},
   "outputs": [],
   "source": []
  }
 ],
 "metadata": {
  "kernelspec": {
   "display_name": "Python 3",
   "language": "python",
   "name": "python3"
  },
  "language_info": {
   "codemirror_mode": {
    "name": "ipython",
    "version": 3
   },
   "file_extension": ".py",
   "mimetype": "text/x-python",
   "name": "python",
   "nbconvert_exporter": "python",
   "pygments_lexer": "ipython3",
   "version": "3.10.6"
  }
 },
 "nbformat": 4,
 "nbformat_minor": 4
}
