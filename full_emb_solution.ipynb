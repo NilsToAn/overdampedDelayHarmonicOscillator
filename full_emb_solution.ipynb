{
 "cells": [
  {
   "cell_type": "code",
   "execution_count": 1,
   "id": "b6047687-2d3a-48e3-b627-59084ec7cc76",
   "metadata": {},
   "outputs": [],
   "source": [
    "%load_ext autoreload\n",
    "%autoreload 2\n",
    "%matplotlib inline\n",
    "\n",
    "import sys\n",
    "import numpy as np\n",
    "import matplotlib.pyplot as plt\n",
    "from scipy.linalg import expm\n",
    "from tqdm.notebook import tqdm\n",
    "import pickle\n",
    "import timeit\n",
    "from td_algorithm_funcs import get_prop_v2, get_prop_abs_v2, get_rate, simulate_traj\n",
    "\n",
    "from scipy.sparse import dok_array, csr_array, coo_array"
   ]
  },
  {
   "cell_type": "code",
   "execution_count": 199,
   "id": "470c8438-7f95-447d-9c1a-b661065a7289",
   "metadata": {},
   "outputs": [],
   "source": [
    "def get_prop_abs_v3(x_s, force, D,dt,dx, N_border=None, side = 'r'):\n",
    "    # x(t-tau), x(t), res\n",
    "    N_x = len(x_s)\n",
    "    half_x_s = np.arange(x_s[0],x_s[-1]+dx/4,dx/2)\n",
    "    \n",
    "    \n",
    "    \n",
    "    R_abs = np.zeros(( len(half_x_s),N_x, N_x))\n",
    "    \n",
    "    F = force(half_x_s)\n",
    "    lp = D / dx**2 * np.exp((F*dx/D)/2)  # r_i->i+1\n",
    "    ln = D / dx**2 * np.exp(-(F*dx/D)/2)  # r_i+1->i\n",
    "    if side == 'r':\n",
    "        if N_border is None:\n",
    "            N_border = N_x\n",
    "        R_abs[:,0,0] = -lp\n",
    "        R_abs[:,np.arange(1,N_border),np.arange(1,N_border)] = -(lp[:,None]+ln[:,None]) # -(r_i->i+1 + r_i->i-1) ????\n",
    "        R_abs[:,np.arange(0,N_border-1),np.arange(1,N_border)] = ln[:,None]\n",
    "        R_abs[:,np.arange(1,N_border),np.arange(0,N_border-1)] = lp[:,None]\n",
    "    elif side == 'l':\n",
    "        if N_border is None:\n",
    "            N_border = 0\n",
    "        R_abs[:,-1,-1] = -ln\n",
    "        R_abs[:,np.arange(N_border,N_x-1),np.arange(N_border,N_x-1)] = -(lp[:,None]+ln[:,None]) # -(r_i->i+1 + r_i->i-1) ????\n",
    "        R_abs[:,np.arange(N_border,N_x-1),np.arange(N_border+1,N_x)] = ln[:,None]\n",
    "        R_abs[:,np.arange(N_border+1,N_x),np.arange(N_border,N_x-1)] = lp[:,None]\n",
    "    elif side == 'lr':\n",
    "        if N_border is not None:\n",
    "            print('for lr N_border is ignored')\n",
    "        R_abs[:,np.arange(0,N_x),np.arange(0,N_x)] = -(lp[:,None]+ln[:,None]) # -(r_i->i+1 + r_i->i-1) ????\n",
    "        R_abs[:,np.arange(0,N_x-1),np.arange(1,N_x)] = ln[:,None]\n",
    "        R_abs[:,np.arange(1,N_x),np.arange(0,N_x-1)] = lp[:,None]\n",
    "    \n",
    "    prop_parts = expm(R_abs*dt/4, )\n",
    "    \n",
    "    prop_abs = np.empty((N_x,N_x,N_x,N_x))\n",
    "    a,b = np.meshgrid(np.arange(N_x),np.arange(N_x))\n",
    "    prop_abs[a,b] = prop_parts[2*a] @ prop_parts[a+b]@prop_parts[a+b]@prop_parts[2*b]\n",
    "    \n",
    "    \n",
    "    if np.any(np.isnan(prop_abs)):\n",
    "        print('CAREFUL: nan in prop, maybe because of to high values in potential')\n",
    "    return prop_abs\n",
    "\n",
    "def create_R(N_x, ntau, prop):\n",
    "    all_states = np.arange(0, N_x**(ntau+1))\n",
    "\n",
    "    # staetes # 1 * x(t-tau), N_x*x(t-tau1+1dt), ... , N_x**ntau * x(t)\n",
    "\n",
    "    lm = all_states%N_x + (all_states//N_x)%N_x  #mean t-tau state\n",
    "    lt = all_states//N_x**(ntau)             # t state\n",
    "    all_next_states = (all_states//N_x)[:,None] + ((N_x**ntau)*(np.arange(0,N_x)))[None,:]\n",
    "\n",
    "    R = np.zeros((N_x**(ntau+1),N_x**(ntau+1)))\n",
    "    R[all_next_states, all_states[:,None].repeat(N_x, axis=1)] = prop[lm,:,lt]\n",
    "\n",
    "    end_states = np.stack([all_states[all_states//N_x**ntau == i] for i in range(N_x)])\n",
    "    return R, all_states, end_states\n",
    "\n",
    "def create_R_v1(N_x, ntau, prop):\n",
    "    all_states = np.arange(0, N_x**(ntau+1))\n",
    "\n",
    "    # staetes # 1 * x(t-tau), N_x*x(t-tau1+1dt), ... , N_x**ntau * x(t)\n",
    "\n",
    "    lm = all_states%N_x + (all_states//N_x)%N_x  #mean t-tau state\n",
    "    lt = all_states//N_x**(ntau)             # t state\n",
    "    all_next_states = (all_states//N_x)[:,None] + ((N_x**ntau)*(np.arange(0,N_x)))[None,:]\n",
    "\n",
    "    R = coo_array( (prop[lm,:,lt].flatten(),\n",
    "                    ( all_next_states.flatten(), all_states.repeat(N_x))) \n",
    "                  , shape = (N_x**(ntau+1),N_x**(ntau+1)))\n",
    "    \n",
    "    R = csr_array(R)\n",
    "    end_states = np.stack([all_states[all_states//N_x**ntau == i] for i in range(N_x)])\n",
    "    return R, all_states, end_states\n",
    "\n",
    "def create_R_v2(N_x, ntau, prop):\n",
    "    all_states = np.arange(0, N_x**(ntau+1))\n",
    "\n",
    "    # staetes # 1 * x(t-tau), N_x*x(t-tau1+1dt), ... , N_x**ntau * x(t)\n",
    "\n",
    "    lm1 = all_states%N_x  # t-tau state\n",
    "    lm2 = (all_states//N_x)%N_x #t-tau+1 state\n",
    "    lt = all_states//N_x**(ntau)             # t state\n",
    "    all_next_states = (all_states//N_x)[:,None] + ((N_x**ntau)*(np.arange(0,N_x)))[None,:]\n",
    "\n",
    "    #R = np.zeros((N_x**(ntau+1),N_x**(ntau+1)))\n",
    "    #R[all_next_states, all_states[:,None].repeat(N_x, axis=1)] = prop[lm1,lm2,:,lt]\n",
    "    R = coo_array( (prop[lm1,lm2,:,lt].flatten(),\n",
    "                    ( all_next_states.flatten(), all_states.repeat(N_x))) \n",
    "                  , shape = (N_x**(ntau+1),N_x**(ntau+1)))\n",
    "    \n",
    "    R = csr_array(R)\n",
    "    end_states = np.stack([all_states[all_states//N_x**ntau == i] for i in range(N_x)])\n",
    "    return R, all_states, end_states\n",
    "\n",
    "def get_dyn(R, i_zero, N_t, N_x, ntau, end_states):\n",
    "    initial_state = np.sum(i_zero*(N_x**np.arange(0,ntau+1)))\n",
    "    p = np.zeros(N_x**(ntau+1), dtype = float)\n",
    "    p[initial_state] = 1.\n",
    "\n",
    "    res = np.empty((N_t, len(p)))\n",
    "    res[0] = p\n",
    "    for i in tqdm(range(1,N_t)):\n",
    "        res[i] = R@res[i-1]\n",
    "    \n",
    "    one_time_p = np.sum(res[:, end_states], axis = 2)\n",
    "    return res, one_time_p\n",
    "\n",
    "\n",
    "def get_dyn_v2(R, i_zero, N_t,N_x, ntau, end_states):\n",
    "    initial_state = np.sum(i_zero*(N_x**np.arange(0,ntau+1)))\n",
    "    p = np.zeros(N_x**(ntau+1), dtype = float)\n",
    "    p[initial_state] = 1.\n",
    "    one_time_p = np.empty((N_t,N_x))\n",
    "    one_time_p[0] = np.sum(p[end_states], axis = 1)\n",
    "    for i in tqdm(range(1,N_t)):\n",
    "        p = R@p\n",
    "        one_time_p[i] = np.sum(p[end_states], axis = 1)\n",
    "    \n",
    "    return p, one_time_p\n",
    "\n",
    "\n",
    "def get_p_x4_short_time(x,k,tau,s):\n",
    "    ga = s*(1+3*tau*k*x**2)\n",
    "    p_not_notmed = np.exp(-x**2/(3*tau*s**2)+(1-18*tau**2*k*s**2)/(9*tau**2*k*s**2)*np.log(1+3*tau*k*x**2))\n",
    "    return p_not_notmed/np.sum(p_not_notmed)"
   ]
  },
  {
   "cell_type": "markdown",
   "id": "021ccbdd-fdc4-4945-9270-410799b22662",
   "metadata": {
    "tags": []
   },
   "source": [
    "# One example"
   ]
  },
  {
   "cell_type": "code",
   "execution_count": 217,
   "id": "780d01e6-8ae4-469a-b9ce-9098414202e1",
   "metadata": {},
   "outputs": [],
   "source": [
    "# k = 1\n",
    "# tau = 0.5\n",
    "# D = 1/2\n",
    "# s = np.sqrt(2*D)\n",
    "# N_t = 100\n",
    "# dt = tau/4 if tau > 0 else 5e-2\n",
    "# dx = 1/2\n",
    "#sb = 20\n",
    "\n",
    "k = 3\n",
    "tau = 0.2\n",
    "D = 1e-6\n",
    "s = np.sqrt(2*D)\n",
    "N_t = 200\n",
    "dt = tau/3 if tau > 0 else 5e-2\n",
    "dx = 3e-4 #1e-4\n",
    "sb = 15*dx#0.005\n",
    "\n",
    "f = 15\n",
    "N_p = 20_000\n",
    "\n",
    "\n",
    "ntau = round(tau/dt)\n",
    "ts = np.arange(0,N_t)*dt\n",
    "ts_r = ts[1:]\n",
    "\n",
    "\n",
    "# jump over zero as x point\n",
    "x_s = np.arange(-sb,sb+1e-6,dx)\n",
    "bins = np.arange(-sb-dx/2,sb+dx/2+1e-5,dx)\n",
    "N_x = len(x_s)\n",
    "\n",
    "# border = 0\n",
    "# def force(x,*args):\n",
    "#      return -k*x\n",
    "\n",
    "border = 0\n",
    "def force(x,*args):\n",
    "    return -k*x**3*1e6\n",
    "\n",
    "# v_min = -2e-6\n",
    "# border = 0.0015\n",
    "# def force(x):\n",
    "#     a = -v_min/border**4\n",
    "#     b = -2*v_min/border**2\n",
    "#     return -4*a*x**3+2*b*x\n",
    "\n",
    "i_zero = np.argmin((x_s+border)**2)"
   ]
  },
  {
   "cell_type": "code",
   "execution_count": 218,
   "id": "34be2516-4a4a-490b-a971-a22f3630ead3",
   "metadata": {},
   "outputs": [
    {
     "data": {
      "text/plain": [
       "((61, 31, 31), (31, 31, 31, 31))"
      ]
     },
     "execution_count": 218,
     "metadata": {},
     "output_type": "execute_result"
    }
   ],
   "source": [
    "prop = get_prop_abs_v2(x_s,force, D, dt, dx, side = 'lr')\n",
    "prop2 = get_prop_abs_v3(x_s,force, D, dt, dx, side = 'lr')\n",
    "prop.shape, prop2.shape"
   ]
  },
  {
   "cell_type": "code",
   "execution_count": 219,
   "id": "7ddcaf63-a374-4ddf-a479-02cc3b973bb2",
   "metadata": {},
   "outputs": [
    {
     "data": {
      "text/plain": [
       "887503681"
      ]
     },
     "execution_count": 219,
     "metadata": {},
     "output_type": "execute_result"
    }
   ],
   "source": [
    "N_x**6"
   ]
  },
  {
   "cell_type": "code",
   "execution_count": 220,
   "id": "03836eee-9964-4028-9bee-54cdfcedd01d",
   "metadata": {},
   "outputs": [
    {
     "data": {
      "text/plain": [
       "(923521, 923521)"
      ]
     },
     "execution_count": 220,
     "metadata": {},
     "output_type": "execute_result"
    }
   ],
   "source": [
    "R, all_states, end_states = create_R_v1(N_x, ntau, prop)\n",
    "R2, _, end_states = create_R_v2(N_x, ntau, prop2)\n",
    "R2.shape"
   ]
  },
  {
   "cell_type": "code",
   "execution_count": 221,
   "id": "f3301eea-d9c2-4cde-94a5-b6bcf74ebecf",
   "metadata": {},
   "outputs": [
    {
     "data": {
      "application/vnd.jupyter.widget-view+json": {
       "model_id": "925ccaae3aff4040b5955366b2337260",
       "version_major": 2,
       "version_minor": 0
      },
      "text/plain": [
       "  0%|          | 0/199 [00:00<?, ?it/s]"
      ]
     },
     "metadata": {},
     "output_type": "display_data"
    },
    {
     "data": {
      "application/vnd.jupyter.widget-view+json": {
       "model_id": "09be5f29798a4849b7ea616765be9496",
       "version_major": 2,
       "version_minor": 0
      },
      "text/plain": [
       "  0%|          | 0/199 [00:00<?, ?it/s]"
      ]
     },
     "metadata": {},
     "output_type": "display_data"
    }
   ],
   "source": [
    "res, one_time_p = get_dyn_v2(R, i_zero, N_t,N_x, ntau, end_states)\n",
    "res2, one_time_p2 = get_dyn_v2(R2, i_zero, N_t,N_x, ntau, end_states)"
   ]
  },
  {
   "cell_type": "code",
   "execution_count": 222,
   "id": "62c4f5bd-2fc6-497d-8c09-431de9bfe84e",
   "metadata": {},
   "outputs": [
    {
     "data": {
      "application/vnd.jupyter.widget-view+json": {
       "model_id": "ba947492186b4e40a3de29ef2efd7411",
       "version_major": 2,
       "version_minor": 0
      },
      "text/plain": [
       "  0%|          | 0/3029 [00:00<?, ?it/s]"
      ]
     },
     "metadata": {},
     "output_type": "display_data"
    },
    {
     "name": "stderr",
     "output_type": "stream",
     "text": [
      "/tmp/ipykernel_25598/1133333883.py:39: RuntimeWarning: overflow encountered in multiply\n",
      "  return -k*x**3*1e6\n",
      "/tmp/ipykernel_25598/1133333883.py:39: RuntimeWarning: overflow encountered in power\n",
      "  return -k*x**3*1e6\n"
     ]
    },
    {
     "data": {
      "application/vnd.jupyter.widget-view+json": {
       "model_id": "8b1b6e942be84c0ab9493b184feb0398",
       "version_major": 2,
       "version_minor": 0
      },
      "text/plain": [
       "  0%|          | 0/3075 [00:00<?, ?it/s]"
      ]
     },
     "metadata": {},
     "output_type": "display_data"
    }
   ],
   "source": [
    "pos = simulate_traj(N_p=N_p, N_loop=1, N_t=(N_t+ntau+2)*f, ntau=ntau*f, s=s, dt=dt/f,border=border, force=force)\n",
    "all_pos = pos[0]\n",
    "sim_hists = np.stack([np.histogram(all_pos[:,j], bins = bins)[0] for j in tqdm(range(all_pos.shape[-1]))])\n",
    "sim_ts = np.arange(0, len(all_pos[0]))*dt/f -tau"
   ]
  },
  {
   "cell_type": "code",
   "execution_count": 223,
   "id": "e42acfbc-3c0f-4fed-a4f0-e18508dddc1c",
   "metadata": {},
   "outputs": [],
   "source": [
    "short_time_p = get_p_x4_short_time(x_s, k*1e6,tau,s)"
   ]
  },
  {
   "cell_type": "code",
   "execution_count": 226,
   "id": "f7084b8c-55dd-4538-84bc-1b92f913434e",
   "metadata": {},
   "outputs": [
    {
     "data": {
      "text/plain": [
       "<matplotlib.legend.Legend at 0x7f1473f103a0>"
      ]
     },
     "execution_count": 226,
     "metadata": {},
     "output_type": "execute_result"
    },
    {
     "data": {
      "image/png": "[encoded data removed]",
      "text/plain": [
       "<Figure size 640x480 with 1 Axes>"
      ]
     },
     "metadata": {},
     "output_type": "display_data"
    }
   ],
   "source": [
    "idx = 150\n",
    "plt.plot(x_s,sim_hists[f*(idx+ntau)]/sim_hists[f*(idx+ntau)].sum(),'.-', label='sim')\n",
    "plt.plot(x_s,one_time_p[idx]/one_time_p[idx].sum(),'.--', label='num')\n",
    "plt.plot(x_s,short_time_p, label='short time')\n",
    "plt.plot(x_s,one_time_p2[idx]/one_time_p2[idx].sum(),'.--', label='full2')\n",
    "plt.yscale('log')\n",
    "plt.ylim(1e-7, plt.ylim()[1])\n",
    "plt.legend()"
   ]
  },
  {
   "cell_type": "code",
   "execution_count": 214,
   "id": "90005b61-e1ce-4dfb-a9b3-36f2280c7475",
   "metadata": {},
   "outputs": [],
   "source": [
    "### sim_var = np.var(pos, axis = 1)\n",
    "sim_p = sim_hists/np.sum(sim_hists, axis = 1)[:,None]\n",
    "sim_hist_var = np.sum(sim_p*x_s[None,:]**2 - (sim_p*x_s[None,:])**2, axis = 1)\n",
    "\n",
    "num_p = one_time_p[:,:]/np.sum(one_time_p, axis = 1)[:,None]\n",
    "num_var = np.sum(num_p*x_s[None,:]**2 - (num_p*x_s[None,:])**2, axis = 1)\n",
    "\n",
    "num_p2 = one_time_p2[:,:]/np.sum(one_time_p2, axis = 1)[:,None]\n",
    "num_var2 = np.sum(num_p2*x_s[None,:]**2 - (num_p2*x_s[None,:])**2, axis = 1)\n",
    "\n",
    "short_time_var = np.sum(short_time_p*x_s[None,:]**2 - (short_time_p*x_s[None,:])**2, axis = 1)"
   ]
  },
  {
   "cell_type": "code",
   "execution_count": 215,
   "id": "5a1fd330-1266-46c7-8e37-3081a353212d",
   "metadata": {},
   "outputs": [
    {
     "data": {
      "text/plain": [
       "[<matplotlib.lines.Line2D at 0x7f14744594e0>]"
      ]
     },
     "execution_count": 215,
     "metadata": {},
     "output_type": "execute_result"
    },
    {
     "data": {
      "image/png": "[encoded data removed]",
      "text/plain": [
       "<Figure size 640x480 with 1 Axes>"
      ]
     },
     "metadata": {},
     "output_type": "display_data"
    }
   ],
   "source": [
    "plt.plot(sim_ts,np.sum(sim_hists, axis = 1)/N_p)\n",
    "plt.plot(ts,np.sum(one_time_p, axis = 1))\n",
    "plt.plot(ts,np.sum(one_time_p2, axis = 1))"
   ]
  },
  {
   "cell_type": "code",
   "execution_count": 192,
   "id": "d501fc31-1981-4578-b72a-fb61090043fd",
   "metadata": {},
   "outputs": [
    {
     "data": {
      "text/plain": [
       "<matplotlib.legend.Legend at 0x7f14748770d0>"
      ]
     },
     "execution_count": 192,
     "metadata": {},
     "output_type": "execute_result"
    },
    {
     "data": {
      "image/png": "[encoded data removed]",
      "text/plain": [
       "<Figure size 640x480 with 1 Axes>"
      ]
     },
     "metadata": {},
     "output_type": "display_data"
    }
   ],
   "source": [
    "#plt.plot(sim_ts,sim_var[0], label='sim')\n",
    "plt.plot(sim_ts,sim_hist_var, label='sim hist')\n",
    "plt.plot(ts, num_var, label='v1', ls = '--')\n",
    "plt.plot(ts, num_var2, label='v2', ls = '--')\n",
    "#plt.xlim(0,2)\n",
    "plt.hlines(short_time_var,ts[0],ts[-1],ls='--', label='short time')\n",
    "plt.legend()"
   ]
  },
  {
   "cell_type": "code",
   "execution_count": 193,
   "id": "47c64439-d412-4d96-9e3d-108b27d006d1",
   "metadata": {},
   "outputs": [
    {
     "data": {
      "text/plain": [
       "[<matplotlib.lines.Line2D at 0x7f14747234f0>]"
      ]
     },
     "execution_count": 193,
     "metadata": {},
     "output_type": "execute_result"
    },
    {
     "data": {
      "image/png": "[encoded data removed]",
      "text/plain": [
       "<Figure size 640x480 with 1 Axes>"
      ]
     },
     "metadata": {},
     "output_type": "display_data"
    }
   ],
   "source": [
    "plt.plot(sim_ts, np.sum(sim_hists[:,x_s > 0], axis = 1)/np.sum(sim_hists, axis = 1))\n",
    "plt.plot(ts, np.sum(one_time_p[:,x_s > 0], axis = 1)/np.sum(one_time_p, axis = 1),'--')"
   ]
  },
  {
   "cell_type": "markdown",
   "id": "4fbba8c0-67c9-4854-95bb-cc01cf597a51",
   "metadata": {
    "tags": []
   },
   "source": [
    "# The Loop"
   ]
  },
  {
   "cell_type": "code",
   "execution_count": 153,
   "id": "2b49f3c5-a6fc-4fda-9336-c2b09673a182",
   "metadata": {},
   "outputs": [
    {
     "data": {
      "application/vnd.jupyter.widget-view+json": {
       "model_id": "ced4fc805bcf4f89864f309e1f579432",
       "version_major": 2,
       "version_minor": 0
      },
      "text/plain": [
       "  0%|          | 0/8 [00:00<?, ?it/s]"
      ]
     },
     "metadata": {},
     "output_type": "display_data"
    },
    {
     "name": "stdout",
     "output_type": "stream",
     "text": [
      "0.0033333333333333335 3\n"
     ]
    },
    {
     "data": {
      "application/vnd.jupyter.widget-view+json": {
       "model_id": "0e154f0a8cca4fab85d0bfe94b5f0f01",
       "version_major": 2,
       "version_minor": 0
      },
      "text/plain": [
       "  0%|          | 0/99 [00:00<?, ?it/s]"
      ]
     },
     "metadata": {},
     "output_type": "display_data"
    },
    {
     "data": {
      "application/vnd.jupyter.widget-view+json": {
       "model_id": "383b30a0760743dc8013ab1cab3deebc",
       "version_major": 2,
       "version_minor": 0
      },
      "text/plain": [
       "  0%|          | 0/3059 [00:00<?, ?it/s]"
      ]
     },
     "metadata": {},
     "output_type": "display_data"
    },
    {
     "data": {
      "application/vnd.jupyter.widget-view+json": {
       "model_id": "a121f4b11ee8437fbb6ac52e6da47acb",
       "version_major": 2,
       "version_minor": 0
      },
      "text/plain": [
       "  0%|          | 0/3150 [00:00<?, ?it/s]"
      ]
     },
     "metadata": {},
     "output_type": "display_data"
    },
    {
     "name": "stdout",
     "output_type": "stream",
     "text": [
      "0.016666666666666666 3\n"
     ]
    },
    {
     "data": {
      "application/vnd.jupyter.widget-view+json": {
       "model_id": "0414391e7f434fd8a66de0be18e4a9ca",
       "version_major": 2,
       "version_minor": 0
      },
      "text/plain": [
       "  0%|          | 0/99 [00:00<?, ?it/s]"
      ]
     },
     "metadata": {},
     "output_type": "display_data"
    },
    {
     "data": {
      "application/vnd.jupyter.widget-view+json": {
       "model_id": "429e10b7b47a451f854f9702f046519d",
       "version_major": 2,
       "version_minor": 0
      },
      "text/plain": [
       "  0%|          | 0/3059 [00:00<?, ?it/s]"
      ]
     },
     "metadata": {},
     "output_type": "display_data"
    },
    {
     "data": {
      "application/vnd.jupyter.widget-view+json": {
       "model_id": "c96ccf07350544b98798e6a3b5b1c1ba",
       "version_major": 2,
       "version_minor": 0
      },
      "text/plain": [
       "  0%|          | 0/3150 [00:00<?, ?it/s]"
      ]
     },
     "metadata": {},
     "output_type": "display_data"
    },
    {
     "name": "stdout",
     "output_type": "stream",
     "text": [
      "0.03333333333333333 3\n"
     ]
    },
    {
     "data": {
      "application/vnd.jupyter.widget-view+json": {
       "model_id": "d3bf8d6e58b44f17abcac38a7703ae85",
       "version_major": 2,
       "version_minor": 0
      },
      "text/plain": [
       "  0%|          | 0/99 [00:00<?, ?it/s]"
      ]
     },
     "metadata": {},
     "output_type": "display_data"
    },
    {
     "data": {
      "application/vnd.jupyter.widget-view+json": {
       "model_id": "6789ec6788c44c6796ff987327b1f8d4",
       "version_major": 2,
       "version_minor": 0
      },
      "text/plain": [
       "  0%|          | 0/3059 [00:00<?, ?it/s]"
      ]
     },
     "metadata": {},
     "output_type": "display_data"
    },
    {
     "name": "stderr",
     "output_type": "stream",
     "text": [
      "/tmp/ipykernel_25598/570000416.py:26: RuntimeWarning: overflow encountered in multiply\n",
      "  return -k*x**3*1e6\n",
      "/tmp/ipykernel_25598/570000416.py:26: RuntimeWarning: overflow encountered in power\n",
      "  return -k*x**3*1e6\n",
      "/home/nils/Programmieren/overdampedDelayHarmonicOscillator/td_algorithm_funcs.py:92: RuntimeWarning: invalid value encountered in add\n",
      "  pos[:,:,i] = pos[:,:,i-1] + vel[:,:,i-1]*dt\n"
     ]
    },
    {
     "data": {
      "application/vnd.jupyter.widget-view+json": {
       "model_id": "16ddd80565a642118e468e7928841b9c",
       "version_major": 2,
       "version_minor": 0
      },
      "text/plain": [
       "  0%|          | 0/3150 [00:00<?, ?it/s]"
      ]
     },
     "metadata": {},
     "output_type": "display_data"
    },
    {
     "name": "stderr",
     "output_type": "stream",
     "text": [
      "/home/nils/anaconda3/envs/kroy/lib/python3.10/site-packages/numpy/core/_methods.py:213: RuntimeWarning: invalid value encountered in reduce\n",
      "  arrmean = umr_sum(arr, axis, dtype, keepdims=True, where=where)\n",
      "/home/nils/anaconda3/envs/kroy/lib/python3.10/site-packages/numpy/core/_methods.py:233: RuntimeWarning: invalid value encountered in subtract\n",
      "  x = asanyarray(arr - arrmean)\n",
      "/home/nils/anaconda3/envs/kroy/lib/python3.10/site-packages/numpy/core/_methods.py:236: RuntimeWarning: overflow encountered in multiply\n",
      "  x = um.multiply(x, x, out=x)\n"
     ]
    },
    {
     "name": "stdout",
     "output_type": "stream",
     "text": [
      "0.06666666666666667 3\n"
     ]
    },
    {
     "data": {
      "application/vnd.jupyter.widget-view+json": {
       "model_id": "073625eaf5e94d5ca756b8a5c0c5e411",
       "version_major": 2,
       "version_minor": 0
      },
      "text/plain": [
       "  0%|          | 0/99 [00:00<?, ?it/s]"
      ]
     },
     "metadata": {},
     "output_type": "display_data"
    },
    {
     "data": {
      "application/vnd.jupyter.widget-view+json": {
       "model_id": "94a9ec7eca844a59b9a53f6aa40be5b0",
       "version_major": 2,
       "version_minor": 0
      },
      "text/plain": [
       "  0%|          | 0/3059 [00:00<?, ?it/s]"
      ]
     },
     "metadata": {},
     "output_type": "display_data"
    },
    {
     "data": {
      "application/vnd.jupyter.widget-view+json": {
       "model_id": "51ddf13ac317429f97e895fd097bbcdf",
       "version_major": 2,
       "version_minor": 0
      },
      "text/plain": [
       "  0%|          | 0/3150 [00:00<?, ?it/s]"
      ]
     },
     "metadata": {},
     "output_type": "display_data"
    },
    {
     "name": "stderr",
     "output_type": "stream",
     "text": [
      "/home/nils/anaconda3/envs/kroy/lib/python3.10/site-packages/numpy/core/_methods.py:247: RuntimeWarning: overflow encountered in reduce\n",
      "  ret = umr_sum(x, axis, dtype, out, keepdims=keepdims, where=where)\n"
     ]
    },
    {
     "name": "stdout",
     "output_type": "stream",
     "text": [
      "0.09999999999999999 3\n"
     ]
    },
    {
     "data": {
      "application/vnd.jupyter.widget-view+json": {
       "model_id": "a00609d2ddd34a829c611eaa19872ba9",
       "version_major": 2,
       "version_minor": 0
      },
      "text/plain": [
       "  0%|          | 0/99 [00:00<?, ?it/s]"
      ]
     },
     "metadata": {},
     "output_type": "display_data"
    },
    {
     "data": {
      "application/vnd.jupyter.widget-view+json": {
       "model_id": "e0d30a6521224eab9abe01d674f7fc4d",
       "version_major": 2,
       "version_minor": 0
      },
      "text/plain": [
       "  0%|          | 0/3059 [00:00<?, ?it/s]"
      ]
     },
     "metadata": {},
     "output_type": "display_data"
    },
    {
     "data": {
      "application/vnd.jupyter.widget-view+json": {
       "model_id": "f1131b97f04a4ee9a88c398e01391be7",
       "version_major": 2,
       "version_minor": 0
      },
      "text/plain": [
       "  0%|          | 0/3150 [00:00<?, ?it/s]"
      ]
     },
     "metadata": {},
     "output_type": "display_data"
    },
    {
     "name": "stdout",
     "output_type": "stream",
     "text": [
      "0.13333333333333333 3\n"
     ]
    },
    {
     "data": {
      "application/vnd.jupyter.widget-view+json": {
       "model_id": "d050fc4ad4e24986b7e463637f762817",
       "version_major": 2,
       "version_minor": 0
      },
      "text/plain": [
       "  0%|          | 0/99 [00:00<?, ?it/s]"
      ]
     },
     "metadata": {},
     "output_type": "display_data"
    },
    {
     "data": {
      "application/vnd.jupyter.widget-view+json": {
       "model_id": "0bef7ff5395f4f00bddd917b854967d2",
       "version_major": 2,
       "version_minor": 0
      },
      "text/plain": [
       "  0%|          | 0/3059 [00:00<?, ?it/s]"
      ]
     },
     "metadata": {},
     "output_type": "display_data"
    },
    {
     "data": {
      "application/vnd.jupyter.widget-view+json": {
       "model_id": "f3e449381bed4e55a4296055fd5f9daf",
       "version_major": 2,
       "version_minor": 0
      },
      "text/plain": [
       "  0%|          | 0/3150 [00:00<?, ?it/s]"
      ]
     },
     "metadata": {},
     "output_type": "display_data"
    },
    {
     "name": "stdout",
     "output_type": "stream",
     "text": [
      "0.16666666666666666 3\n"
     ]
    },
    {
     "data": {
      "application/vnd.jupyter.widget-view+json": {
       "model_id": "c8e62c536d2a4e47bc0fd70cf7cd9c7a",
       "version_major": 2,
       "version_minor": 0
      },
      "text/plain": [
       "  0%|          | 0/99 [00:00<?, ?it/s]"
      ]
     },
     "metadata": {},
     "output_type": "display_data"
    },
    {
     "data": {
      "application/vnd.jupyter.widget-view+json": {
       "model_id": "e6acf927e7094cfeb7732825112a94f9",
       "version_major": 2,
       "version_minor": 0
      },
      "text/plain": [
       "  0%|          | 0/3059 [00:00<?, ?it/s]"
      ]
     },
     "metadata": {},
     "output_type": "display_data"
    },
    {
     "data": {
      "application/vnd.jupyter.widget-view+json": {
       "model_id": "00300b3bfc794952a60492866e9de623",
       "version_major": 2,
       "version_minor": 0
      },
      "text/plain": [
       "  0%|          | 0/3150 [00:00<?, ?it/s]"
      ]
     },
     "metadata": {},
     "output_type": "display_data"
    },
    {
     "name": "stderr",
     "output_type": "stream",
     "text": [
      "/tmp/ipykernel_25598/570000416.py:56: RuntimeWarning: invalid value encountered in divide\n",
      "  sim_p = sim_hists/np.sum(sim_hists, axis = 1)[:,None]\n"
     ]
    },
    {
     "name": "stdout",
     "output_type": "stream",
     "text": [
      "0.19999999999999998 3\n"
     ]
    },
    {
     "data": {
      "application/vnd.jupyter.widget-view+json": {
       "model_id": "4b62663040084cdfa0800bbf288a7399",
       "version_major": 2,
       "version_minor": 0
      },
      "text/plain": [
       "  0%|          | 0/99 [00:00<?, ?it/s]"
      ]
     },
     "metadata": {},
     "output_type": "display_data"
    },
    {
     "data": {
      "application/vnd.jupyter.widget-view+json": {
       "model_id": "30b4b0fa44cf4308843c1bfef610e144",
       "version_major": 2,
       "version_minor": 0
      },
      "text/plain": [
       "  0%|          | 0/3059 [00:00<?, ?it/s]"
      ]
     },
     "metadata": {},
     "output_type": "display_data"
    },
    {
     "data": {
      "application/vnd.jupyter.widget-view+json": {
       "model_id": "6b21ab60bc6347009004b531fa648140",
       "version_major": 2,
       "version_minor": 0
      },
      "text/plain": [
       "  0%|          | 0/3150 [00:00<?, ?it/s]"
      ]
     },
     "metadata": {},
     "output_type": "display_data"
    }
   ],
   "source": [
    "k = 3\n",
    "D = 1e-6\n",
    "s = np.sqrt(2*D)\n",
    "N_t = 100\n",
    "dx = 3e-4 #4e-4\n",
    "sb = 15*dx#0.005\n",
    "\n",
    "f = 30\n",
    "N_p = 8_000\n",
    "\n",
    "\n",
    "# jump over zero as x point\n",
    "x_s = np.arange(-sb,sb+1e-6,dx)\n",
    "bins = np.arange(-sb-dx/2,sb+dx/2+1e-5,dx)\n",
    "N_x = len(x_s)\n",
    "\n",
    "ltaus = np.array([0.01, 0.05, 0.1, 0.2,0.3,0.4,0.5,0.6])\n",
    "sim_vars = np.empty(len(ltaus))\n",
    "num_vars = np.empty(len(ltaus))\n",
    "sim_hist_vars = np.empty(len(ltaus))\n",
    "short_time_vars = np.empty(len(ltaus))\n",
    "\n",
    "tau_frac = 3\n",
    "\n",
    "def force(x,*args):\n",
    "    return -k*x**3*1e6\n",
    "\n",
    "# def force(x,*args):\n",
    "#      return -k*x\n",
    "i_zero = np.argmin(force(x_s)**2)\n",
    "\n",
    "for i,ltau in enumerate(tqdm(ltaus)):\n",
    "    \n",
    "    \n",
    "    ldt = ltau/tau_frac if ltau > 0 else 5e-2\n",
    "    lntau = round(ltau/ldt)\n",
    "    \n",
    "    print(ldt, lntau)\n",
    "    \n",
    "    # prop = get_prop_abs_v2(x_s,force, D, ldt, dx, side = 'lr')\n",
    "    # R, all_states, end_states = create_R(N_x, lntau, prop)\n",
    "    #res, hists = get_dyn(R, i_zero, N_x, lntau)\n",
    "    prop = get_prop_abs_v3(x_s,force, D, ldt, dx, side = 'lr')\n",
    "    R, all_states, end_states = create_R_v2(N_x, lntau, prop)\n",
    "    res, hists = get_dyn_v2(R, i_zero,N_t, N_x, lntau, end_states)\n",
    "    \n",
    "    \n",
    "    pos = simulate_traj(N_p=N_p, N_loop=1, N_t=(N_t+lntau+2)*f, ntau=lntau*f, s=s, dt=ldt/f,border=0, force=force)\n",
    "    all_pos = pos[0]\n",
    "    sim_hists = [np.histogram(all_pos[:,j], bins = bins)[0] for j in tqdm(range(all_pos.shape[-1]))]\n",
    "    \n",
    "    short_time_p = get_p_x4_short_time(x_s, k*1e6,ltau,s)\n",
    "    short_time_var = np.sum(short_time_p*x_s[None,:]**2 - (short_time_p*x_s[None,:])**2, axis = 1)\n",
    " \n",
    "    sim_var = np.var(pos, axis = 1)\n",
    "    sim_p = sim_hists/np.sum(sim_hists, axis = 1)[:,None]\n",
    "    sim_hist_var = np.sum(sim_p*x_s[None,:]**2 - (sim_p*x_s[None,:])**2, axis = 1)\n",
    "    \n",
    "    num_p = hists[:,:]/np.sum(hists, axis = 1)[:,None]\n",
    "    num_var = np.sum(num_p*x_s[None,:]**2 - (num_p*x_s[None,:])**2, axis = 1)\n",
    "\n",
    "    \n",
    "    sim_vars[i] = np.mean(sim_var[0,-f*N_t//2:])\n",
    "    num_vars[i] = np.mean(num_var[-N_t//2:])\n",
    "    sim_hist_vars[i] = np.mean(sim_hist_var[-f*N_t//2:])\n",
    "    short_time_vars[i] = short_time_var\n",
    "    \n",
    "# with open(f'nummeric_results/sim_vs_num_v4_emb{tau_frac}_old.pkl', 'wb') as file:\n",
    "#     pickle.dump({'ltaus':ltaus,\n",
    "#                  'sim_vars':sim_vars,\n",
    "#                  'sim_hist_vars':sim_hist_vars,\n",
    "#                  'num_vars':num_vars\n",
    "#                 }, file)"
   ]
  },
  {
   "cell_type": "code",
   "execution_count": 154,
   "id": "7389bd9c-40de-4943-a4bb-16bf6b97ea07",
   "metadata": {},
   "outputs": [],
   "source": [
    "#short_time_approx_var = s**2/(2*k)*(1+k*ltaus)\n",
    "#exact_sol = s**2/(2*k)*(1+np.sin(k*ltaus))/np.cos(k*ltaus)"
   ]
  },
  {
   "cell_type": "code",
   "execution_count": 157,
   "id": "5b54a679-5b83-4e99-913a-05790247a42f",
   "metadata": {},
   "outputs": [
    {
     "data": {
      "image/png": "[encoded data removed]",
      "text/plain": [
       "<Figure size 640x480 with 1 Axes>"
      ]
     },
     "metadata": {},
     "output_type": "display_data"
    }
   ],
   "source": [
    "ax = plt.subplot()\n",
    "plt.plot(ltaus,sim_vars,'.-', label='sim')\n",
    "plt.plot(ltaus,sim_hist_vars,'.-', label='hist-sim')\n",
    "plt.plot(ltaus,num_vars,'.--', label='new algorithm')\n",
    "#plt.plot(ltaus,num_vars_2,'.--' ,label='v2')\n",
    "\n",
    "if False:\n",
    "    plt.plot(ltaus,short_time_approx_var ,'.-.',label='short time')\n",
    "    plt.plot(ltaus[:-1],exact_sol[:-1] ,'.-.',label='exact')\n",
    "\n",
    "    plt.ylim(1e-7,5e-5)\n",
    "    plt.vlines([1/np.e /k, np.pi/2/k],*plt.ylim(), color='black')\n",
    "    plt.text(0.5*1/np.e /k,              2e-7,'Regim I', ha='center', va='center')\n",
    "    plt.text(0.5*(1/np.e /k+  np.pi/2/k),2e-7,'Regim II',ha='center', va='center')\n",
    "    plt.text(1.1*(np.pi/2/k),            2e-7,'Regim III',ha='center', va='center')\n",
    "else:\n",
    "    plt.plot(ltaus,short_time_vars ,'.-.',label='short time')\n",
    "\n",
    "plt.yscale('log')\n",
    "plt.legend()\n",
    "plt.xlabel(r'$\\tau$')\n",
    "plt.ylabel(r'$\\sigma^2$')\n",
    "plt.tight_layout()\n",
    "#plt.savefig('Graphic_Results/varianz_compare.pdf')"
   ]
  },
  {
   "cell_type": "code",
   "execution_count": 195,
   "id": "da261123-3a20-406a-8573-f7ad3178705c",
   "metadata": {},
   "outputs": [
    {
     "data": {
      "text/plain": [
       "<matplotlib.legend.Legend at 0x7f14747f2e90>"
      ]
     },
     "execution_count": 195,
     "metadata": {},
     "output_type": "execute_result"
    },
    {
     "data": {
      "image/png": "[encoded data removed]",
      "text/plain": [
       "<Figure size 640x480 with 1 Axes>"
      ]
     },
     "metadata": {},
     "output_type": "display_data"
    }
   ],
   "source": [
    "plt.plot(ltaus,np.sqrt(num_vars/sim_hist_vars),'.-', label='new algo')\n",
    "#plt.plot(ltaus,num_vars_2/sim_vars,label='v2')\n",
    "plt.ylim(0.5,1.5)\n",
    "\n",
    "if False:\n",
    "    y = 0.6\n",
    "    plt.plot(ltaus,np.sqrt(short_time_approx_var/sim_hist_vars),'.-',label='short time')\n",
    "    plt.vlines([1/np.e /k, np.pi/2/k],*plt.ylim(), color='black')\n",
    "    plt.text(0.5*1/np.e /k,              y,'Regim I', ha='center', va='center')\n",
    "    plt.text(0.5*(1/np.e /k+  np.pi/2/k),y,'Regim II',ha='center', va='center')\n",
    "    plt.text(1.1*(np.pi/2/k),            y,'Regim III',ha='center', va='center')\n",
    "\n",
    "    \n",
    "plt.legend()"
   ]
  },
  {
   "cell_type": "code",
   "execution_count": 3,
   "id": "a4b9449b-349c-4e49-a01f-d466c60c4348",
   "metadata": {},
   "outputs": [
    {
     "data": {
      "text/plain": [
       "2"
      ]
     },
     "execution_count": 3,
     "metadata": {},
     "output_type": "execute_result"
    }
   ],
   "source": [
    "import numpy as np\n",
    "np.array([[1,2,3]]).ndim"
   ]
  },
  {
   "cell_type": "code",
   "execution_count": null,
   "id": "c0f7e54e-6209-4ca2-81c9-369c27534f6e",
   "metadata": {},
   "outputs": [],
   "source": []
  }
 ],
 "metadata": {
  "kernelspec": {
   "display_name": "Python 3",
   "language": "python",
   "name": "python3"
  },
  "language_info": {
   "codemirror_mode": {
    "name": "ipython",
    "version": 3
   },
   "file_extension": ".py",
   "mimetype": "text/x-python",
   "name": "python",
   "nbconvert_exporter": "python",
   "pygments_lexer": "ipython3",
   "version": "3.10.6"
  }
 },
 "nbformat": 4,
 "nbformat_minor": 5
}
