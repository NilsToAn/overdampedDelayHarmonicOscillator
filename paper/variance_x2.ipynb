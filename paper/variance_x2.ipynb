{
 "cells": [
  {
   "cell_type": "code",
   "execution_count": 1,
   "id": "c26c6c5b-a597-4211-a44e-4acc6a7ee838",
   "metadata": {},
   "outputs": [],
   "source": [
    "%load_ext autoreload\n",
    "%autoreload 2\n",
    "%matplotlib inline"
   ]
  },
  {
   "cell_type": "code",
   "execution_count": 2,
   "id": "65074877-c0f7-4ed9-be97-5fa515838da4",
   "metadata": {},
   "outputs": [],
   "source": [
    "import numpy as np\n",
    "import matplotlib.pyplot as plt\n",
    "from tqdm.notebook import tqdm\n",
    "import pickle\n",
    "from functions import get_dyn_v2, get_prop_abs_v2, create_R_v1, get_x2_var, get_x2_var_short_time\n",
    "from functions import get_var_hist,simulate_traj, create_R, get_prop_abs, get_steady_mean, get_theo_var_l, get_non_delayed_prop, get_non_delayed_dyn\n",
    "from setup import setup_matplotlib\n",
    "\n",
    "\n",
    "setup_matplotlib()\n",
    "\n",
    "np.random.seed(42)"
   ]
  },
  {
   "cell_type": "code",
   "execution_count": 3,
   "id": "cd2a5d1a-4044-4394-99c0-04ed90b7851f",
   "metadata": {},
   "outputs": [],
   "source": [
    "k = 1\n",
    "s = 1\n",
    "D = s**2/2\n",
    "max_t = 6\n",
    "ntau = 4\n",
    "# dx = 0.3\n",
    "N_x = 25 #odd to include 0\n",
    "eq_perc = 0.75\n",
    "\n",
    "\n",
    "f = 30\n",
    "N_p = 2_000\n",
    "N_loop = 10\n",
    "\n",
    "\n",
    "\n",
    "def force(x,*args):\n",
    "     return -k*x\n",
    "\n",
    "ltaus = np.concatenate(([0,0.05], np.arange(0.2,2.2,0.1) ))\n",
    "sim_vars = np.empty((len(ltaus),2))\n",
    "sim_eq_time = np.empty((len(ltaus),2))\n",
    "\n",
    "sim_hist_vars = np.empty((len(ltaus),2))\n",
    "sim_hist_eq_time = np.empty((len(ltaus),2))\n",
    "\n",
    "num_vars = np.empty((len(ltaus),2))\n",
    "num_eq_time = np.empty((len(ltaus),2))"
   ]
  },
  {
   "cell_type": "code",
   "execution_count": 4,
   "id": "b50397bf-959c-4858-8349-4c93eb639ca8",
   "metadata": {},
   "outputs": [
    {
     "data": {
      "application/vnd.jupyter.widget-view+json": {
       "model_id": "293e0e734d1c471ab30755b853e1f7f4",
       "version_major": 2,
       "version_minor": 0
      },
      "text/plain": [
       "  0%|          | 0/22 [00:00<?, ?it/s]"
      ]
     },
     "metadata": {},
     "output_type": "display_data"
    },
    {
     "data": {
      "application/vnd.jupyter.widget-view+json": {
       "model_id": "",
       "version_major": 2,
       "version_minor": 0
      },
      "text/plain": [
       "  0%|          | 0/18000 [00:00<?, ?it/s]"
      ]
     },
     "metadata": {},
     "output_type": "display_data"
    },
    {
     "name": "stdout",
     "output_type": "stream",
     "text": [
      "25 3.125\n"
     ]
    },
    {
     "data": {
      "application/vnd.jupyter.widget-view+json": {
       "model_id": "",
       "version_major": 2,
       "version_minor": 0
      },
      "text/plain": [
       "  0%|          | 0/599 [00:00<?, ?it/s]"
      ]
     },
     "metadata": {},
     "output_type": "display_data"
    },
    {
     "data": {
      "application/vnd.jupyter.widget-view+json": {
       "model_id": "",
       "version_major": 2,
       "version_minor": 0
      },
      "text/plain": [
       "  0%|          | 0/14400 [00:00<?, ?it/s]"
      ]
     },
     "metadata": {},
     "output_type": "display_data"
    },
    {
     "name": "stdout",
     "output_type": "stream",
     "text": [
      "25 3.125\n"
     ]
    },
    {
     "data": {
      "application/vnd.jupyter.widget-view+json": {
       "model_id": "97cca438efca4484994f7ecf6523a051",
       "version_major": 2,
       "version_minor": 0
      },
      "text/plain": [
       "  0%|          | 0/479 [00:00<?, ?it/s]"
      ]
     },
     "metadata": {},
     "output_type": "display_data"
    },
    {
     "ename": "KeyboardInterrupt",
     "evalue": "",
     "output_type": "error",
     "traceback": [
      "\u001b[0;31m---------------------------------------------------------------------------\u001b[0m",
      "\u001b[0;31mKeyboardInterrupt\u001b[0m                         Traceback (most recent call last)",
      "Cell \u001b[0;32mIn [4], line 36\u001b[0m\n\u001b[1;32m     33\u001b[0m     prop \u001b[38;5;241m=\u001b[39m get_prop_abs_v2(x_s, force,D,ldt,dx)\n\u001b[1;32m     34\u001b[0m     R, _, end_states \u001b[38;5;241m=\u001b[39m create_R_v1(N_x, ntau, prop)\n\u001b[0;32m---> 36\u001b[0m     _, hists \u001b[38;5;241m=\u001b[39m \u001b[43mget_dyn_v2\u001b[49m\u001b[43m(\u001b[49m\u001b[43mR\u001b[49m\u001b[43m,\u001b[49m\u001b[43m \u001b[49m\u001b[43mi_zero\u001b[49m\u001b[43m,\u001b[49m\u001b[43mN_t\u001b[49m\u001b[43m,\u001b[49m\u001b[43m \u001b[49m\u001b[43mN_x\u001b[49m\u001b[43m,\u001b[49m\u001b[43m \u001b[49m\u001b[43mntau\u001b[49m\u001b[43m,\u001b[49m\u001b[43m \u001b[49m\u001b[43mend_states\u001b[49m\u001b[43m)\u001b[49m\n\u001b[1;32m     37\u001b[0m \u001b[38;5;28;01melse\u001b[39;00m:\n\u001b[1;32m     38\u001b[0m     R \u001b[38;5;241m=\u001b[39m get_non_delayed_prop(x_s, force,D,ldt,dx)\n",
      "File \u001b[0;32m~/Programmieren/overdampedDelayHarmonicOscillator/paper/functions.py:107\u001b[0m, in \u001b[0;36mget_dyn_v2\u001b[0;34m(R, i_zero, N_t, N_x, ntau, end_states)\u001b[0m\n\u001b[1;32m    105\u001b[0m one_time_p[\u001b[38;5;241m0\u001b[39m] \u001b[38;5;241m=\u001b[39m np\u001b[38;5;241m.\u001b[39msum(p[end_states], axis \u001b[38;5;241m=\u001b[39m \u001b[38;5;241m1\u001b[39m)\n\u001b[1;32m    106\u001b[0m \u001b[38;5;28;01mfor\u001b[39;00m i \u001b[38;5;129;01min\u001b[39;00m tqdm(\u001b[38;5;28mrange\u001b[39m(\u001b[38;5;241m1\u001b[39m,N_t), leave\u001b[38;5;241m=\u001b[39m\u001b[38;5;28;01mFalse\u001b[39;00m):\n\u001b[0;32m--> 107\u001b[0m     p \u001b[38;5;241m=\u001b[39m \u001b[43mR\u001b[49m\u001b[38;5;129;43m@p\u001b[39;49m\n\u001b[1;32m    108\u001b[0m     one_time_p[i] \u001b[38;5;241m=\u001b[39m np\u001b[38;5;241m.\u001b[39msum(p[end_states], axis \u001b[38;5;241m=\u001b[39m \u001b[38;5;241m1\u001b[39m)\n\u001b[1;32m    110\u001b[0m \u001b[38;5;28;01mreturn\u001b[39;00m p, one_time_p\n",
      "File \u001b[0;32m~/anaconda3/envs/kroy/lib/python3.10/site-packages/scipy/sparse/_base.py:630\u001b[0m, in \u001b[0;36mspmatrix.__matmul__\u001b[0;34m(self, other)\u001b[0m\n\u001b[1;32m    627\u001b[0m \u001b[38;5;28;01mif\u001b[39;00m isscalarlike(other):\n\u001b[1;32m    628\u001b[0m     \u001b[38;5;28;01mraise\u001b[39;00m \u001b[38;5;167;01mValueError\u001b[39;00m(\u001b[38;5;124m\"\u001b[39m\u001b[38;5;124mScalar operands are not allowed, \u001b[39m\u001b[38;5;124m\"\u001b[39m\n\u001b[1;32m    629\u001b[0m                      \u001b[38;5;124m\"\u001b[39m\u001b[38;5;124muse \u001b[39m\u001b[38;5;124m'\u001b[39m\u001b[38;5;124m*\u001b[39m\u001b[38;5;124m'\u001b[39m\u001b[38;5;124m instead\u001b[39m\u001b[38;5;124m\"\u001b[39m)\n\u001b[0;32m--> 630\u001b[0m \u001b[38;5;28;01mreturn\u001b[39;00m \u001b[38;5;28;43mself\u001b[39;49m\u001b[38;5;241;43m.\u001b[39;49m\u001b[43m_mul_dispatch\u001b[49m\u001b[43m(\u001b[49m\u001b[43mother\u001b[49m\u001b[43m)\u001b[49m\n",
      "File \u001b[0;32m~/anaconda3/envs/kroy/lib/python3.10/site-packages/scipy/sparse/_base.py:528\u001b[0m, in \u001b[0;36mspmatrix._mul_dispatch\u001b[0;34m(self, other)\u001b[0m\n\u001b[1;32m    525\u001b[0m \u001b[38;5;28;01mif\u001b[39;00m other\u001b[38;5;241m.\u001b[39m\u001b[38;5;18m__class__\u001b[39m \u001b[38;5;129;01mis\u001b[39;00m np\u001b[38;5;241m.\u001b[39mndarray:\n\u001b[1;32m    526\u001b[0m     \u001b[38;5;66;03m# Fast path for the most common case\u001b[39;00m\n\u001b[1;32m    527\u001b[0m     \u001b[38;5;28;01mif\u001b[39;00m other\u001b[38;5;241m.\u001b[39mshape \u001b[38;5;241m==\u001b[39m (N,):\n\u001b[0;32m--> 528\u001b[0m         \u001b[38;5;28;01mreturn\u001b[39;00m \u001b[38;5;28;43mself\u001b[39;49m\u001b[38;5;241;43m.\u001b[39;49m\u001b[43m_mul_vector\u001b[49m\u001b[43m(\u001b[49m\u001b[43mother\u001b[49m\u001b[43m)\u001b[49m\n\u001b[1;32m    529\u001b[0m     \u001b[38;5;28;01melif\u001b[39;00m other\u001b[38;5;241m.\u001b[39mshape \u001b[38;5;241m==\u001b[39m (N, \u001b[38;5;241m1\u001b[39m):\n\u001b[1;32m    530\u001b[0m         \u001b[38;5;28;01mreturn\u001b[39;00m \u001b[38;5;28mself\u001b[39m\u001b[38;5;241m.\u001b[39m_mul_vector(other\u001b[38;5;241m.\u001b[39mravel())\u001b[38;5;241m.\u001b[39mreshape(M, \u001b[38;5;241m1\u001b[39m)\n",
      "File \u001b[0;32m~/anaconda3/envs/kroy/lib/python3.10/site-packages/scipy/sparse/_compressed.py:489\u001b[0m, in \u001b[0;36m_cs_matrix._mul_vector\u001b[0;34m(self, other)\u001b[0m\n\u001b[1;32m    487\u001b[0m \u001b[38;5;66;03m# csr_matvec or csc_matvec\u001b[39;00m\n\u001b[1;32m    488\u001b[0m fn \u001b[38;5;241m=\u001b[39m \u001b[38;5;28mgetattr\u001b[39m(_sparsetools, \u001b[38;5;28mself\u001b[39m\u001b[38;5;241m.\u001b[39mformat \u001b[38;5;241m+\u001b[39m \u001b[38;5;124m'\u001b[39m\u001b[38;5;124m_matvec\u001b[39m\u001b[38;5;124m'\u001b[39m)\n\u001b[0;32m--> 489\u001b[0m \u001b[43mfn\u001b[49m\u001b[43m(\u001b[49m\u001b[43mM\u001b[49m\u001b[43m,\u001b[49m\u001b[43m \u001b[49m\u001b[43mN\u001b[49m\u001b[43m,\u001b[49m\u001b[43m \u001b[49m\u001b[38;5;28;43mself\u001b[39;49m\u001b[38;5;241;43m.\u001b[39;49m\u001b[43mindptr\u001b[49m\u001b[43m,\u001b[49m\u001b[43m \u001b[49m\u001b[38;5;28;43mself\u001b[39;49m\u001b[38;5;241;43m.\u001b[39;49m\u001b[43mindices\u001b[49m\u001b[43m,\u001b[49m\u001b[43m \u001b[49m\u001b[38;5;28;43mself\u001b[39;49m\u001b[38;5;241;43m.\u001b[39;49m\u001b[43mdata\u001b[49m\u001b[43m,\u001b[49m\u001b[43m \u001b[49m\u001b[43mother\u001b[49m\u001b[43m,\u001b[49m\u001b[43m \u001b[49m\u001b[43mresult\u001b[49m\u001b[43m)\u001b[49m\n\u001b[1;32m    491\u001b[0m \u001b[38;5;28;01mreturn\u001b[39;00m result\n",
      "\u001b[0;31mKeyboardInterrupt\u001b[0m: "
     ]
    }
   ],
   "source": [
    "for i,ltau in enumerate(tqdm(ltaus)): \n",
    "    ldt = ltau/ntau if ltau > 0 else 0.01\n",
    "    N_t = max(int(max_t/ldt), 30)\n",
    "    \n",
    "    ts = np.arange(0,N_t)*ldt\n",
    "    sim_ts = np.arange(0,f*(N_t+ntau))*ldt/f-ltau\n",
    "    \n",
    "    \n",
    "    pos = simulate_traj(N_p=N_p, N_loop=N_loop, N_t=(N_t+ntau)*f, ntau=ntau*f, s=s, dt=ldt/f,border=0, force=force)\n",
    "    sim_var = np.var(pos, axis = 1)\n",
    "    \n",
    "    # adapt boundaries to varianz (from sim) -> 3 sigma\n",
    "    sb = 3*np.sqrt(np.max(sim_var))\n",
    "    #sb = min(20*dx, np.round(sb/dx)*dx)\n",
    "    dx = 2*sb/(N_x-1)\n",
    "    \n",
    "    x_s = np.arange(-sb,sb+1e-6,dx)\n",
    "    bins = np.arange(-sb-dx/2,sb+dx/2+1e-5,dx)\n",
    "    #N_x = len(x_s)\n",
    "    print(N_x, N_x/ (2*np.sqrt(np.max(sim_var))/dx) )\n",
    "    i_zero = np.argmin(x_s**2)\n",
    "\n",
    "    \n",
    "    sim_hists = np.swapaxes(np.apply_along_axis(lambda a: np.histogram(a, bins)[0], 1, pos), 1,2)\n",
    "    sim_hist_var =  np.apply_along_axis(get_var_hist,-1, sim_hists, x_s=x_s)\n",
    "    \n",
    "    if ltau > 0:\n",
    "        # v1\n",
    "        # prop = get_prop_abs(x_s, force,D,ldt,dx)\n",
    "        # R, _, end_states = create_R(N_x, ntau, prop)\n",
    "\n",
    "        # v2\n",
    "        prop = get_prop_abs_v2(x_s, force,D,ldt,dx)\n",
    "        R, _, end_states = create_R_v1(N_x, ntau, prop)\n",
    "\n",
    "        _, hists = get_dyn_v2(R, i_zero,N_t, N_x, ntau, end_states)\n",
    "    else:\n",
    "        R = get_non_delayed_prop(x_s, force,D,ldt,dx)\n",
    "        hists = get_non_delayed_dyn(R,i_zero,N_t, N_x)\n",
    "    \n",
    "    num_var = get_var_hist(hists, x_s)\n",
    "    \n",
    "    mean_sim_vars = np.mean(sim_var[:,-f*ntau*2:], axis = 1)\n",
    "    sim_vars[i] = (np.mean(mean_sim_vars), np.std(mean_sim_vars)/np.sqrt(N_loop))\n",
    "    \n",
    "    mean_s_eq = sim_ts[np.argmin((eq_perc*mean_sim_vars[:,None]-sim_var)**2, axis = 1)]\n",
    "    sim_eq_time[i] = (np.mean(mean_s_eq), np.std(mean_s_eq)/np.sqrt(N_loop))\n",
    "    \n",
    "    \n",
    "    mean_sim_hist_var = np.mean(sim_hist_var[:,-f*ntau*2:], axis = 1)\n",
    "    sim_hist_vars[i] = (np.mean(mean_sim_hist_var), np.std(mean_sim_hist_var)/np.sqrt(N_loop))\n",
    "    \n",
    "    mean_sh_eq = sim_ts[np.argmin((eq_perc*mean_sim_hist_var[:,None]-sim_hist_var)**2, axis = 1)]\n",
    "    sim_hist_eq_time[i] = (np.mean(mean_sh_eq), np.std(mean_sh_eq)/np.sqrt(N_loop))\n",
    "                  \n",
    "    mean_num_var = np.mean(num_var[-ntau*2:])\n",
    "    num_vars[i] =  (mean_num_var, np.max(num_var[-ntau*2:])-np.min(num_var[-ntau*2:]))\n",
    "    num_eq_time[i] =  ts[np.argmin((eq_perc*mean_num_var-num_var)**2)]"
   ]
  },
  {
   "cell_type": "code",
   "execution_count": null,
   "id": "a772fc2f-9e12-4d61-9173-fb455b511aef",
   "metadata": {},
   "outputs": [],
   "source": [
    "short_time_approx_var = get_x2_var_short_time(ltaus, k, s)\n",
    "exact_sol = get_x2_var(ltaus, k, s)\n",
    "\n",
    "test_ts = np.linspace(0,max_t, 4000)\n",
    "test_ltaus = np.arange(0,1.5,0.025)\n",
    "exact_eqtimes = [test_ts[np.argmin((get_theo_var_l(test_ts,ltau,D) - eq_perc*get_x2_var(ltau, k, s))**2)] for ltau in test_ltaus]"
   ]
  },
  {
   "cell_type": "code",
   "execution_count": null,
   "id": "14380ce1-3e76-47a9-9dc8-652244c568ee",
   "metadata": {},
   "outputs": [],
   "source": [
    "plt.figure(figsize=(7,3))\n",
    "ax = plt.subplot(121)\n",
    "#plt.plot(ltaus,sim_vars[:,0],'.-', label='sim')\n",
    "\n",
    "plt.errorbar(ltaus,num_vars[:,0],num_vars[:,1],marker='.', ls='--', label='new algorithm')\n",
    "\n",
    "\n",
    "\n",
    "plt.plot(ltaus,short_time_approx_var ,'.-.',label='short time')\n",
    "plt.plot(ltaus[ltaus < np.pi/2/k],exact_sol[ltaus < np.pi/2/k] ,'.-.',label='exact')\n",
    "\n",
    "plt.errorbar(ltaus,sim_hist_vars[:,0],sim_hist_vars[:,1],marker='.', label='hist-sim')\n",
    "plt.ylim(3e-1,15)\n",
    "plt.xlim(0,2.1)\n",
    "plt.vlines([1/np.e /k, np.pi/2/k],*plt.ylim(), color='black')\n",
    "y = 4e-1\n",
    "plt.text(0.5*1/np.e /k,              y,'Regim I', ha='center', va='center')\n",
    "plt.text(0.5*(1/np.e /k+  np.pi/2/k),y,'Regim II',ha='center', va='center')\n",
    "plt.text(0.5*(np.pi/2/k + plt.xlim()[1]),            y,'Regim III',ha='center', va='center')\n",
    "\n",
    "plt.yscale('log')\n",
    "plt.legend()\n",
    "plt.xlabel(r'$\\tau$')\n",
    "plt.ylabel(r'$\\sigma^2$')\n",
    "\n",
    "#auflösungslimit\n",
    "#plt.hlines((x_s[-1]/3)**2, *plt.xlim())\n",
    "\n",
    "ax = plt.subplot(122)\n",
    "plt.errorbar(ltaus, num_vars[:,0]/sim_hist_vars[:,0], \n",
    "             yerr = np.sqrt( ( num_vars[:,1]/sim_hist_vars[:,0])**2 + (num_vars[:,0]/sim_hist_vars[:,0]**2*sim_hist_vars[:,1])**2),\n",
    "                            marker = '.')\n",
    "plt.ylim(*plt.ylim())\n",
    "plt.vlines([1/np.e /k, np.pi/2/k],*plt.ylim(), color='black')\n",
    "y = 1.1\n",
    "plt.text(0.5*1/np.e /k,              y,'Regim I', ha='center', va='center')\n",
    "plt.text(0.5*(1/np.e /k+  np.pi/2/k),y,'Regim II',ha='center', va='center')\n",
    "plt.text(0.5*(np.pi/2/k + plt.xlim()[1]),            y,'Regim III',ha='center', va='center')\n",
    "#plt.plot(ltaus, num_vars[:,0]/sim_vars[:,0], '.-')\n",
    "plt.xlabel(r'$\\tau$')\n",
    "plt.ylabel(r'deviation')\n",
    "\n",
    "\n",
    "plt.tight_layout()\n",
    "#plt.savefig('graphics/x2variance_v2.pdf')"
   ]
  },
  {
   "cell_type": "code",
   "execution_count": null,
   "id": "bebb48d0-66a2-40b1-9bd8-ab9d9ec5e937",
   "metadata": {},
   "outputs": [],
   "source": [
    "plt.plot(ltaus, num_eq_time[:,0], marker ='.', label = 'new algorithm')\n",
    "plt.errorbar(ltaus, *sim_hist_eq_time.T, marker ='.', label = 'hist-sim')\n",
    "plt.errorbar(ltaus, *sim_eq_time.T, marker ='.', label = 'sim')\n",
    "\n",
    "plt.plot(test_ltaus, exact_eqtimes, label='exact')\n",
    "\n",
    "\n",
    "plt.ylim(1.5e-1,2e1)\n",
    "plt.vlines([1/np.e /k, np.pi/2/k],*plt.ylim(), color='black')\n",
    "\n",
    "y = 2e-1\n",
    "plt.text(0.5*1/np.e /k,              y,'Regim I', ha='center', va='center')\n",
    "plt.text(0.5*(1/np.e /k+  np.pi/2/k),y,'Regim II',ha='center', va='center')\n",
    "plt.text(0.5*(np.pi/2/k + plt.xlim()[1]),            y,'Regim III',ha='center', va='center')\n",
    "\n",
    "plt.legend()\n",
    "plt.yscale('log')\n",
    "plt.xlabel(r'$\\tau$')\n",
    "plt.ylabel(r'75\\%-time')\n",
    "plt.tight_layout()"
   ]
  },
  {
   "cell_type": "code",
   "execution_count": null,
   "id": "dd641645-9a4a-4caa-a65e-610fed6bd640",
   "metadata": {},
   "outputs": [],
   "source": [
    "plt.plot(hists[5])"
   ]
  },
  {
   "cell_type": "code",
   "execution_count": null,
   "id": "77567e52-9e78-4b7d-8830-9823ccb5d528",
   "metadata": {},
   "outputs": [],
   "source": [
    "x_s"
   ]
  },
  {
   "cell_type": "code",
   "execution_count": null,
   "id": "1d8b69a8-55ee-4deb-8526-099c3d90cb54",
   "metadata": {},
   "outputs": [],
   "source": []
  }
 ],
 "metadata": {
  "kernelspec": {
   "display_name": "Python 3 (ipykernel)",
   "language": "python",
   "name": "python3"
  },
  "language_info": {
   "codemirror_mode": {
    "name": "ipython",
    "version": 3
   },
   "file_extension": ".py",
   "mimetype": "text/x-python",
   "name": "python",
   "nbconvert_exporter": "python",
   "pygments_lexer": "ipython3",
   "version": "3.10.6"
  }
 },
 "nbformat": 4,
 "nbformat_minor": 5
}
