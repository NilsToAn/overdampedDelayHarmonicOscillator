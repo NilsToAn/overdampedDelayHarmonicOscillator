{
 "cells": [
  {
   "cell_type": "code",
   "execution_count": 1,
   "id": "3ca23a9b-0ab7-4974-a5e8-04dbb38cf221",
   "metadata": {},
   "outputs": [],
   "source": [
    "%load_ext autoreload\n",
    "%autoreload 2\n",
    "%matplotlib inline"
   ]
  },
  {
   "cell_type": "code",
   "execution_count": 2,
   "id": "4b7b4796-d27e-458f-bd86-38473df7d61a",
   "metadata": {},
   "outputs": [],
   "source": [
    "import numpy as np\n",
    "import matplotlib.pyplot as plt\n",
    "from tqdm.notebook import tqdm\n",
    "import pickle\n",
    "from functions import get_var_hist, create_R_v1, get_dyn_v2\n",
    "from setup import setup_matplotlib\n",
    "from scipy.linalg import expm\n",
    "\n",
    "setup_matplotlib()\n",
    "\n",
    "np.random.seed(42)"
   ]
  },
  {
   "cell_type": "code",
   "execution_count": 3,
   "id": "046220e3-d00c-4785-9b18-9e71d8a418ee",
   "metadata": {},
   "outputs": [],
   "source": [
    "def simulate_traj_g(N_p, N_loop, N_t, ntau, s, dt, border, force):\n",
    "    pos = np.empty((N_loop,N_p,N_t))\n",
    "    vel = s*np.random.randn(N_loop,N_p,N_t)*1/np.sqrt(dt)\n",
    "\n",
    "    pos[:,:,:ntau] = -border\n",
    "    vel[:,:,:ntau] = 0\n",
    "\n",
    "    for i in tqdm(range(ntau,N_t), leave=False):\n",
    "        pos[:,:,i] = pos[:,:,i-1] + vel[:,:,i-1]*dt\n",
    "        vel[:,:,i] += force(pos[:,:,i-ntau], pos[:,:,i])\n",
    "    return pos\n",
    "\n",
    "def get_prop_abs_v2_g(x_s, force, D,dt,dx, N_border=None, side = 'lr'):\n",
    "    # x(t-tau), x(t), res\n",
    "    N_x = len(x_s)\n",
    "    half_x_s = np.arange(x_s[0],x_s[-1]+dx/4,dx/2)\n",
    "    mx_s = np.arange(x_s[0]-dx/2,x_s[-1]+dx/2+dx/4,dx)\n",
    "    \n",
    "    \n",
    "    \n",
    "    R_abs = np.zeros(( len(half_x_s),N_x, N_x))\n",
    "    \n",
    "    F = force(half_x_s[:,None], mx_s[None,:])\n",
    "    \n",
    "    lp = D / dx**2 * np.exp((F*dx/D)/2)  # r_i->i+1\n",
    "    ln = D / dx**2 * np.exp(-(F*dx/D)/2)  # r_i+1->i\n",
    "\n",
    "    R_abs[:,np.arange(0,N_x),np.arange(0,N_x)] = -(lp[:,1:]+ln[:,:-1]) # -(r_i->i+1 + r_i->i-1) ????\n",
    "    R_abs[:,np.arange(0,N_x-1),np.arange(1,N_x)] = ln[:,1:-1]\n",
    "    R_abs[:,np.arange(1,N_x),np.arange(0,N_x-1)] = lp[:,1:-1]\n",
    "    \n",
    "    prop_abs = expm(R_abs*dt, )\n",
    "    if np.any(np.isnan(prop_abs)):\n",
    "        print('CAREFUL: nan in prop, maybe because of to high values in potential')\n",
    "    return prop_abs"
   ]
  },
  {
   "cell_type": "code",
   "execution_count": 4,
   "id": "75f980fd-64db-45f6-ad2c-c79941298607",
   "metadata": {},
   "outputs": [],
   "source": [
    "k = 1\n",
    "k2 = 0.5\n",
    "s = 1\n",
    "D = s**2/2\n",
    "max_t = 6\n",
    "ntau = 3\n",
    "dx = 0.15 #0.3\n",
    "eq_perc = 0.75\n",
    "\n",
    "\n",
    "f = 4\n",
    "N_p = 2_000\n",
    "N_loop = 10\n",
    "\n",
    "\n",
    "\n",
    "def force(x,x0,*args):\n",
    "     return -k*x-k2*x0\n",
    "\n",
    "ltaus = np.concatenate(([0.05], np.arange(0.2,2.2,0.1) ))\n",
    "sim_vars = np.empty((len(ltaus),2))\n",
    "sim_eq_time = np.empty((len(ltaus),2))\n",
    "\n",
    "sim_hist_vars = np.empty((len(ltaus),2))\n",
    "sim_hist_eq_time = np.empty((len(ltaus),2))\n",
    "\n",
    "num_vars = np.empty((len(ltaus),2))\n",
    "num_eq_time = np.empty((len(ltaus),2))"
   ]
  },
  {
   "cell_type": "code",
   "execution_count": 5,
   "id": "e20f0078-71fe-4b05-b469-e01c5d7f3b0b",
   "metadata": {},
   "outputs": [
    {
     "data": {
      "application/vnd.jupyter.widget-view+json": {
       "model_id": "f0150c59b6f849dc93b9df82c7d57ece",
       "version_major": 2,
       "version_minor": 0
      },
      "text/plain": [
       "  0%|          | 0/21 [00:00<?, ?it/s]"
      ]
     },
     "metadata": {},
     "output_type": "display_data"
    },
    {
     "data": {
      "application/vnd.jupyter.widget-view+json": {
       "model_id": "",
       "version_major": 2,
       "version_minor": 0
      },
      "text/plain": [
       "  0%|          | 0/1440 [00:00<?, ?it/s]"
      ]
     },
     "metadata": {},
     "output_type": "display_data"
    },
    {
     "name": "stdout",
     "output_type": "stream",
     "text": [
      "25 3.0498628265887566\n"
     ]
    },
    {
     "data": {
      "application/vnd.jupyter.widget-view+json": {
       "model_id": "",
       "version_major": 2,
       "version_minor": 0
      },
      "text/plain": [
       "  0%|          | 0/359 [00:00<?, ?it/s]"
      ]
     },
     "metadata": {},
     "output_type": "display_data"
    },
    {
     "data": {
      "application/vnd.jupyter.widget-view+json": {
       "model_id": "",
       "version_major": 2,
       "version_minor": 0
      },
      "text/plain": [
       "  0%|          | 0/360 [00:00<?, ?it/s]"
      ]
     },
     "metadata": {},
     "output_type": "display_data"
    },
    {
     "name": "stdout",
     "output_type": "stream",
     "text": [
      "27 3.0239725199330865\n"
     ]
    },
    {
     "data": {
      "application/vnd.jupyter.widget-view+json": {
       "model_id": "",
       "version_major": 2,
       "version_minor": 0
      },
      "text/plain": [
       "  0%|          | 0/89 [00:00<?, ?it/s]"
      ]
     },
     "metadata": {},
     "output_type": "display_data"
    },
    {
     "data": {
      "application/vnd.jupyter.widget-view+json": {
       "model_id": "",
       "version_major": 2,
       "version_minor": 0
      },
      "text/plain": [
       "  0%|          | 0/236 [00:00<?, ?it/s]"
      ]
     },
     "metadata": {},
     "output_type": "display_data"
    },
    {
     "name": "stdout",
     "output_type": "stream",
     "text": [
      "29 3.117707422177047\n"
     ]
    },
    {
     "data": {
      "application/vnd.jupyter.widget-view+json": {
       "model_id": "",
       "version_major": 2,
       "version_minor": 0
      },
      "text/plain": [
       "  0%|          | 0/58 [00:00<?, ?it/s]"
      ]
     },
     "metadata": {},
     "output_type": "display_data"
    },
    {
     "data": {
      "application/vnd.jupyter.widget-view+json": {
       "model_id": "",
       "version_major": 2,
       "version_minor": 0
      },
      "text/plain": [
       "  0%|          | 0/176 [00:00<?, ?it/s]"
      ]
     },
     "metadata": {},
     "output_type": "display_data"
    },
    {
     "name": "stdout",
     "output_type": "stream",
     "text": [
      "31 3.1575295360740787\n"
     ]
    },
    {
     "data": {
      "application/vnd.jupyter.widget-view+json": {
       "model_id": "",
       "version_major": 2,
       "version_minor": 0
      },
      "text/plain": [
       "  0%|          | 0/43 [00:00<?, ?it/s]"
      ]
     },
     "metadata": {},
     "output_type": "display_data"
    },
    {
     "data": {
      "application/vnd.jupyter.widget-view+json": {
       "model_id": "",
       "version_major": 2,
       "version_minor": 0
      },
      "text/plain": [
       "  0%|          | 0/140 [00:00<?, ?it/s]"
      ]
     },
     "metadata": {},
     "output_type": "display_data"
    },
    {
     "name": "stdout",
     "output_type": "stream",
     "text": [
      "33 3.1659988747710464\n"
     ]
    },
    {
     "data": {
      "application/vnd.jupyter.widget-view+json": {
       "model_id": "",
       "version_major": 2,
       "version_minor": 0
      },
      "text/plain": [
       "  0%|          | 0/34 [00:00<?, ?it/s]"
      ]
     },
     "metadata": {},
     "output_type": "display_data"
    },
    {
     "data": {
      "application/vnd.jupyter.widget-view+json": {
       "model_id": "",
       "version_major": 2,
       "version_minor": 0
      },
      "text/plain": [
       "  0%|          | 0/120 [00:00<?, ?it/s]"
      ]
     },
     "metadata": {},
     "output_type": "display_data"
    },
    {
     "name": "stdout",
     "output_type": "stream",
     "text": [
      "33 3.074599894376203\n"
     ]
    },
    {
     "data": {
      "application/vnd.jupyter.widget-view+json": {
       "model_id": "",
       "version_major": 2,
       "version_minor": 0
      },
      "text/plain": [
       "  0%|          | 0/29 [00:00<?, ?it/s]"
      ]
     },
     "metadata": {},
     "output_type": "display_data"
    },
    {
     "data": {
      "application/vnd.jupyter.widget-view+json": {
       "model_id": "",
       "version_major": 2,
       "version_minor": 0
      },
      "text/plain": [
       "  0%|          | 0/120 [00:00<?, ?it/s]"
      ]
     },
     "metadata": {},
     "output_type": "display_data"
    },
    {
     "name": "stdout",
     "output_type": "stream",
     "text": [
      "35 3.1175091666962786\n"
     ]
    },
    {
     "data": {
      "application/vnd.jupyter.widget-view+json": {
       "model_id": "",
       "version_major": 2,
       "version_minor": 0
      },
      "text/plain": [
       "  0%|          | 0/29 [00:00<?, ?it/s]"
      ]
     },
     "metadata": {},
     "output_type": "display_data"
    },
    {
     "data": {
      "application/vnd.jupyter.widget-view+json": {
       "model_id": "",
       "version_major": 2,
       "version_minor": 0
      },
      "text/plain": [
       "  0%|          | 0/120 [00:00<?, ?it/s]"
      ]
     },
     "metadata": {},
     "output_type": "display_data"
    },
    {
     "name": "stdout",
     "output_type": "stream",
     "text": [
      "37 3.131083009791064\n"
     ]
    },
    {
     "data": {
      "application/vnd.jupyter.widget-view+json": {
       "model_id": "",
       "version_major": 2,
       "version_minor": 0
      },
      "text/plain": [
       "  0%|          | 0/29 [00:00<?, ?it/s]"
      ]
     },
     "metadata": {},
     "output_type": "display_data"
    },
    {
     "data": {
      "application/vnd.jupyter.widget-view+json": {
       "model_id": "",
       "version_major": 2,
       "version_minor": 0
      },
      "text/plain": [
       "  0%|          | 0/120 [00:00<?, ?it/s]"
      ]
     },
     "metadata": {},
     "output_type": "display_data"
    },
    {
     "name": "stdout",
     "output_type": "stream",
     "text": [
      "39 3.131124844724807\n"
     ]
    },
    {
     "data": {
      "application/vnd.jupyter.widget-view+json": {
       "model_id": "",
       "version_major": 2,
       "version_minor": 0
      },
      "text/plain": [
       "  0%|          | 0/29 [00:00<?, ?it/s]"
      ]
     },
     "metadata": {},
     "output_type": "display_data"
    },
    {
     "data": {
      "application/vnd.jupyter.widget-view+json": {
       "model_id": "",
       "version_major": 2,
       "version_minor": 0
      },
      "text/plain": [
       "  0%|          | 0/120 [00:00<?, ?it/s]"
      ]
     },
     "metadata": {},
     "output_type": "display_data"
    },
    {
     "name": "stdout",
     "output_type": "stream",
     "text": [
      "41 3.119868451309591\n"
     ]
    },
    {
     "data": {
      "application/vnd.jupyter.widget-view+json": {
       "model_id": "",
       "version_major": 2,
       "version_minor": 0
      },
      "text/plain": [
       "  0%|          | 0/29 [00:00<?, ?it/s]"
      ]
     },
     "metadata": {},
     "output_type": "display_data"
    },
    {
     "data": {
      "application/vnd.jupyter.widget-view+json": {
       "model_id": "",
       "version_major": 2,
       "version_minor": 0
      },
      "text/plain": [
       "  0%|          | 0/120 [00:00<?, ?it/s]"
      ]
     },
     "metadata": {},
     "output_type": "display_data"
    },
    {
     "name": "stdout",
     "output_type": "stream",
     "text": [
      "41 2.9596511836187878\n"
     ]
    },
    {
     "data": {
      "application/vnd.jupyter.widget-view+json": {
       "model_id": "",
       "version_major": 2,
       "version_minor": 0
      },
      "text/plain": [
       "  0%|          | 0/29 [00:00<?, ?it/s]"
      ]
     },
     "metadata": {},
     "output_type": "display_data"
    },
    {
     "data": {
      "application/vnd.jupyter.widget-view+json": {
       "model_id": "",
       "version_major": 2,
       "version_minor": 0
      },
      "text/plain": [
       "  0%|          | 0/120 [00:00<?, ?it/s]"
      ]
     },
     "metadata": {},
     "output_type": "display_data"
    },
    {
     "name": "stdout",
     "output_type": "stream",
     "text": [
      "41 2.790826949214228\n"
     ]
    },
    {
     "data": {
      "application/vnd.jupyter.widget-view+json": {
       "model_id": "",
       "version_major": 2,
       "version_minor": 0
      },
      "text/plain": [
       "  0%|          | 0/29 [00:00<?, ?it/s]"
      ]
     },
     "metadata": {},
     "output_type": "display_data"
    },
    {
     "data": {
      "application/vnd.jupyter.widget-view+json": {
       "model_id": "",
       "version_major": 2,
       "version_minor": 0
      },
      "text/plain": [
       "  0%|          | 0/120 [00:00<?, ?it/s]"
      ]
     },
     "metadata": {},
     "output_type": "display_data"
    },
    {
     "name": "stdout",
     "output_type": "stream",
     "text": [
      "41 2.5991134375126292\n"
     ]
    },
    {
     "data": {
      "application/vnd.jupyter.widget-view+json": {
       "model_id": "",
       "version_major": 2,
       "version_minor": 0
      },
      "text/plain": [
       "  0%|          | 0/29 [00:00<?, ?it/s]"
      ]
     },
     "metadata": {},
     "output_type": "display_data"
    },
    {
     "data": {
      "application/vnd.jupyter.widget-view+json": {
       "model_id": "",
       "version_major": 2,
       "version_minor": 0
      },
      "text/plain": [
       "  0%|          | 0/120 [00:00<?, ?it/s]"
      ]
     },
     "metadata": {},
     "output_type": "display_data"
    },
    {
     "name": "stdout",
     "output_type": "stream",
     "text": [
      "41 2.4930798015185323\n"
     ]
    },
    {
     "data": {
      "application/vnd.jupyter.widget-view+json": {
       "model_id": "",
       "version_major": 2,
       "version_minor": 0
      },
      "text/plain": [
       "  0%|          | 0/29 [00:00<?, ?it/s]"
      ]
     },
     "metadata": {},
     "output_type": "display_data"
    },
    {
     "data": {
      "application/vnd.jupyter.widget-view+json": {
       "model_id": "",
       "version_major": 2,
       "version_minor": 0
      },
      "text/plain": [
       "  0%|          | 0/120 [00:00<?, ?it/s]"
      ]
     },
     "metadata": {},
     "output_type": "display_data"
    },
    {
     "name": "stdout",
     "output_type": "stream",
     "text": [
      "41 2.3099103112302184\n"
     ]
    },
    {
     "data": {
      "application/vnd.jupyter.widget-view+json": {
       "model_id": "",
       "version_major": 2,
       "version_minor": 0
      },
      "text/plain": [
       "  0%|          | 0/29 [00:00<?, ?it/s]"
      ]
     },
     "metadata": {},
     "output_type": "display_data"
    },
    {
     "data": {
      "application/vnd.jupyter.widget-view+json": {
       "model_id": "",
       "version_major": 2,
       "version_minor": 0
      },
      "text/plain": [
       "  0%|          | 0/120 [00:00<?, ?it/s]"
      ]
     },
     "metadata": {},
     "output_type": "display_data"
    },
    {
     "name": "stdout",
     "output_type": "stream",
     "text": [
      "41 2.1770783975727706\n"
     ]
    },
    {
     "data": {
      "application/vnd.jupyter.widget-view+json": {
       "model_id": "",
       "version_major": 2,
       "version_minor": 0
      },
      "text/plain": [
       "  0%|          | 0/29 [00:00<?, ?it/s]"
      ]
     },
     "metadata": {},
     "output_type": "display_data"
    },
    {
     "data": {
      "application/vnd.jupyter.widget-view+json": {
       "model_id": "",
       "version_major": 2,
       "version_minor": 0
      },
      "text/plain": [
       "  0%|          | 0/120 [00:00<?, ?it/s]"
      ]
     },
     "metadata": {},
     "output_type": "display_data"
    },
    {
     "name": "stdout",
     "output_type": "stream",
     "text": [
      "41 2.0168225460366798\n"
     ]
    },
    {
     "data": {
      "application/vnd.jupyter.widget-view+json": {
       "model_id": "",
       "version_major": 2,
       "version_minor": 0
      },
      "text/plain": [
       "  0%|          | 0/29 [00:00<?, ?it/s]"
      ]
     },
     "metadata": {},
     "output_type": "display_data"
    },
    {
     "data": {
      "application/vnd.jupyter.widget-view+json": {
       "model_id": "",
       "version_major": 2,
       "version_minor": 0
      },
      "text/plain": [
       "  0%|          | 0/120 [00:00<?, ?it/s]"
      ]
     },
     "metadata": {},
     "output_type": "display_data"
    },
    {
     "name": "stdout",
     "output_type": "stream",
     "text": [
      "41 1.8421287038770837\n"
     ]
    },
    {
     "data": {
      "application/vnd.jupyter.widget-view+json": {
       "model_id": "",
       "version_major": 2,
       "version_minor": 0
      },
      "text/plain": [
       "  0%|          | 0/29 [00:00<?, ?it/s]"
      ]
     },
     "metadata": {},
     "output_type": "display_data"
    },
    {
     "data": {
      "application/vnd.jupyter.widget-view+json": {
       "model_id": "",
       "version_major": 2,
       "version_minor": 0
      },
      "text/plain": [
       "  0%|          | 0/120 [00:00<?, ?it/s]"
      ]
     },
     "metadata": {},
     "output_type": "display_data"
    },
    {
     "name": "stdout",
     "output_type": "stream",
     "text": [
      "41 1.7039339346471718\n"
     ]
    },
    {
     "data": {
      "application/vnd.jupyter.widget-view+json": {
       "model_id": "",
       "version_major": 2,
       "version_minor": 0
      },
      "text/plain": [
       "  0%|          | 0/29 [00:00<?, ?it/s]"
      ]
     },
     "metadata": {},
     "output_type": "display_data"
    },
    {
     "data": {
      "application/vnd.jupyter.widget-view+json": {
       "model_id": "",
       "version_major": 2,
       "version_minor": 0
      },
      "text/plain": [
       "  0%|          | 0/120 [00:00<?, ?it/s]"
      ]
     },
     "metadata": {},
     "output_type": "display_data"
    },
    {
     "name": "stdout",
     "output_type": "stream",
     "text": [
      "41 1.5637585280322563\n"
     ]
    },
    {
     "data": {
      "application/vnd.jupyter.widget-view+json": {
       "model_id": "",
       "version_major": 2,
       "version_minor": 0
      },
      "text/plain": [
       "  0%|          | 0/29 [00:00<?, ?it/s]"
      ]
     },
     "metadata": {},
     "output_type": "display_data"
    },
    {
     "data": {
      "application/vnd.jupyter.widget-view+json": {
       "model_id": "",
       "version_major": 2,
       "version_minor": 0
      },
      "text/plain": [
       "  0%|          | 0/120 [00:00<?, ?it/s]"
      ]
     },
     "metadata": {},
     "output_type": "display_data"
    },
    {
     "name": "stdout",
     "output_type": "stream",
     "text": [
      "41 1.3978588855231135\n"
     ]
    },
    {
     "data": {
      "application/vnd.jupyter.widget-view+json": {
       "model_id": "",
       "version_major": 2,
       "version_minor": 0
      },
      "text/plain": [
       "  0%|          | 0/29 [00:00<?, ?it/s]"
      ]
     },
     "metadata": {},
     "output_type": "display_data"
    }
   ],
   "source": [
    "for i,ltau in enumerate(tqdm(ltaus)): \n",
    "    ldt = ltau/ntau if ltau > 0 else 0.01\n",
    "    N_t = max(int(max_t/ldt), 30)\n",
    "    \n",
    "    ts = np.arange(0,N_t)*ldt\n",
    "    sim_ts = np.arange(0,f*(N_t+ntau))*ldt/f-ltau\n",
    "    \n",
    "    \n",
    "    pos = simulate_traj_g(N_p=N_p, N_loop=N_loop, N_t=(N_t+ntau)*f, ntau=ntau*f, s=s, dt=ldt/f,border=0, force=force)\n",
    "    sim_var = np.var(pos, axis = 1)\n",
    "    \n",
    "    # adapt boundaries to varianz (from sim) -> 3 sigma\n",
    "    sb = 3*np.sqrt(np.max(sim_var))\n",
    "    sb = min(20*dx, np.round(sb/dx)*dx)\n",
    "    \n",
    "    x_s = np.arange(-sb,sb+1e-6,dx)\n",
    "    bins = np.arange(-sb-dx/2,sb+dx/2+1e-5,dx)\n",
    "    N_x = len(x_s)\n",
    "    print(N_x, N_x/ (2*np.sqrt(np.max(sim_var))/dx) )\n",
    "    i_zero = np.argmin(x_s**2)\n",
    "\n",
    "    \n",
    "    sim_hists = np.swapaxes(np.apply_along_axis(lambda a: np.histogram(a, bins)[0], 1, pos), 1,2)\n",
    "    sim_hist_var =  np.apply_along_axis(get_var_hist,-1, sim_hists, x_s=x_s)\n",
    "    \n",
    "    if ltau > 0:\n",
    "        # v1\n",
    "        # prop = get_prop_abs(x_s, force,D,ldt,dx)\n",
    "        # R, _, end_states = create_R(N_x, ntau, prop)\n",
    "\n",
    "        # v2\n",
    "        prop = get_prop_abs_v2_g(x_s, force,D,ldt,dx)\n",
    "        R, _, end_states = create_R_v1(N_x, ntau, prop)\n",
    "\n",
    "        _, hists = get_dyn_v2(R, i_zero,N_t, N_x, ntau, end_states)\n",
    "    else:\n",
    "        print('tau = 0, Not integrated jet !!!!')\n",
    "        continue\n",
    "#     else:\n",
    "#         R = get_non_delayed_prop(x_s, force,D,ldt,dx)\n",
    "#         hists = get_non_delayed_dyn(R,i_zero,N_t, N_x)\n",
    "    \n",
    "    num_var = get_var_hist(hists, x_s)\n",
    "    \n",
    "    mean_sim_vars = np.mean(sim_var[:,-f*ntau*2:], axis = 1)\n",
    "    sim_vars[i] = (np.mean(mean_sim_vars), np.std(mean_sim_vars)/np.sqrt(N_loop))\n",
    "    \n",
    "    mean_s_eq = sim_ts[np.argmin((eq_perc*mean_sim_vars[:,None]-sim_var)**2, axis = 1)]\n",
    "    sim_eq_time[i] = (np.mean(mean_s_eq), np.std(mean_s_eq)/np.sqrt(N_loop))\n",
    "    \n",
    "    \n",
    "    mean_sim_hist_var = np.mean(sim_hist_var[:,-f*ntau*2:], axis = 1)\n",
    "    sim_hist_vars[i] = (np.mean(mean_sim_hist_var), np.std(mean_sim_hist_var)/np.sqrt(N_loop))\n",
    "    \n",
    "    mean_sh_eq = sim_ts[np.argmin((eq_perc*mean_sim_hist_var[:,None]-sim_hist_var)**2, axis = 1)]\n",
    "    sim_hist_eq_time[i] = (np.mean(mean_sh_eq), np.std(mean_sh_eq)/np.sqrt(N_loop))\n",
    "                  \n",
    "    mean_num_var = np.mean(num_var[-ntau*2:])\n",
    "    num_vars[i] =  (mean_num_var, np.max(num_var[-ntau*2:])-np.min(num_var[-ntau*2:]))\n",
    "    num_eq_time[i] =  ts[np.argmin((eq_perc*mean_num_var-num_var)**2)]"
   ]
  },
  {
   "cell_type": "code",
   "execution_count": 6,
   "id": "782ca4b8-5147-49dc-8757-6e19ad36bb73",
   "metadata": {},
   "outputs": [
    {
     "data": {
      "image/png": "[encoded data removed]",
      "text/plain": [
       "<Figure size 2100x900 with 2 Axes>"
      ]
     },
     "metadata": {},
     "output_type": "display_data"
    }
   ],
   "source": [
    "plt.figure(figsize=(7,3))\n",
    "ax = plt.subplot(121)\n",
    "#plt.plot(ltaus,sim_vars[:,0],'.-', label='sim')\n",
    "\n",
    "plt.errorbar(ltaus,num_vars[:,0],num_vars[:,1],marker='.', ls='--', label='new algorithm')\n",
    "\n",
    "\n",
    "\n",
    "#plt.plot(ltaus,short_time_approx_var ,'.-.',label='short time')\n",
    "#plt.plot(ltaus[ltaus < np.pi/2/k],exact_sol[ltaus < np.pi/2/k] ,'.-.',label='exact')\n",
    "\n",
    "plt.errorbar(ltaus,sim_hist_vars[:,0],sim_hist_vars[:,1],marker='.', label='hist-sim')\n",
    "#plt.ylim(3e-1,10)\n",
    "plt.ylim(*plt.ylim())\n",
    "plt.xlim(0,2.1)\n",
    "plt.vlines([1/np.e /k, np.pi/2/k],*plt.ylim(), color='black')\n",
    "y = 4e-1\n",
    "# plt.text(0.5*1/np.e /k,              y,'Regim I', ha='center', va='center')\n",
    "# plt.text(0.5*(1/np.e /k+  np.pi/2/k),y,'Regim II',ha='center', va='center')\n",
    "# plt.text(0.5*(np.pi/2/k + plt.xlim()[1]),            y,'Regim III',ha='center', va='center')\n",
    "\n",
    "plt.yscale('log')\n",
    "plt.legend()\n",
    "plt.xlabel(r'$\\tau$')\n",
    "plt.ylabel(r'$\\sigma^2$')\n",
    "\n",
    "#auflösungslimit\n",
    "#plt.hlines((x_s[-1]/3)**2, *plt.xlim())\n",
    "\n",
    "ax = plt.subplot(122)\n",
    "plt.errorbar(ltaus, num_vars[:,0]/sim_hist_vars[:,0], \n",
    "             yerr = np.sqrt( ( num_vars[:,1]/sim_hist_vars[:,0])**2 + (num_vars[:,0]/sim_hist_vars[:,0]**2*sim_hist_vars[:,1])**2),\n",
    "                            marker = '.')\n",
    "#plt.plot(ltaus, num_vars[:,0]/sim_vars[:,0], '.-')\n",
    "plt.xlabel(r'$\\tau$')\n",
    "plt.ylabel(r'deviation')\n",
    "\n",
    "\n",
    "plt.tight_layout()\n",
    "#plt.savefig('graphics/x2variance_v2_g.pdf')"
   ]
  },
  {
   "cell_type": "code",
   "execution_count": null,
   "id": "7d14936d-9be9-42b4-b266-a4044924ff1a",
   "metadata": {},
   "outputs": [],
   "source": []
  }
 ],
 "metadata": {
  "kernelspec": {
   "display_name": "Python 3",
   "language": "python",
   "name": "python3"
  },
  "language_info": {
   "codemirror_mode": {
    "name": "ipython",
    "version": 3
   },
   "file_extension": ".py",
   "mimetype": "text/x-python",
   "name": "python",
   "nbconvert_exporter": "python",
   "pygments_lexer": "ipython3",
   "version": "3.10.6"
  }
 },
 "nbformat": 4,
 "nbformat_minor": 5
}
