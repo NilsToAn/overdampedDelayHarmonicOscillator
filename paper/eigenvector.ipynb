{
 "cells": [
  {
   "cell_type": "code",
   "execution_count": 1,
   "id": "987f5d46-4314-415b-a89a-e94281f49a64",
   "metadata": {},
   "outputs": [],
   "source": [
    "%load_ext autoreload\n",
    "%autoreload 2\n",
    "%matplotlib inline"
   ]
  },
  {
   "cell_type": "code",
   "execution_count": 2,
   "id": "cb3ec565-dddc-4f8a-ac5a-cc41b3655d16",
   "metadata": {},
   "outputs": [],
   "source": [
    "import numpy as np\n",
    "import matplotlib.pyplot as plt\n",
    "from tqdm.notebook import tqdm\n",
    "import pickle\n",
    "from functions import get_dyn_v2, get_prop_abs_v2, create_R_v1, get_x2_var, get_x2_var_short_time\n",
    "from functions import get_var_hist,simulate_traj, create_R, get_prop_abs, get_steady_mean, get_theo_var_l, get_non_delayed_prop, get_non_delayed_dyn\n",
    "from setup import setup_matplotlib, one_col, std_height, two_col\n",
    "from timeit import default_timer as timer\n",
    "import scipy\n",
    "\n",
    "setup_matplotlib()\n",
    "\n",
    "np.random.seed(42)"
   ]
  },
  {
   "cell_type": "code",
   "execution_count": 3,
   "id": "bbcfa29a-ee1c-4d69-8990-02a72023f44f",
   "metadata": {},
   "outputs": [
    {
     "data": {
      "text/plain": [
       "1.5707963267948966"
      ]
     },
     "execution_count": 3,
     "metadata": {},
     "output_type": "execute_result"
    }
   ],
   "source": [
    "np.pi/2"
   ]
  },
  {
   "cell_type": "code",
   "execution_count": 18,
   "id": "58a5f88b-38e7-4850-8eab-2d6edcab21d2",
   "metadata": {},
   "outputs": [],
   "source": [
    "k = 1\n",
    "s = 0.5\n",
    "D = s**2/2\n",
    "ntau = 3\n",
    "\n",
    "N_x = 30\n",
    "tau = 1\n",
    "\n",
    "dt = tau/ntau\n",
    "\n",
    "# sb = 3\n",
    "# border = sb\n",
    "# dx = (sb+border)/(N_x-1)\n",
    "# x_s = np.arange(-sb,border+1e-6,dx)\n",
    "\n",
    "\n",
    "\n",
    "# def force(x,*args):\n",
    "#      return -k*x\n",
    "\n",
    "N_x_border = 6.5\n",
    "dx = 1/N_x_border\n",
    "sb = 15.5*dx\n",
    "border = sb\n",
    "x_s = np.arange(-sb,border+1e-6,dx)\n",
    "N_x = len(x_s)\n",
    "def cusp_force(x, thresh = 1e-7):\n",
    "    if x < -thresh:\n",
    "        return -k*(x+1)\n",
    "    elif x > thresh:\n",
    "        return -k*(x-1)\n",
    "    else:\n",
    "        return 0\n",
    "force = np.vectorize(cusp_force)"
   ]
  },
  {
   "cell_type": "code",
   "execution_count": 19,
   "id": "ddf286ea-11e0-49b7-a00f-8159b5000ac9",
   "metadata": {},
   "outputs": [
    {
     "data": {
      "text/plain": [
       "(32, 32)"
      ]
     },
     "execution_count": 19,
     "metadata": {},
     "output_type": "execute_result"
    }
   ],
   "source": [
    "N_x, len(x_s)"
   ]
  },
  {
   "cell_type": "code",
   "execution_count": 20,
   "id": "1a3d5eba-2fc1-4863-a53f-7aebbdd9df8b",
   "metadata": {},
   "outputs": [
    {
     "data": {
      "text/plain": [
       "array([-2.38461538, -2.23076923, -2.07692308, -1.92307692, -1.76923077,\n",
       "       -1.61538462, -1.46153846, -1.30769231, -1.15384615, -1.        ,\n",
       "       -0.84615385, -0.69230769, -0.53846154, -0.38461538, -0.23076923,\n",
       "       -0.07692308,  0.07692308,  0.23076923,  0.38461538,  0.53846154,\n",
       "        0.69230769,  0.84615385,  1.        ,  1.15384615,  1.30769231,\n",
       "        1.46153846,  1.61538462,  1.76923077,  1.92307692,  2.07692308,\n",
       "        2.23076923,  2.38461538])"
      ]
     },
     "execution_count": 20,
     "metadata": {},
     "output_type": "execute_result"
    }
   ],
   "source": [
    "x_s"
   ]
  },
  {
   "cell_type": "code",
   "execution_count": 21,
   "id": "5f932aa8-e339-4f6f-b5fd-87c8b52ad653",
   "metadata": {},
   "outputs": [],
   "source": [
    "all_states = np.arange(0, N_x**(ntau+1))\n",
    "end_states = np.stack([all_states[all_states//N_x**ntau == i] for i in range(N_x)])"
   ]
  },
  {
   "cell_type": "code",
   "execution_count": 22,
   "id": "84c5d21a-d6b4-44b0-a0b5-8625f3c06fee",
   "metadata": {},
   "outputs": [],
   "source": [
    "prop = get_prop_abs_v2(x_s, force,D,dt,dx)\n",
    "R, _, end_states = create_R_v1(N_x, ntau, prop)"
   ]
  },
  {
   "cell_type": "code",
   "execution_count": 23,
   "id": "ef1af366-158e-41ce-ad39-f6d486635a83",
   "metadata": {},
   "outputs": [],
   "source": [
    "evals, evect = scipy.sparse.linalg.eigs(R, k = 4)"
   ]
  },
  {
   "cell_type": "code",
   "execution_count": 24,
   "id": "6417f4f6-d9f5-4c8f-a28b-084650778081",
   "metadata": {},
   "outputs": [
    {
     "data": {
      "text/plain": [
       "array([0.9926329 +0.j        , 0.96378512+0.j        ,\n",
       "       0.75953081+0.34527104j, 0.75953081-0.34527104j])"
      ]
     },
     "execution_count": 24,
     "metadata": {},
     "output_type": "execute_result"
    }
   ],
   "source": [
    "evals"
   ]
  },
  {
   "cell_type": "code",
   "execution_count": 33,
   "id": "48295753-484d-40e2-b2bd-adf670e2382b",
   "metadata": {},
   "outputs": [],
   "source": [
    "idx = 0\n",
    "main_eval = np.abs(evals[idx])\n",
    "main_evect = np.real(evect[:,idx])\n",
    "if main_evect.sum() < 0:\n",
    "    main_evect *= -1"
   ]
  },
  {
   "cell_type": "code",
   "execution_count": 34,
   "id": "46d4029c-46bb-44f1-b98d-f1bef562cdb1",
   "metadata": {},
   "outputs": [
    {
     "data": {
      "text/plain": [
       "-3.194951466796828e-16"
      ]
     },
     "execution_count": 34,
     "metadata": {},
     "output_type": "execute_result"
    }
   ],
   "source": [
    "main_evect[main_evect < 0].sum()/main_evect.sum()"
   ]
  },
  {
   "cell_type": "code",
   "execution_count": 35,
   "id": "ce396abe-9837-4600-bff0-499d38ec5d77",
   "metadata": {},
   "outputs": [
    {
     "data": {
      "text/plain": [
       "(32, 32768)"
      ]
     },
     "execution_count": 35,
     "metadata": {},
     "output_type": "execute_result"
    }
   ],
   "source": [
    "end_states.shape"
   ]
  },
  {
   "cell_type": "code",
   "execution_count": 36,
   "id": "3e423b42-9fd1-480f-8d1c-5d1649756f99",
   "metadata": {},
   "outputs": [
    {
     "data": {
      "text/plain": [
       "[<matplotlib.lines.Line2D at 0x7f1d58294b50>]"
      ]
     },
     "execution_count": 36,
     "metadata": {},
     "output_type": "execute_result"
    },
    {
     "data": {
      "image/png": "[encoded data removed]",
      "text/plain": [
       "<Figure size 1011x624.074 with 1 Axes>"
      ]
     },
     "metadata": {},
     "output_type": "display_data"
    }
   ],
   "source": [
    "plt.plot(x_s, main_evect[end_states].sum(axis = 1), '.-')\n",
    "#plt.yscale('log')"
   ]
  },
  {
   "cell_type": "code",
   "execution_count": 15,
   "id": "9baacc4a-dfc8-4010-bbbe-bc6ab19d707c",
   "metadata": {},
   "outputs": [
    {
     "data": {
      "text/plain": [
       "1.046175228391254"
      ]
     },
     "execution_count": 15,
     "metadata": {},
     "output_type": "execute_result"
    }
   ],
   "source": [
    "get_var_hist(main_evect[end_states].sum(axis = 1), x_s)"
   ]
  },
  {
   "cell_type": "code",
   "execution_count": null,
   "id": "893d9ce3-d6e8-487d-a19c-c3a36f05cf8c",
   "metadata": {},
   "outputs": [],
   "source": []
  }
 ],
 "metadata": {
  "kernelspec": {
   "display_name": "Python 3 (ipykernel)",
   "language": "python",
   "name": "python3"
  },
  "language_info": {
   "codemirror_mode": {
    "name": "ipython",
    "version": 3
   },
   "file_extension": ".py",
   "mimetype": "text/x-python",
   "name": "python",
   "nbconvert_exporter": "python",
   "pygments_lexer": "ipython3",
   "version": "3.10.6"
  }
 },
 "nbformat": 4,
 "nbformat_minor": 5
}
