{
 "cells": [
  {
   "cell_type": "code",
   "execution_count": 1,
   "id": "bbc8e31f-b1d6-48ad-9752-2c9fd9d7af79",
   "metadata": {},
   "outputs": [],
   "source": [
    "%load_ext autoreload\n",
    "%autoreload 2\n",
    "%matplotlib inline"
   ]
  },
  {
   "cell_type": "code",
   "execution_count": 2,
   "id": "418b5d5c-c2b9-4409-8ba8-de81f91ff17b",
   "metadata": {},
   "outputs": [],
   "source": [
    "import numpy as np\n",
    "import matplotlib.pyplot as plt\n",
    "from tqdm.notebook import tqdm\n",
    "from setup import setup_matplotlib\n",
    "\n",
    "setup_matplotlib()\n",
    "\n",
    "np.random.seed(42)"
   ]
  },
  {
   "cell_type": "code",
   "execution_count": 3,
   "id": "837aa81a-fcce-4988-b8b4-0459ff769b64",
   "metadata": {},
   "outputs": [],
   "source": [
    "k = 1\n",
    "s = 1\n",
    "D = s**2/2\n",
    "#N_t = 100\n",
    "max_t = 6\n",
    "ntau = 3\n",
    "dx = 0.2\n",
    "sb = 20*dx\n",
    "\n",
    "f = 15\n",
    "N_p = 16_000\n",
    "\n",
    "\n",
    "x_s = np.arange(-sb,sb+1e-6,dx)\n",
    "bins = np.arange(-sb-dx/2,sb+dx/2+1e-5,dx)\n",
    "N_x = len(x_s)\n",
    "\n",
    "def force(x,*args):\n",
    "     return -k*x**3\n",
    "\n",
    "i_zero = np.argmin(x_s**2)"
   ]
  },
  {
   "cell_type": "code",
   "execution_count": 4,
   "id": "16f54da9-5c68-4964-b01c-a340ca18f257",
   "metadata": {},
   "outputs": [],
   "source": [
    "def sim(ntau_t,dt_t,x0, force):\n",
    "    \"\"\"Simulation determinstic delay diferential equation\n",
    "\n",
    "    Parameters\n",
    "    ----------\n",
    "    ntau_t : int\n",
    "        time delay in units of dt\n",
    "    dt_t : float\n",
    "        temporal resolution\n",
    "    x0 : float\n",
    "        initial condition\n",
    "    force : Callable\n",
    "        force function\n",
    "\n",
    "    Returns\n",
    "    -------\n",
    "    np.ndarray\n",
    "        the trajectory \n",
    "    \"\"\"\n",
    "    x = np.empty(100000)\n",
    "    x[:ntau_t] = 0\n",
    "    x[ntau_t-1] = x0\n",
    "    for i in range(ntau_t, len(x)):\n",
    "        x[i] = x[i-1]+force(x[i-ntau_t])*dt_t\n",
    "    return x"
   ]
  },
  {
   "cell_type": "markdown",
   "id": "5c01ea53-8840-4264-b3b3-01f6cd1ba694",
   "metadata": {},
   "source": [
    "# Nummerical"
   ]
  },
  {
   "cell_type": "code",
   "execution_count": 5,
   "id": "8db274c0-38ef-4ece-a6c7-413be50d8cb0",
   "metadata": {},
   "outputs": [
    {
     "name": "stderr",
     "output_type": "stream",
     "text": [
      "/tmp/ipykernel_5898/951007182.py:19: RuntimeWarning: overflow encountered in double_scalars\n",
      "  return -k*x**3\n",
      "/tmp/ipykernel_5898/2969857952.py:25: RuntimeWarning: invalid value encountered in double_scalars\n",
      "  x[i] = x[i-1]+force(x[i-ntau_t])*dt_t\n",
      "/tmp/ipykernel_5898/2969857952.py:48: RuntimeWarning: invalid value encountered in double_scalars\n",
      "  x[i] = x[i-1]+force(x[i-ntau_t])*dt_t\n"
     ]
    }
   ],
   "source": [
    "det_f = 200\n",
    "x = np.empty(100000)\n",
    "\n",
    "\n",
    "def get_con(x0, ntau_t, dt_t ):\n",
    "    \"\"\"Check if function converges for given paramters\n",
    "\n",
    "    Parameters\n",
    "    ----------\n",
    "    x0 : float\n",
    "        inital condition\n",
    "    ntau_t : int\n",
    "        time delay in units of dt\n",
    "    dt_t : float\n",
    "        temporal resolution\n",
    "\n",
    "    Returns\n",
    "    -------\n",
    "    bool\n",
    "        converges if true\n",
    "    \"\"\"\n",
    "    x[:ntau_t] = 0\n",
    "    x[ntau_t-1] = x0\n",
    "    for i in range(ntau_t, len(x)):\n",
    "        x[i] = x[i-1]+force(x[i-ntau_t])*dt_t\n",
    "    return np.isfinite(x[-1]) and x[-1] < x0\n",
    "\n",
    "def get_oszi(x0, ntau_t, dt_t ):\n",
    "    \"\"\"Check if function oszillates for given paramters\n",
    "\n",
    "    Parameters\n",
    "    ----------\n",
    "    x0 : float\n",
    "        inital condition\n",
    "    ntau_t : int\n",
    "        time delay in units of dt\n",
    "    dt_t : float\n",
    "        temporal resolution\n",
    "\n",
    "    Returns\n",
    "    -------\n",
    "    bool\n",
    "        no oszillations if true\n",
    "    \"\"\"\n",
    "    x[:ntau_t] = 0\n",
    "    x[ntau_t-1] = x0\n",
    "    for i in range(ntau_t, len(x)):\n",
    "        x[i] = x[i-1]+force(x[i-ntau_t])*dt_t\n",
    "    return np.all(x >= 0)\n",
    "\n",
    "\n",
    "det_ltaus = np.logspace(-2,1,10) #np.arange(0.01,0.21,0.01)\n",
    "diff_b = []\n",
    "oszi_b = []\n",
    "\n",
    "\n",
    "for ltau in det_ltaus:\n",
    "    x1 = 0.001\n",
    "    x3 = 60\n",
    "    \n",
    "    ntau_t = ntau*det_f\n",
    "    dt_t = ltau/ntau_t\n",
    "    \n",
    "    e1 = get_con(x1, ntau_t, dt_t)\n",
    "    e3 = get_con(x3, ntau_t, dt_t)\n",
    "    if not e1 or e3:\n",
    "        print('Boundarys to small')\n",
    "    for i in range(10):\n",
    "        x2 = (x1+x3)/2\n",
    "        e2 = get_con(x2, ntau_t, dt_t)\n",
    "        if e2:\n",
    "            x1 = x2\n",
    "        else:\n",
    "            x3 = x2\n",
    "    diff_b.append((x1+x3)/2)\n",
    "    \n",
    "for ltau in det_ltaus:\n",
    "    x1 = 0.001\n",
    "    x3 = 60\n",
    "    \n",
    "    ntau_t = ntau*det_f\n",
    "    dt_t = ltau/ntau_t\n",
    "    \n",
    "    e1 = get_oszi(x1, ntau_t, dt_t)\n",
    "    e3 = get_oszi(x3, ntau_t, dt_t)\n",
    "    if not e1 or e3:\n",
    "        print('Boundarys to small')\n",
    "    for i in range(10):\n",
    "        x2 = (x1+x3)/2\n",
    "        e2 = get_oszi(x2, ntau_t, dt_t)\n",
    "        if e2:\n",
    "            x1 = x2\n",
    "        else:\n",
    "            x3 = x2\n",
    "    oszi_b.append((x1+x3)/2)"
   ]
  },
  {
   "cell_type": "code",
   "execution_count": 6,
   "id": "fdc74f4d-b088-403a-b3e5-56781458a502",
   "metadata": {},
   "outputs": [
    {
     "data": {
      "image/png": "[encoded data removed]",
      "text/plain": [
       "<Figure size 1011x624.074 with 1 Axes>"
      ]
     },
     "metadata": {},
     "output_type": "display_data"
    }
   ],
   "source": [
    "plt.plot(det_ltaus, diff_b)\n",
    "#plt.plot(det_ltaus, oszi_b)\n",
    "plt.plot(det_ltaus, np.sqrt(7)/2*det_ltaus**(-1/2))\n",
    "# plt.plot(det_ltaus,(6/7)*det_ltaus**(-1/2)) # WHy ?? - in both cases pre factor estimated\n",
    "plt.text(1,5,'Unstable')\n",
    "plt.text(0.05,1,'Stable')\n",
    "plt.yscale('log')\n",
    "plt.xscale('log')\n",
    "plt.ylabel('$x_0$')\n",
    "plt.xlabel(r'$\\tau$')\n",
    "plt.tight_layout()\n",
    "plt.savefig('graphics/x4stability.pdf')"
   ]
  }
 ],
 "metadata": {
  "kernelspec": {
   "display_name": "Python 3 (ipykernel)",
   "language": "python",
   "name": "python3"
  },
  "language_info": {
   "codemirror_mode": {
    "name": "ipython",
    "version": 3
   },
   "file_extension": ".py",
   "mimetype": "text/x-python",
   "name": "python",
   "nbconvert_exporter": "python",
   "pygments_lexer": "ipython3",
   "version": "3.10.6"
  }
 },
 "nbformat": 4,
 "nbformat_minor": 5
}
