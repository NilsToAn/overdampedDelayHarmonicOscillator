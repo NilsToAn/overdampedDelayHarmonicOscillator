{
 "cells": [
  {
   "cell_type": "code",
   "execution_count": 1,
   "id": "bbc8e31f-b1d6-48ad-9752-2c9fd9d7af79",
   "metadata": {},
   "outputs": [],
   "source": [
    "%load_ext autoreload\n",
    "%autoreload 2\n",
    "%matplotlib inline"
   ]
  },
  {
   "cell_type": "code",
   "execution_count": 2,
   "id": "418b5d5c-c2b9-4409-8ba8-de81f91ff17b",
   "metadata": {},
   "outputs": [],
   "source": [
    "import numpy as np\n",
    "import matplotlib.pyplot as plt\n",
    "from tqdm.notebook import tqdm\n",
    "import pickle\n",
    "from functions import get_dyn_v2, get_prop_abs_v2, create_R_v1, get_var_hist,simulate_traj, get_p_x4_short_time, get_steady_mean\n",
    "from setup import setup_matplotlib\n",
    "\n",
    "from sympy import symbols, integrate, lambdify, simplify\n",
    "\n",
    "setup_matplotlib()\n",
    "\n",
    "np.random.seed(42)"
   ]
  },
  {
   "cell_type": "code",
   "execution_count": 3,
   "id": "837aa81a-fcce-4988-b8b4-0459ff769b64",
   "metadata": {},
   "outputs": [],
   "source": [
    "k = 1\n",
    "s = 1\n",
    "D = s**2/2\n",
    "#N_t = 100\n",
    "max_t = 6\n",
    "ntau = 3\n",
    "dx = 0.2\n",
    "sb = 20*dx\n",
    "\n",
    "f = 15\n",
    "N_p = 16_000\n",
    "\n",
    "\n",
    "x_s = np.arange(-sb,sb+1e-6,dx)\n",
    "bins = np.arange(-sb-dx/2,sb+dx/2+1e-5,dx)\n",
    "N_x = len(x_s)\n",
    "\n",
    "def force(x,*args):\n",
    "     return -k*x**3\n",
    "\n",
    "i_zero = np.argmin(x_s**2)"
   ]
  },
  {
   "cell_type": "code",
   "execution_count": 4,
   "id": "16f54da9-5c68-4964-b01c-a340ca18f257",
   "metadata": {},
   "outputs": [],
   "source": [
    "def sim(ntau_t,dt_t,x0, force):\n",
    "    x = np.empty(100000)\n",
    "    x[:ntau_t] = 0\n",
    "    x[ntau_t-1] = x0\n",
    "    for i in range(ntau_t, len(x)):\n",
    "        x[i] = x[i-1]+force(x[i-ntau_t])*dt_t\n",
    "    return x"
   ]
  },
  {
   "cell_type": "code",
   "execution_count": 5,
   "id": "8db274c0-38ef-4ece-a6c7-413be50d8cb0",
   "metadata": {},
   "outputs": [],
   "source": [
    "# det_f = 200\n",
    "# x = np.empty(100000)\n",
    "\n",
    "\n",
    "# def get_con(x0, ntau_t, dt_t ):\n",
    "#     x[:ntau_t] = 0\n",
    "#     x[ntau_t-1] = x0\n",
    "#     for i in range(ntau_t, len(x)):\n",
    "#         x[i] = x[i-1]+force(x[i-ntau_t])*dt_t\n",
    "#     return np.isfinite(x[-1]) and x[-1] < x0\n",
    "\n",
    "# def get_oszi(x0, ntau_t, dt_t ):\n",
    "#     x[:ntau_t] = 0\n",
    "#     x[ntau_t-1] = x0\n",
    "#     for i in range(ntau_t, len(x)):\n",
    "#         x[i] = x[i-1]+force(x[i-ntau_t])*dt_t\n",
    "#     return np.all(x >= 0)\n",
    "\n",
    "\n",
    "# det_ltaus = np.logspace(-2,1,10) #np.arange(0.01,0.21,0.01)\n",
    "# diff_b = []\n",
    "# oszi_b = []\n",
    "\n",
    "\n",
    "# for ltau in det_ltaus:\n",
    "#     x1 = 0.001\n",
    "#     x3 = 60\n",
    "    \n",
    "#     ntau_t = ntau*det_f\n",
    "#     dt_t = ltau/ntau_t\n",
    "    \n",
    "#     e1 = get_con(x1, ntau_t, dt_t)\n",
    "#     e3 = get_con(x3, ntau_t, dt_t)\n",
    "#     if not e1 or e3:\n",
    "#         print('Boundarys to small')\n",
    "#     for i in range(10):\n",
    "#         x2 = (x1+x3)/2\n",
    "#         e2 = get_con(x2, ntau_t, dt_t)\n",
    "#         if e2:\n",
    "#             x1 = x2\n",
    "#         else:\n",
    "#             x3 = x2\n",
    "#     diff_b.append((x1+x3)/2)\n",
    "    \n",
    "# for ltau in det_ltaus:\n",
    "#     x1 = 0.001\n",
    "#     x3 = 60\n",
    "    \n",
    "#     ntau_t = ntau*det_f\n",
    "#     dt_t = ltau/ntau_t\n",
    "    \n",
    "#     e1 = get_oszi(x1, ntau_t, dt_t)\n",
    "#     e3 = get_oszi(x3, ntau_t, dt_t)\n",
    "#     if not e1 or e3:\n",
    "#         print('Boundarys to small')\n",
    "#     for i in range(10):\n",
    "#         x2 = (x1+x3)/2\n",
    "#         e2 = get_oszi(x2, ntau_t, dt_t)\n",
    "#         if e2:\n",
    "#             x1 = x2\n",
    "#         else:\n",
    "#             x3 = x2\n",
    "#     oszi_b.append((x1+x3)/2)"
   ]
  },
  {
   "cell_type": "code",
   "execution_count": 6,
   "id": "fdc74f4d-b088-403a-b3e5-56781458a502",
   "metadata": {},
   "outputs": [],
   "source": [
    "# plt.plot(det_ltaus, diff_b)\n",
    "# plt.plot(det_ltaus, oszi_b)\n",
    "# plt.plot(det_ltaus, 4/3*det_ltaus**(-1/2)) #Why ?? - dif border\n",
    "# plt.plot(det_ltaus,(6/7)*det_ltaus**(-1/2)) # WHy ?? - in both cases pre factor estimated\n",
    "# plt.text(1,5,'Unstable')\n",
    "# plt.text(0.05,1,'Stable')\n",
    "# plt.yscale('log')\n",
    "# plt.xscale('log')\n",
    "# plt.ylabel('$x_0$')\n",
    "# plt.xlabel(r'$\\tau$')"
   ]
  },
  {
   "cell_type": "code",
   "execution_count": 7,
   "id": "740e43e9-327e-4646-b719-8b981a7fecc2",
   "metadata": {},
   "outputs": [],
   "source": [
    "# Analytical"
   ]
  },
  {
   "cell_type": "code",
   "execution_count": 8,
   "id": "6aa76325-17e6-4662-ae0c-9921aadc6961",
   "metadata": {},
   "outputs": [],
   "source": [
    "# Something wrong !!\n",
    "\n",
    "# t,s, x_i,x_0, tau = symbols('t s x_i x_0 tau')\n",
    "\n",
    "# x_i = x_0\n",
    "# x = x_i\n",
    "\n",
    "# func_parts = [x]\n",
    "# x_is = [x_i]\n",
    "# max_i = 4\n",
    "# for i in range(max_i):\n",
    "#     print(i)\n",
    "    \n",
    "#     x = simplify(x_i + integrate(-x**3, (s,0,t)))\n",
    "#     x_i = x.subs({t:tau})\n",
    "    \n",
    "#     func_parts.append(x)\n",
    "#     x_is.append(x_i)\n",
    "\n",
    "# my_fs = [lambdify([x_0,tau, t], f) for f in func_parts]\n",
    "# print(my_fs[0](1/2,0.5, 0.5))\n",
    "\n",
    "# def all(x_0,tau,t):\n",
    "#     intv = int(t//tau)\n",
    "#     t_rest = t%tau\n",
    "#     return my_fs[intv](x_0,tau,t_rest)\n",
    "# all = np.vectorize(all)\n",
    "\n",
    "# ntau = 100\n",
    "# num_tau = 1.5\n",
    "# num_x0 = 1.1\n",
    "# ts = np.linspace(0, max_i*num_tau,1000)\n",
    "\n",
    "# dt = num_tau/ntau\n",
    "# x = sim(ntau, dt, num_x0, force)\n",
    "# sim_ts = np.arange(0, len(x))*dt-num_tau\n",
    "\n",
    "# print(4/3*num_tau**(-1/2))\n",
    "# print(6/7*num_tau**(-1/2))"
   ]
  },
  {
   "cell_type": "code",
   "execution_count": 9,
   "id": "42cc7674-7246-4a47-97b9-a00d67818715",
   "metadata": {},
   "outputs": [],
   "source": [
    "# plt.plot(ts, all(num_x0, num_tau, ts), )\n",
    "# plt.xlim(*plt.xlim())\n",
    "# plt.plot(sim_ts, x)\n",
    "# plt.ylim(-2,2)\n",
    "# plt.hlines((num_x0, -num_x1), *plt.xlim(), color = 'black')\n",
    "# plt.vlines(num_tau*np.arange(0,10), *plt.ylim(), color = 'black')"
   ]
  },
  {
   "cell_type": "code",
   "execution_count": 10,
   "id": "37ee5b3d-4182-4903-a15f-1389828b5579",
   "metadata": {},
   "outputs": [],
   "source": [
    "# From tablet ! x4 page 2\n",
    "def f_3(t, x_0,tau):\n",
    "    return x_0-tau*x_0**3-x_0**3*t+3/2*x_0**5*t**2-x_0**7*t**3+1/4*x_0**9*t**4"
   ]
  },
  {
   "cell_type": "code",
   "execution_count": 15,
   "id": "ccfe955d-b0e7-4006-99f6-943571e0d670",
   "metadata": {},
   "outputs": [
    {
     "name": "stdout",
     "output_type": "stream",
     "text": [
      "1.0886621079036347\n",
      "0.6998542122237651\n"
     ]
    },
    {
     "data": {
      "image/png": "[encoded data removed]",
      "text/plain": [
       "<Figure size 1011x624.074 with 1 Axes>"
      ]
     },
     "metadata": {},
     "output_type": "display_data"
    }
   ],
   "source": [
    "num_tau = 1.5\n",
    "num_x0 = 0.8\n",
    "\n",
    "this_ts = np.linspace(0,num_tau,100)\n",
    "plt.plot(this_ts, f_3(this_ts, num_x0, num_tau))\n",
    "plt.hlines(-num_x0, *plt.xlim(), color = 'black')\n",
    "\n",
    "plt.scatter(1/num_x0**2, 3/4*num_x0-num_tau*num_x0**3, color = 'red')\n",
    "print(4/3*num_tau**(-1/2))\n",
    "print(6/7*num_tau**(-1/2))"
   ]
  },
  {
   "cell_type": "code",
   "execution_count": 12,
   "id": "2cfa704b-7c39-49b3-8a1e-9dc6082dc433",
   "metadata": {},
   "outputs": [
    {
     "data": {
      "text/plain": [
       "(1.3333333333333333, 1.3228756555322954)"
      ]
     },
     "execution_count": 12,
     "metadata": {},
     "output_type": "execute_result"
    }
   ],
   "source": [
    "4/3, np.sqrt(7)/2"
   ]
  },
  {
   "cell_type": "code",
   "execution_count": 13,
   "id": "98f52e6f-5dc6-4864-a8ea-cd5a44b9cb99",
   "metadata": {},
   "outputs": [
    {
     "data": {
      "text/plain": [
       "(0.8571428571428571, 0.8660254037844386)"
      ]
     },
     "execution_count": 13,
     "metadata": {},
     "output_type": "execute_result"
    }
   ],
   "source": [
    "6/7, np.sqrt(3)/2"
   ]
  },
  {
   "cell_type": "code",
   "execution_count": null,
   "id": "9499b5bd-956e-41a5-9b1c-76c17bcd3be3",
   "metadata": {},
   "outputs": [],
   "source": []
  }
 ],
 "metadata": {
  "kernelspec": {
   "display_name": "Python 3 (ipykernel)",
   "language": "python",
   "name": "python3"
  },
  "language_info": {
   "codemirror_mode": {
    "name": "ipython",
    "version": 3
   },
   "file_extension": ".py",
   "mimetype": "text/x-python",
   "name": "python",
   "nbconvert_exporter": "python",
   "pygments_lexer": "ipython3",
   "version": "3.10.6"
  }
 },
 "nbformat": 4,
 "nbformat_minor": 5
}
