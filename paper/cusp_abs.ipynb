{
 "cells": [
  {
   "cell_type": "code",
   "execution_count": 1,
   "id": "4406f3bd-86e1-447e-b5de-7875398e52a7",
   "metadata": {},
   "outputs": [],
   "source": [
    "%load_ext autoreload\n",
    "%autoreload 2\n",
    "%matplotlib inline"
   ]
  },
  {
   "cell_type": "code",
   "execution_count": 2,
   "id": "d7179ccd-b796-4a62-a866-f83a76149f17",
   "metadata": {},
   "outputs": [],
   "source": [
    "import numpy as np\n",
    "import matplotlib.pyplot as plt\n",
    "from tqdm.notebook import tqdm\n",
    "import pickle\n",
    "from functions import get_dyn_v2, get_prop_abs_v2, create_R_v1, get_var_hist,simulate_traj,get_prop_abs, create_R,get_theo_var_l,get_x2_var\n",
    "from functions import get_non_delayed_prop, get_non_delayed_dyn\n",
    "from setup import setup_matplotlib\n",
    "#from scipy.linalg import expm\n",
    "#from scipy.sparse import csr_array, coo_array\n",
    "from scipy.optimize import curve_fit\n",
    "\n",
    "setup_matplotlib()\n",
    "\n",
    "np.random.seed(42)"
   ]
  },
  {
   "cell_type": "code",
   "execution_count": 3,
   "id": "7d224084-8dad-4e43-8264-180dbb67ec0d",
   "metadata": {},
   "outputs": [
    {
     "name": "stdout",
     "output_type": "stream",
     "text": [
      "dx 0.15384615384615385\n",
      "2.6153846153846154\n",
      "24 25\n"
     ]
    }
   ],
   "source": [
    "k = 1\n",
    "border = 1\n",
    "N_x_border = 6.5\n",
    "max_t = 10\n",
    "ntau = 3\n",
    "\n",
    "dx = border/N_x_border\n",
    "print('dx',dx)\n",
    "sb = 17.5*dx\n",
    "sb -= sb%dx\n",
    "print(sb)\n",
    "\n",
    "f = 30\n",
    "N_p = 2_000\n",
    "N_loop = 10\n",
    "eq_perc = 0.75\n",
    "eq_f = 0.75\n",
    "\n",
    "\n",
    "x_s = np.arange(-sb,border-dx/4,dx) #don't include border !\n",
    "bins = np.arange(-sb-dx/2,border+dx/4,dx)\n",
    "N_x = len(x_s)\n",
    "print(N_x, len(bins))\n",
    "\n",
    "\n",
    "\n",
    "def force(x,*args):\n",
    "     return -k*x\n",
    "\n",
    "i_zero = np.argmin((x_s)**2)\n",
    "\n",
    "s_s = np.arange(0.2,0.76,0.05)\n",
    "ltaus = np.concatenate(([0,.05], np.arange(0.2,2.2,0.2) ))\n",
    "#ltaus = np.array([0])"
   ]
  },
  {
   "cell_type": "code",
   "execution_count": 4,
   "id": "5187df4b-d60b-481d-b410-b959bd51e23d",
   "metadata": {},
   "outputs": [
    {
     "data": {
      "text/plain": [
       "(array([-2.61538462e+00, -2.46153846e+00, -2.30769231e+00, -2.15384615e+00,\n",
       "        -2.00000000e+00, -1.84615385e+00, -1.69230769e+00, -1.53846154e+00,\n",
       "        -1.38461538e+00, -1.23076923e+00, -1.07692308e+00, -9.23076923e-01,\n",
       "        -7.69230769e-01, -6.15384615e-01, -4.61538462e-01, -3.07692308e-01,\n",
       "        -1.53846154e-01, -1.77635684e-15,  1.53846154e-01,  3.07692308e-01,\n",
       "         4.61538462e-01,  6.15384615e-01,  7.69230769e-01,  9.23076923e-01]),\n",
       " array([-2.69230769, -2.53846154, -2.38461538, -2.23076923, -2.07692308,\n",
       "        -1.92307692, -1.76923077, -1.61538462, -1.46153846, -1.30769231,\n",
       "        -1.15384615, -1.        , -0.84615385, -0.69230769, -0.53846154,\n",
       "        -0.38461538, -0.23076923, -0.07692308,  0.07692308,  0.23076923,\n",
       "         0.38461538,  0.53846154,  0.69230769,  0.84615385,  1.        ]))"
      ]
     },
     "execution_count": 4,
     "metadata": {},
     "output_type": "execute_result"
    }
   ],
   "source": [
    "x_s, bins"
   ]
  },
  {
   "cell_type": "code",
   "execution_count": 5,
   "id": "09905bcf-7a16-4aa6-86f0-fb8aba1af73c",
   "metadata": {},
   "outputs": [
    {
     "data": {
      "application/vnd.jupyter.widget-view+json": {
       "model_id": "23b85193d5a944cab564b572be2dece0",
       "version_major": 2,
       "version_minor": 0
      },
      "text/plain": [
       "  0%|          | 0/12 [00:00<?, ?it/s]"
      ]
     },
     "metadata": {},
     "output_type": "display_data"
    },
    {
     "data": {
      "application/vnd.jupyter.widget-view+json": {
       "model_id": "47091e88cff9410cb270fff687c7769d",
       "version_major": 2,
       "version_minor": 0
      },
      "text/plain": [
       "  0%|          | 0/12 [00:00<?, ?it/s]"
      ]
     },
     "metadata": {},
     "output_type": "display_data"
    },
    {
     "ename": "KeyboardInterrupt",
     "evalue": "",
     "output_type": "error",
     "traceback": [
      "\u001b[0;31m---------------------------------------------------------------------------\u001b[0m",
      "\u001b[0;31mKeyboardInterrupt\u001b[0m                         Traceback (most recent call last)",
      "Cell \u001b[0;32mIn [5], line 21\u001b[0m\n\u001b[1;32m     18\u001b[0m ts \u001b[38;5;241m=\u001b[39m np\u001b[38;5;241m.\u001b[39marange(\u001b[38;5;241m0\u001b[39m,N_t)\u001b[38;5;241m*\u001b[39mldt\n\u001b[1;32m     19\u001b[0m sim_ts \u001b[38;5;241m=\u001b[39m np\u001b[38;5;241m.\u001b[39marange(\u001b[38;5;241m0\u001b[39m,f\u001b[38;5;241m*\u001b[39mN_t\u001b[38;5;241m+\u001b[39mntau\u001b[38;5;241m*\u001b[39mf)\u001b[38;5;241m*\u001b[39mldt\u001b[38;5;241m/\u001b[39mf\u001b[38;5;241m-\u001b[39mltau\n\u001b[0;32m---> 21\u001b[0m pos \u001b[38;5;241m=\u001b[39m \u001b[43msimulate_traj\u001b[49m\u001b[43m(\u001b[49m\u001b[43mN_p\u001b[49m\u001b[38;5;241;43m=\u001b[39;49m\u001b[43mN_p\u001b[49m\u001b[43m,\u001b[49m\u001b[43m \u001b[49m\u001b[43mN_loop\u001b[49m\u001b[38;5;241;43m=\u001b[39;49m\u001b[43mN_loop\u001b[49m\u001b[43m,\u001b[49m\u001b[43m \u001b[49m\u001b[43mN_t\u001b[49m\u001b[38;5;241;43m=\u001b[39;49m\u001b[43m(\u001b[49m\u001b[43mN_t\u001b[49m\u001b[38;5;241;43m+\u001b[39;49m\u001b[43mntau\u001b[49m\u001b[43m)\u001b[49m\u001b[38;5;241;43m*\u001b[39;49m\u001b[43mf\u001b[49m\u001b[43m,\u001b[49m\u001b[43m \u001b[49m\u001b[43mntau\u001b[49m\u001b[38;5;241;43m=\u001b[39;49m\u001b[43mntau\u001b[49m\u001b[38;5;241;43m*\u001b[39;49m\u001b[43mf\u001b[49m\u001b[43m,\u001b[49m\u001b[43m \u001b[49m\u001b[43ms\u001b[49m\u001b[38;5;241;43m=\u001b[39;49m\u001b[43ms\u001b[49m\u001b[43m,\u001b[49m\u001b[43m \u001b[49m\u001b[43mdt\u001b[49m\u001b[38;5;241;43m=\u001b[39;49m\u001b[43mldt\u001b[49m\u001b[38;5;241;43m/\u001b[39;49m\u001b[43mf\u001b[49m\u001b[43m,\u001b[49m\u001b[43mborder\u001b[49m\u001b[38;5;241;43m=\u001b[39;49m\u001b[38;5;241;43m0\u001b[39;49m\u001b[43m,\u001b[49m\u001b[43m \u001b[49m\u001b[43mforce\u001b[49m\u001b[38;5;241;43m=\u001b[39;49m\u001b[43mforce\u001b[49m\u001b[43m)\u001b[49m\n\u001b[1;32m     22\u001b[0m pos_abs \u001b[38;5;241m=\u001b[39m pos\u001b[38;5;241m.\u001b[39mcopy()\n\u001b[1;32m     23\u001b[0m \u001b[38;5;28;01mfor\u001b[39;00m l \u001b[38;5;129;01min\u001b[39;00m \u001b[38;5;28mrange\u001b[39m(ntau\u001b[38;5;241m+\u001b[39m\u001b[38;5;241m1\u001b[39m, pos\u001b[38;5;241m.\u001b[39mshape[\u001b[38;5;241m-\u001b[39m\u001b[38;5;241m1\u001b[39m]):\n",
      "File \u001b[0;32m~/Programmieren/overdampedDelayHarmonicOscillator/paper/functions.py:197\u001b[0m, in \u001b[0;36msimulate_traj\u001b[0;34m(N_p, N_loop, N_t, ntau, s, dt, border, force)\u001b[0m\n\u001b[1;32m    195\u001b[0m \u001b[38;5;28;01mdef\u001b[39;00m \u001b[38;5;21msimulate_traj\u001b[39m(N_p, N_loop, N_t, ntau, s, dt, border, force):\n\u001b[1;32m    196\u001b[0m     pos \u001b[38;5;241m=\u001b[39m np\u001b[38;5;241m.\u001b[39mempty((N_loop,N_p,N_t))\n\u001b[0;32m--> 197\u001b[0m     vel \u001b[38;5;241m=\u001b[39m s\u001b[38;5;241m*\u001b[39mnp\u001b[38;5;241m.\u001b[39mrandom\u001b[38;5;241m.\u001b[39mrandn(N_loop,N_p,N_t)\u001b[38;5;241m*\u001b[39m\u001b[38;5;241m1\u001b[39m\u001b[38;5;241m/\u001b[39m\u001b[43mnp\u001b[49m\u001b[38;5;241;43m.\u001b[39;49m\u001b[43msqrt\u001b[49m\u001b[43m(\u001b[49m\u001b[43mdt\u001b[49m\u001b[43m)\u001b[49m\n\u001b[1;32m    199\u001b[0m     pos[:,:,:ntau] \u001b[38;5;241m=\u001b[39m \u001b[38;5;241m-\u001b[39mborder\n\u001b[1;32m    200\u001b[0m     vel[:,:,:ntau] \u001b[38;5;241m=\u001b[39m \u001b[38;5;241m0\u001b[39m\n",
      "\u001b[0;31mKeyboardInterrupt\u001b[0m: "
     ]
    }
   ],
   "source": [
    "test_ts = np.linspace(0,max_t, 4000)\n",
    "\n",
    "for j,s in enumerate(tqdm(s_s)):\n",
    "    D = s**2/2\n",
    "    exact_eqtimes = [test_ts[np.argmin((get_theo_var_l(test_ts,ltau,D) - eq_perc*get_x2_var(ltau, k, s))**2)] for ltau in ltaus]\n",
    "\n",
    "    num_rates = np.empty((len(ltaus),2))\n",
    "    sim_rates = np.empty((len(ltaus),2))\n",
    "\n",
    "    for i,ltau in enumerate(tqdm(ltaus, leave = False)): \n",
    "        ldt = ltau/ntau if ltau > 0 else 0.01\n",
    "        q_f = np.log(1-eq_f)/np.log(1-eq_perc)\n",
    "        rel_time = q_f*exact_eqtimes[i]\n",
    "\n",
    "\n",
    "\n",
    "        N_t = max(int(2*rel_time/ldt),int(max_t/ldt), 30)\n",
    "        ts = np.arange(0,N_t)*ldt\n",
    "        sim_ts = np.arange(0,f*N_t+ntau*f)*ldt/f-ltau\n",
    "\n",
    "        pos = simulate_traj(N_p=N_p, N_loop=N_loop, N_t=(N_t+ntau)*f, ntau=ntau*f, s=s, dt=ldt/f,border=0, force=force)\n",
    "        pos_abs = pos.copy()\n",
    "        for l in range(ntau+1, pos.shape[-1]):\n",
    "            pos_abs[(pos_abs[:,:,l] > border),l:] = np.nan\n",
    "\n",
    "        sim_hists = np.swapaxes(np.apply_along_axis(lambda a: np.histogram(a, bins)[0], 1, pos_abs), 1,2)\n",
    "\n",
    "        if ltau > 0:\n",
    "            prop = get_prop_abs_v2(x_s, force,D,ldt,dx)\n",
    "            R, _, end_states = create_R_v1(N_x, ntau, prop)\n",
    "\n",
    "            _, hists = get_dyn_v2(R, i_zero,N_t, N_x, ntau, end_states)\n",
    "        else:\n",
    "            R = get_non_delayed_prop(x_s, force,D,ldt,dx)\n",
    "            hists = get_non_delayed_dyn(R,i_zero,N_t, N_x)\n",
    "\n",
    "\n",
    "        num_sur = np.sum(hists, axis = 1)\n",
    "        sim_sur = np.sum(sim_hists, axis = 2)/N_p\n",
    "\n",
    "        sim_cond = (sim_ts > rel_time) * (sim_sur > 0.05)\n",
    "        num_cond = (ts > rel_time) * (num_sur > 0.05)\n",
    "\n",
    "        sim_rate = [-np.mean(np.diff(np.log(sim_sur[i,this_sim_cond]))/ldt*f) for i,this_sim_cond in enumerate(sim_cond)]\n",
    "        num_rate = -np.mean(np.diff(np.log(num_sur[num_cond]))/ldt)\n",
    "\n",
    "        sim_rates[i] = (np.mean(sim_rate), np.std(sim_rate)/np.sqrt(N_loop))\n",
    "        num_rates[i] = (num_rate, 0)\n",
    "        \n",
    "    with open(f'nummeric_results/cusp_abs_s{s}.pkl', 'wb') as file:\n",
    "        pickle.dump({'ltaus':ltaus,\n",
    "                     'num_rates':num_rates,\n",
    "                    'sim_rates':sim_rates\n",
    "                    }, file)"
   ]
  },
  {
   "cell_type": "code",
   "execution_count": null,
   "id": "6185c038-28aa-4b98-85bb-c90652dd214e",
   "metadata": {},
   "outputs": [],
   "source": [
    "plt.errorbar(ltaus,*sim_rates.T)\n",
    "plt.errorbar(ltaus,*num_rates.T)"
   ]
  },
  {
   "cell_type": "code",
   "execution_count": null,
   "id": "510f8c98-2372-48cf-bc1a-5a6fd81be5d8",
   "metadata": {},
   "outputs": [],
   "source": [
    "plt.plot(sim_ts, sim_sur[0], alpha =.5)\n",
    "plt.plot(ts, num_sur, '--', alpha =.5)\n",
    "plt.plot(sim_ts[sim_cond[0]], sim_sur[0][sim_cond[0]])\n",
    "plt.plot(ts[num_cond], num_sur[num_cond], '--')"
   ]
  },
  {
   "cell_type": "code",
   "execution_count": null,
   "id": "04d42332-45f9-4d80-8fb5-47321ce635f6",
   "metadata": {},
   "outputs": [],
   "source": [
    "idx = len(hists)-1\n",
    "t_hist = sim_hists.mean(0)\n",
    "plt.plot(x_s,t_hist[(idx+ntau)*f]/N_p)\n",
    "plt.plot(x_s,hists[idx], '--')"
   ]
  },
  {
   "cell_type": "code",
   "execution_count": null,
   "id": "9b576395-d861-4492-970d-855997a8a9a7",
   "metadata": {},
   "outputs": [],
   "source": []
  }
 ],
 "metadata": {
  "kernelspec": {
   "display_name": "Python 3 (ipykernel)",
   "language": "python",
   "name": "python3"
  },
  "language_info": {
   "codemirror_mode": {
    "name": "ipython",
    "version": 3
   },
   "file_extension": ".py",
   "mimetype": "text/x-python",
   "name": "python",
   "nbconvert_exporter": "python",
   "pygments_lexer": "ipython3",
   "version": "3.10.6"
  }
 },
 "nbformat": 4,
 "nbformat_minor": 5
}
