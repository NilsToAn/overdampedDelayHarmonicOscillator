{
 "cells": [
  {
   "cell_type": "markdown",
   "id": "7c81afd8-2e75-4967-a819-ed4aee7c7c82",
   "metadata": {},
   "source": [
    "# Analystical"
   ]
  },
  {
   "cell_type": "code",
   "execution_count": 1,
   "id": "045e0dc0-07e9-4e47-9ec9-959ee9782646",
   "metadata": {},
   "outputs": [],
   "source": [
    "from sympy import *"
   ]
  },
  {
   "cell_type": "code",
   "execution_count": 2,
   "id": "c0fdd9c2-c5c0-4373-9241-571a97987bb3",
   "metadata": {},
   "outputs": [],
   "source": [
    "def get_func(a,b):\n",
    "    m = (b[1]-a[1]) / (b[0]-a[0])\n",
    "    b = a[1] - m * a[0]\n",
    "    return simplify(m * x + b)"
   ]
  },
  {
   "cell_type": "code",
   "execution_count": 3,
   "id": "e1e67c6b-6b7d-43de-9a2b-f32ea1d32e95",
   "metadata": {},
   "outputs": [],
   "source": [
    "def get_possible_zeros(sec, signs):\n",
    "    sec_funcs = [get_func(sec[i],sec[i+1]) for i in range(len(sec)-1) if signs[i] != signs[i+1]]\n",
    "    #print(sec_funcs)\n",
    "\n",
    "    possible_zeros = [list(solveset(Eq(f,0), x))[0] for f in sec_funcs]\n",
    "    return possible_zeros"
   ]
  },
  {
   "cell_type": "code",
   "execution_count": 4,
   "id": "d31b09a2-2abc-45f6-b5a3-5edab0b2ab77",
   "metadata": {},
   "outputs": [],
   "source": [
    "def gen_new_sec(last_y, stops,signs):\n",
    "    sec = [[0,last_y]]\n",
    "    if len(stops)-1 != len(signs):\n",
    "        print('Wrong number of signs for number of stops')\n",
    "    for fx,tx,sign in zip(stops[:-1],stops[1:],signs):\n",
    "        dx = tx-fx\n",
    "        x_c = sec[-1][0] + dx\n",
    "        dy = sign*dx\n",
    "        y_c = sec[-1][1] + dy\n",
    "        sec.append([x_c,y_c])\n",
    "    return sec"
   ]
  },
  {
   "cell_type": "code",
   "execution_count": 5,
   "id": "f84b5b9f-6b92-43f6-a32e-93bd711d6465",
   "metadata": {},
   "outputs": [],
   "source": [
    "y0 = symbols('y_0')\n",
    "x = symbols('x')\n",
    "inital_sec = [[0,y0-1],[1,y0]]"
   ]
  },
  {
   "cell_type": "code",
   "execution_count": 6,
   "id": "778592e3-3822-4522-a3e5-4b3ec22cbbb9",
   "metadata": {},
   "outputs": [],
   "source": [
    "possible_zeros = get_possible_zeros(inital_sec, [-1,1])\n",
    "stops = [0,*possible_zeros,1]\n",
    "signs = [-1,1]"
   ]
  },
  {
   "cell_type": "code",
   "execution_count": 7,
   "id": "4f1b67aa-86e9-4555-9c58-61ce8a9212f1",
   "metadata": {},
   "outputs": [
    {
     "data": {
      "text/plain": [
       "[0, 1 - y_0, 1]"
      ]
     },
     "execution_count": 7,
     "metadata": {},
     "output_type": "execute_result"
    }
   ],
   "source": [
    "stops"
   ]
  },
  {
   "cell_type": "code",
   "execution_count": 8,
   "id": "3e80a5dc-d6ef-4d0f-a782-d3b648cf4a64",
   "metadata": {},
   "outputs": [],
   "source": [
    "sec_0 = gen_new_sec(inital_sec[-1][1], stops, signs)"
   ]
  },
  {
   "cell_type": "code",
   "execution_count": 9,
   "id": "662118db-efb0-415c-847d-e0fc43ce8c11",
   "metadata": {},
   "outputs": [
    {
     "data": {
      "text/plain": [
       "[[0, y_0], [1 - y_0, 2*y_0 - 1], [1, 3*y_0 - 1]]"
      ]
     },
     "execution_count": 9,
     "metadata": {},
     "output_type": "execute_result"
    }
   ],
   "source": [
    "sec_0"
   ]
  },
  {
   "cell_type": "code",
   "execution_count": 10,
   "id": "4a08e44d-7794-4986-8624-8c93976cbee4",
   "metadata": {},
   "outputs": [
    {
     "data": {
      "text/plain": [
       "([0, y_0, 1], [0, y_0, 2 - 3*y_0, 1], [0, 1])"
      ]
     },
     "execution_count": 10,
     "metadata": {},
     "output_type": "execute_result"
    }
   ],
   "source": [
    "stops_0_c0 = [0,*get_possible_zeros(sec_0, [1,-1,-1]),1]# for y_0 < 1/3\n",
    "stops_0_c1 = [0,*get_possible_zeros(sec_0, [1,-1,1]),1] # for y_0 < 1/2 and y_0 > 1/3\n",
    "stops_0_c2 = [0,*get_possible_zeros(sec_0, [1,1,1]),1]  # for y_0 > 1/2\n",
    "\n",
    "stops_0_c0, stops_0_c1, stops_0_c2"
   ]
  },
  {
   "cell_type": "code",
   "execution_count": 11,
   "id": "96dcd575-21ab-4e4e-9f92-99cb4afe5409",
   "metadata": {},
   "outputs": [],
   "source": [
    "sec_1_c0 = gen_new_sec(sec_0[-1][1], stops_0_c0, [+1,-1])\n",
    "sec_1_c1 = gen_new_sec(sec_0[-1][1], stops_0_c1, [+1,-1,+1])\n",
    "sec_1_c2 = gen_new_sec(sec_0[-1][1], stops_0_c2, [+1])"
   ]
  },
  {
   "cell_type": "code",
   "execution_count": 12,
   "id": "4def3661-af71-4f47-8135-a5b58d71fa8f",
   "metadata": {},
   "outputs": [
    {
     "data": {
      "text/plain": [
       "[[0, 3*y_0 - 1], [y_0, 4*y_0 - 1], [1, 5*y_0 - 2]]"
      ]
     },
     "execution_count": 12,
     "metadata": {},
     "output_type": "execute_result"
    }
   ],
   "source": [
    "sec_1_c0"
   ]
  },
  {
   "cell_type": "code",
   "execution_count": 13,
   "id": "adb6fc99-a8a7-4392-bbd3-e871406c84e5",
   "metadata": {},
   "outputs": [],
   "source": [
    "# for c0 always y_0 < 1/3\n",
    "stops_1_c00 = [0,*get_possible_zeros(sec_1_c0, [-1,-1,-1]),1] # for y_0 < 1/4\n",
    "stops_1_c01 = [0,*get_possible_zeros(sec_1_c0, [-1,1,-1]),1] # for y_0 > 1/4"
   ]
  },
  {
   "cell_type": "code",
   "execution_count": 14,
   "id": "a263cfde-3f6a-44e8-95d8-3d7aa40103ed",
   "metadata": {},
   "outputs": [
    {
     "data": {
      "text/plain": [
       "([0, 1], [0, 1 - 3*y_0, 5*y_0 - 1, 1])"
      ]
     },
     "execution_count": 14,
     "metadata": {},
     "output_type": "execute_result"
    }
   ],
   "source": [
    "stops_1_c00, stops_1_c01"
   ]
  },
  {
   "cell_type": "code",
   "execution_count": 15,
   "id": "c53a41fc-e37c-4961-9469-967b2f4f9f45",
   "metadata": {},
   "outputs": [
    {
     "data": {
      "text/plain": [
       "[[0, 3*y_0 - 1], [y_0, 4*y_0 - 1], [2 - 3*y_0, 8*y_0 - 3], [1, 11*y_0 - 4]]"
      ]
     },
     "execution_count": 15,
     "metadata": {},
     "output_type": "execute_result"
    }
   ],
   "source": [
    "sec_1_c1"
   ]
  },
  {
   "cell_type": "code",
   "execution_count": 16,
   "id": "893627c3-3afe-437e-a4c0-743311973da5",
   "metadata": {},
   "outputs": [],
   "source": [
    "# for c1 always 1/3 < y_0 < 1/2\n",
    "stops_1_c10 = [0,*get_possible_zeros(sec_1_c1, [1,1,-1,-1]),1] #y_0 < 4/11 = 32/88 < 33/88 = 3/8\n",
    "stops_1_c11 = [0,*get_possible_zeros(sec_1_c1, [1,1,-1,1]),1]  #4/11 < y_0 < 3/8\n",
    "stops_1_c12 = [0,*get_possible_zeros(sec_1_c1, [1,1,1,1]),1]   #y_0 > 3/8"
   ]
  },
  {
   "cell_type": "code",
   "execution_count": 17,
   "id": "f21ef627-e174-4280-b496-0ad8cbfcd21b",
   "metadata": {},
   "outputs": [
    {
     "data": {
      "text/plain": [
       "([0, 5*y_0 - 1, 1], [0, 5*y_0 - 1, 5 - 11*y_0, 1], [0, 1])"
      ]
     },
     "execution_count": 17,
     "metadata": {},
     "output_type": "execute_result"
    }
   ],
   "source": [
    "stops_1_c10, stops_1_c11, stops_1_c12"
   ]
  },
  {
   "cell_type": "code",
   "execution_count": 18,
   "id": "40c88fba-fc2d-4ed2-8634-b91732f2ee03",
   "metadata": {},
   "outputs": [
    {
     "data": {
      "text/plain": [
       "[[0, 3*y_0 - 1], [1, 3*y_0]]"
      ]
     },
     "execution_count": 18,
     "metadata": {},
     "output_type": "execute_result"
    }
   ],
   "source": [
    "# for c1 alwys y_0 > 1/2\n",
    "sec_1_c2\n",
    "# all positiv -> diverge to + inf"
   ]
  },
  {
   "cell_type": "code",
   "execution_count": 19,
   "id": "04f99f5a-fd0c-4c63-8553-daebecd7a30f",
   "metadata": {},
   "outputs": [],
   "source": [
    "# gen sections from stops for all cases \n",
    "# c0 start negativ because 3*y_0 - 1 < 0 for y_0 < 1/3\n",
    "sec_2_c00 = gen_new_sec(sec_1_c0[-1][1], stops_1_c00, [-1])\n",
    "sec_2_c01 = gen_new_sec(sec_1_c0[-1][1], stops_1_c01, [-1,1,-1])\n",
    "\n",
    "# c1 start positiv because y_0 > 1/3\n",
    "sec_2_c10 = gen_new_sec(sec_1_c1[-1][1], stops_1_c10, [+1,-1])\n",
    "sec_2_c11 = gen_new_sec(sec_1_c1[-1][1], stops_1_c11, [+1,-1,+1])\n",
    "sec_2_c12 = gen_new_sec(sec_1_c1[-1][1], stops_1_c12, [+1])"
   ]
  },
  {
   "cell_type": "code",
   "execution_count": 20,
   "id": "0546fe5f-dc94-4e8a-a83a-3366e6a2c1dd",
   "metadata": {},
   "outputs": [
    {
     "data": {
      "text/plain": [
       "[[0, 5*y_0 - 2], [1, 5*y_0 - 3]]"
      ]
     },
     "execution_count": 20,
     "metadata": {},
     "output_type": "execute_result"
    }
   ],
   "source": [
    "# for c00 y_0 < 1/4\n",
    "sec_2_c00\n",
    "# all negativ -> diverge to - inf"
   ]
  },
  {
   "cell_type": "code",
   "execution_count": 21,
   "id": "6d78f072-844a-440f-b669-709d8cb89675",
   "metadata": {},
   "outputs": [
    {
     "data": {
      "text/plain": [
       "[[0, 5*y_0 - 2],\n",
       " [1 - 3*y_0, 8*y_0 - 3],\n",
       " [5*y_0 - 1, 16*y_0 - 5],\n",
       " [1, 21*y_0 - 7]]"
      ]
     },
     "execution_count": 21,
     "metadata": {},
     "output_type": "execute_result"
    }
   ],
   "source": [
    "# c01 1/4 < y_0 < 1/3\n",
    "sec_2_c01"
   ]
  },
  {
   "cell_type": "code",
   "execution_count": 22,
   "id": "9bd928bc-f130-4ab7-b5f3-1d2dd2347802",
   "metadata": {},
   "outputs": [],
   "source": [
    "# 3/8 > 1/3 = 16/48 > 15/48 = 5/16 > 1/4\n",
    "stops_2_c010 = [0,*get_possible_zeros(sec_2_c01, [-1,-1,-1,-1]),1] # for y_0 < 5/16\n",
    "stops_2_c011 = [0,*get_possible_zeros(sec_2_c01, [-1,-1,+1,-1]),1] # for y_0 > 5/16"
   ]
  },
  {
   "cell_type": "code",
   "execution_count": 23,
   "id": "0981ec5d-7c1d-4bdc-9090-06db322d447d",
   "metadata": {},
   "outputs": [
    {
     "data": {
      "text/plain": [
       "([0, 1], [0, 4 - 11*y_0, 21*y_0 - 6, 1])"
      ]
     },
     "execution_count": 23,
     "metadata": {},
     "output_type": "execute_result"
    }
   ],
   "source": [
    "stops_2_c010, stops_2_c011"
   ]
  },
  {
   "cell_type": "code",
   "execution_count": 24,
   "id": "53298111-d444-4328-a95f-8a3268bc2718",
   "metadata": {},
   "outputs": [
    {
     "data": {
      "text/plain": [
       "[[0, 11*y_0 - 4], [5*y_0 - 1, 16*y_0 - 5], [1, 21*y_0 - 7]]"
      ]
     },
     "execution_count": 24,
     "metadata": {},
     "output_type": "execute_result"
    }
   ],
   "source": [
    "#1/3 < y_0 < 4/11\n",
    "#5/16 < 1/3\n",
    "sec_2_c10"
   ]
  },
  {
   "cell_type": "code",
   "execution_count": 25,
   "id": "e2622146-8307-458f-9f48-c49d41ebe3f9",
   "metadata": {},
   "outputs": [],
   "source": [
    "stops_2_c100 = [0,*get_possible_zeros(sec_2_c10, [-1,1,1]),1]"
   ]
  },
  {
   "cell_type": "code",
   "execution_count": 26,
   "id": "c0915fbc-85fc-4ca7-9760-bc4a60a8b04a",
   "metadata": {},
   "outputs": [
    {
     "data": {
      "text/plain": [
       "[[0, 11*y_0 - 4],\n",
       " [5*y_0 - 1, 16*y_0 - 5],\n",
       " [5 - 11*y_0, 32*y_0 - 11],\n",
       " [1, 43*y_0 - 15]]"
      ]
     },
     "execution_count": 26,
     "metadata": {},
     "output_type": "execute_result"
    }
   ],
   "source": [
    "#4/11 < y_0 < 3/8\n",
    "sec_2_c11"
   ]
  },
  {
   "cell_type": "code",
   "execution_count": 27,
   "id": "944a7985-4c6e-4cc9-b08d-463cd99b185f",
   "metadata": {},
   "outputs": [],
   "source": [
    "stops_2_c110 = [0,*get_possible_zeros(sec_2_c11, [1,1,1,1]),1]"
   ]
  },
  {
   "cell_type": "code",
   "execution_count": 28,
   "id": "7c65097b-0269-4f9d-9f38-7290da11d71b",
   "metadata": {},
   "outputs": [
    {
     "data": {
      "text/plain": [
       "[[0, 11*y_0 - 4], [1, 11*y_0 - 3]]"
      ]
     },
     "execution_count": 28,
     "metadata": {},
     "output_type": "execute_result"
    }
   ],
   "source": [
    "#y_0 > 3/8\n",
    "sec_2_c12"
   ]
  },
  {
   "cell_type": "code",
   "execution_count": 29,
   "id": "ddc37d73-ea95-45df-826e-367d4e9dba32",
   "metadata": {},
   "outputs": [],
   "source": [
    "stops_2_c120 = [0,*get_possible_zeros(sec_2_c12, [1,1]),1]"
   ]
  },
  {
   "cell_type": "code",
   "execution_count": 31,
   "id": "4716d48b-f56e-437d-aca6-4c6130bdaa10",
   "metadata": {},
   "outputs": [
    {
     "name": "stdout",
     "output_type": "stream",
     "text": [
      "[0, 1]\n",
      "[0, 4 - 11*y_0, 21*y_0 - 6, 1]\n",
      "[0, 4 - 11*y_0, 1]\n",
      "[0, 1]\n",
      "[0, 1]\n"
     ]
    }
   ],
   "source": [
    "print('\\n'.join([str(o) for o in [stops_2_c010, stops_2_c011, stops_2_c100, stops_2_c110, stops_2_c120]]))"
   ]
  },
  {
   "cell_type": "markdown",
   "id": "88648b1d-a5c3-4ed6-a9c2-cf565067bd82",
   "metadata": {},
   "source": [
    "# Simulation"
   ]
  },
  {
   "cell_type": "code",
   "execution_count": 38,
   "id": "821ee707-d9b5-4b1a-a7fc-2952e1167282",
   "metadata": {},
   "outputs": [],
   "source": [
    "import numpy as np\n",
    "import matplotlib.pyplot as plt"
   ]
  },
  {
   "cell_type": "code",
   "execution_count": 101,
   "id": "8efe8af1-8558-478f-9885-30b2a3f70e06",
   "metadata": {},
   "outputs": [],
   "source": [
    "x_s0 = 0.33333333333\n",
    "x_s = np.zeros(4000)\n",
    "\n",
    "T = 200\n",
    "\n",
    "x_s[:T] = np.linspace(x_s0 - 1,x_s0, T)\n",
    "\n",
    "for i in range(len(x_s)-T):\n",
    "    x_s[T+i] = x_s[T+i-1] + np.sign(x_s[i]) * 1/T"
   ]
  },
  {
   "cell_type": "code",
   "execution_count": 102,
   "id": "0b1b4224-29b8-494b-877f-5c4bd68f8be0",
   "metadata": {},
   "outputs": [
    {
     "data": {
      "text/plain": [
       "[<matplotlib.lines.Line2D at 0x7fe706b77820>]"
      ]
     },
     "execution_count": 102,
     "metadata": {},
     "output_type": "execute_result"
    },
    {
     "data": {
      "image/png": "[encoded data removed]",
      "text/plain": [
       "<Figure size 640x480 with 1 Axes>"
      ]
     },
     "metadata": {},
     "output_type": "display_data"
    }
   ],
   "source": [
    "plt.plot(x_s)"
   ]
  },
  {
   "cell_type": "code",
   "execution_count": null,
   "id": "39413477-d8ea-45b4-a67f-fcc347e5c72d",
   "metadata": {},
   "outputs": [],
   "source": []
  }
 ],
 "metadata": {
  "kernelspec": {
   "display_name": "Python 3",
   "language": "python",
   "name": "python3"
  },
  "language_info": {
   "codemirror_mode": {
    "name": "ipython",
    "version": 3
   },
   "file_extension": ".py",
   "mimetype": "text/x-python",
   "name": "python",
   "nbconvert_exporter": "python",
   "pygments_lexer": "ipython3",
   "version": "3.10.6"
  }
 },
 "nbformat": 4,
 "nbformat_minor": 5
}
