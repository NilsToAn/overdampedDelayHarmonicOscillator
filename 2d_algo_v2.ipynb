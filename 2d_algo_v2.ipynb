{
 "cells": [
  {
   "cell_type": "code",
   "execution_count": 4,
   "id": "5acbf630-c240-4644-852c-717643949a50",
   "metadata": {},
   "outputs": [
    {
     "name": "stdout",
     "output_type": "stream",
     "text": [
      "The autoreload extension is already loaded. To reload it, use:\n",
      "  %reload_ext autoreload\n"
     ]
    }
   ],
   "source": [
    "%load_ext autoreload\n",
    "%autoreload 2\n",
    "%matplotlib inline\n",
    "\n",
    "\n",
    "import numpy as np\n",
    "import matplotlib.pyplot as plt\n",
    "from scipy.linalg import expm\n",
    "from tqdm.notebook import tqdm\n",
    "import pickle\n",
    "import timeit\n",
    "from scipy.sparse import dok_array"
   ]
  },
  {
   "cell_type": "code",
   "execution_count": 5,
   "id": "72810b45-03d0-4b8f-9beb-83fad4f1a259",
   "metadata": {},
   "outputs": [],
   "source": [
    "def get_prop(x_s, force,D, dt, dx):\n",
    "    N_x = len(x_s)\n",
    "    # x(t-tau), x(t), res\n",
    "    R = np.zeros(( N_x,N_x, N_x))\n",
    "    \n",
    "    F = force(x_s)\n",
    "    lp = D / dx**2 * np.exp((F*dx/D)/2)  # r_i->i+1\n",
    "    ln = D / dx**2 * np.exp(-(F*dx/D)/2)  # r_i+1->i\n",
    "\n",
    "    R[:,0,0] = -lp\n",
    "    R[:,-1,-1] = -ln\n",
    "    R[:,np.arange(1,N_x-1),np.arange(1,N_x-1)] = -(lp[:,None]+ln[:,None]) # -(r_i->i+1 + r_i->i-1) ????\n",
    "    R[:,np.arange(0,N_x-1),np.arange(1,N_x)] = ln[:,None]\n",
    "    R[:,np.arange(1,N_x),np.arange(0,N_x-1)] = lp[:,None]\n",
    "    prop = expm(R*dt, )\n",
    "    return prop\n",
    "\n",
    "def get_prop_v2(x_s, force,D, dt, dx):\n",
    "    N_x = len(x_s)\n",
    "    half_x_s = np.arange(x_s[0],x_s[-1]+dx/4,dx/2)\n",
    "    # x(t-tau), x(t), res\n",
    "    R = np.zeros(( len(half_x_s),N_x, N_x))\n",
    "    \n",
    "    F = force(half_x_s)\n",
    "    lp = D / dx**2 * np.exp((F*dx/D)/2)  # r_i->i+1\n",
    "    ln = D / dx**2 * np.exp(-(F*dx/D)/2)  # r_i+1->i\n",
    "\n",
    "    R[:,0,0] = -lp\n",
    "    R[:,-1,-1] = -ln\n",
    "    R[:,np.arange(1,N_x-1),np.arange(1,N_x-1)] = -(lp[:,None]+ln[:,None]) # -(r_i->i+1 + r_i->i-1) ????\n",
    "    R[:,np.arange(0,N_x-1),np.arange(1,N_x)] = ln[:,None]\n",
    "    R[:,np.arange(1,N_x),np.arange(0,N_x-1)] = lp[:,None]\n",
    "    prop = expm(R*dt, )\n",
    "    return prop\n",
    "\n",
    "\n",
    "def get_prop_abs(x_s, force, D,dt,dx, N_border):\n",
    "    # x(t-tau), x(t), res\n",
    "    N_x = len(x_s)\n",
    "    R_abs = np.zeros(( N_x,N_x, N_x))\n",
    "    \n",
    "    F = force(x_s)\n",
    "    lp = D / dx**2 * np.exp((F*dx/D)/2)  # r_i->i+1\n",
    "    ln = D / dx**2 * np.exp(-(F*dx/D)/2)  # r_i+1->i\n",
    "    \n",
    "    R_abs[:,0,0] = -lp\n",
    "    R_abs[:,np.arange(1,N_border+1),np.arange(1,N_border+1)] = -(lp[:,None]+ln[:,None]) # -(r_i->i+1 + r_i->i-1) ????\n",
    "    R_abs[:,np.arange(0,N_border),np.arange(1,N_border+1)] = ln[:,None]\n",
    "    R_abs[:,np.arange(1,N_border),np.arange(0,N_border-1)] = lp[:,None]\n",
    "    prop_abs = expm(R_abs*dt, )\n",
    "    return prop_abs\n",
    "\n",
    "\n",
    "def get_hists(N_t, N_x, ntau, i_zero, prop, thresh =  5e-7, return_final_states = False):\n",
    "\n",
    "    def filter_prob(p):\n",
    "        if p > thresh:\n",
    "            return 1.\n",
    "        return p/thresh\n",
    "    filter_prob = np.vectorize(filter_prob)\n",
    "\n",
    "    states = np.full((1,ntau+1),i_zero,dtype=int)\n",
    "    probs = np.array([1.])\n",
    "    total_prob = [1]\n",
    "    unaltered_props = [1]\n",
    "\n",
    "    hists = np.empty((N_t,N_x))\n",
    "\n",
    "    for i in tqdm(np.arange(N_t)):\n",
    "        a_s = np.swapaxes(prop,1,2)[states[:,0],states[:,-1],:]\n",
    "\n",
    "        total_probs = a_s*probs[:,None]\n",
    "        unaltered_props.append(np.sum(total_probs))\n",
    "        i_s = np.where(total_probs > thresh)\n",
    "        new_probs = total_probs[i_s]\n",
    "        #i_s = np.where(total_probs > thresh*np.random.rand(*total_probs.shape))\n",
    "        #new_probs = total_probs[i_s]/filter_prob(total_probs[i_s])\n",
    "        new_states = np.repeat(states[:,None,:],N_x, axis = 1,)[i_s]\n",
    "        new_states[:,:-1] = new_states[:,1:]\n",
    "        new_states[:,-1]  = i_s[1]\n",
    "\n",
    "\n",
    "        uni, indxs = np.unique(new_states, axis=0, return_inverse=True)\n",
    "        states = uni\n",
    "        new_probs = np.stack([np.sum(new_probs[indxs == i]) for i in range(len(uni))])\n",
    "        total_prob.append(np.sum(new_probs))\n",
    "        probs = new_probs/np.sum(new_probs)\n",
    "\n",
    "        hists[i] = [np.sum(probs[states[:,-1] == i]) for i in range(N_x)] \n",
    "    print('Total number of final states:', states.shape)\n",
    "    if return_final_states:\n",
    "        return hists, unaltered_props, total_prob, new_states\n",
    "    return hists, unaltered_props, total_prob\n",
    "\n",
    "\n",
    "def get_hists_v2(N_t, N_x, ntau, i_zero, prop, thresh =  5e-7, return_final_states = False):\n",
    "    def filter_prob(p):\n",
    "        if p > thresh:\n",
    "            return 1.\n",
    "        return p/thresh\n",
    "    filter_prob = np.vectorize(filter_prob)\n",
    "\n",
    "    states = np.full((1,ntau+1),i_zero,dtype=int)\n",
    "    probs = np.array([1.])\n",
    "    total_prob = [1]\n",
    "    unaltered_props = [1]\n",
    "\n",
    "    hists = np.empty((N_t,N_x))\n",
    "\n",
    "    for i in tqdm(np.arange(N_t)):\n",
    "        a_s = np.swapaxes(prop,1,2)[states[:,0]+states[:,1],states[:,-1],:]\n",
    "\n",
    "        total_probs = a_s*probs[:,None]\n",
    "        unaltered_props.append(np.sum(total_probs))\n",
    "        i_s = np.where(total_probs > thresh)\n",
    "        new_probs = total_probs[i_s]\n",
    "        #i_s = np.where(total_probs > thresh*np.random.rand(*total_probs.shape))\n",
    "        #new_probs = total_probs[i_s]/filter_prob(total_probs[i_s])\n",
    "        new_states = np.repeat(states[:,None,:],N_x, axis = 1,)[i_s]\n",
    "        new_states[:,:-1] = new_states[:,1:]\n",
    "        new_states[:,-1]  = i_s[1]\n",
    "\n",
    "\n",
    "        #uni, indxs = np.unique(new_states, axis=0, return_inverse=True)\n",
    "        indxs, indxs_inv, counts  = np.unique(np.sum(new_states * (N_x**np.arange(ntau,-1,-1)), axis = 1),\n",
    "                                              return_index=True,\n",
    "                                              return_inverse=True,\n",
    "                                              return_counts=True\n",
    "                                             )[1:]\n",
    "        #states = uni\n",
    "        states = new_states[indxs]\n",
    "        new_probs = np.stack([np.sum(new_probs[indxs_inv == i]) if counts[i] > 1 else  new_probs[indxs[i]] for i in range(len(states))])\n",
    "        total_prob.append(np.sum(new_probs))\n",
    "        probs = new_probs/np.sum(new_probs)\n",
    "\n",
    "        hists[i] = [np.sum(probs[states[:,-1] == i]) for i in range(N_x)] \n",
    "    print('Total number of final states:', states.shape)\n",
    "    if return_final_states:\n",
    "        return hists, unaltered_props, total_prob, new_states\n",
    "    return hists, unaltered_props, total_prob\n",
    "\n",
    "def get_hists_v3(N_t, N_x, ntau, i_zero, prop, thresh =  0.000005, return_final_states = False):\n",
    "    def filter_prob(p):\n",
    "        if p > thresh:\n",
    "            return 1.\n",
    "        return p/thresh\n",
    "    filter_prob = np.vectorize(filter_prob)\n",
    "\n",
    "    states = np.full((1,ntau+1),i_zero,dtype=int)\n",
    "    probs = np.array([1.])\n",
    "    total_prob = [1]\n",
    "    unaltered_props = [1]\n",
    "\n",
    "    hists = np.empty((N_t,N_x))\n",
    "\n",
    "    for i in tqdm(np.arange(N_t)):\n",
    "        a_s = np.swapaxes(prop,1,2)[states[:,0]+states[:,1],states[:,-1],:]\n",
    "\n",
    "        total_probs = a_s*probs[:,None]\n",
    "        unaltered_props.append(np.sum(total_probs))\n",
    "        #i_s = np.where(total_probs > thresh)\n",
    "        #new_probs = total_probs[i_s]\n",
    "        i_s = np.where(total_probs > thresh*np.random.rand(*total_probs.shape))\n",
    "        new_probs = total_probs[i_s]/filter_prob(total_probs[i_s])\n",
    "        new_states = np.repeat(states[:,None,:],N_x, axis = 1,)[i_s]\n",
    "        new_states[:,:-1] = new_states[:,1:]\n",
    "        new_states[:,-1]  = i_s[1]\n",
    "\n",
    "\n",
    "        #uni, indxs = np.unique(new_states, axis=0, return_inverse=True)\n",
    "        indxs, indxs_inv, counts  = np.unique(np.sum(new_states * (N_x**np.arange(ntau,-1,-1)), axis = 1),\n",
    "                                              return_index=True,\n",
    "                                              return_inverse=True,\n",
    "                                              return_counts=True\n",
    "                                             )[1:]\n",
    "        #states = uni\n",
    "        states = new_states[indxs]\n",
    "        new_probs = np.stack([np.sum(new_probs[indxs_inv == i]) if counts[i] > 1 else  new_probs[indxs[i]] for i in range(len(states))])\n",
    "        total_prob.append(np.sum(new_probs))\n",
    "        probs = new_probs/np.sum(new_probs)\n",
    "\n",
    "        hists[i] = [np.sum(probs[states[:,-1] == i]) for i in range(N_x)] \n",
    "    print('Total number of final states:', states.shape)\n",
    "    if return_final_states:\n",
    "        return hists, unaltered_props, total_prob, new_states\n",
    "    return hists, unaltered_props, total_prob\n",
    "\n",
    "\n",
    "def get_hists_v4(N_t, N_x, ntau, i_zero, prop, thresh =  5e-7, return_final_states = False):\n",
    "    def filter_prob(p):\n",
    "        if p > thresh:\n",
    "            return 1.\n",
    "        return p/thresh\n",
    "    filter_prob = np.vectorize(filter_prob)\n",
    "\n",
    "    states = np.array([np.sum(i_zero*(N_x**np.arange(ntau+1, dtype = int)))])#np.full((1,ntau+1),i_zero,dtype=int)\n",
    "    probs = dok_array((N_x**(ntau+1),1), dtype=np.float32)\n",
    "    probs[states] = 1.\n",
    "    #probs = np.array([1.])\n",
    "    total_prob = [1]\n",
    "    unaltered_props = [1]\n",
    "\n",
    "    hists = np.empty((N_t,N_x))\n",
    "\n",
    "    for i in tqdm(np.arange(N_t)):\n",
    "        new_states = states//N_x\n",
    "        s0 = states%N_x\n",
    "        a_s = np.swapaxes(prop,1,2)[s0+new_states%N_x,states//(N_x**ntau),:]\n",
    "\n",
    "        total_probs = a_s*probs[states].todense()\n",
    "        #print(total_probs.shape)\n",
    "        unaltered_props.append(np.sum(total_probs))\n",
    "        probs.clear()\n",
    "        \n",
    "        new_state_list = []\n",
    "        for s in range(N_x):\n",
    "            s0filter = s == s0\n",
    "            i_s = np.where(total_probs[s0filter] > thresh)\n",
    "            if len(i_s[0]) > 0:\n",
    "                #i_s = np.where(total_probs > thresh*np.random.rand(*total_probs.shape))\n",
    "                #new_probs = total_probs[i_s]/filter_prob(total_probs[i_s])\n",
    "                l_new_states = np.repeat(new_states[s0filter,None],N_x, axis = 1,)[i_s]\n",
    "                l_new_states += i_s[1]*(N_x**ntau)\n",
    "                #print(l_new_states)\n",
    "                #print(~(probs[l_new_states,[0]] != 0).todense()[0])\n",
    "                new_state_list.append(l_new_states[~(probs[l_new_states,[0]] != 0).todense()[0]])\n",
    "                probs[l_new_states,[0]] += total_probs[s0filter][i_s]\n",
    "        \n",
    "\n",
    "\n",
    "        #states = uni\n",
    "        states = np.concatenate(new_state_list)\n",
    "        total_prob.append(np.sum(probs))\n",
    "        probs = probs/np.sum(probs)\n",
    "\n",
    "        hists[i] = [np.sum(probs[states[states//(N_x**ntau) == i]]) for i in range(N_x)] \n",
    "    print('Total number of final states:', states.shape)\n",
    "    if return_final_states:\n",
    "        return hists, unaltered_props, total_prob, new_states\n",
    "    return hists, unaltered_props, total_prob\n",
    "\n",
    "def get_hists_v5(N_t, N_x, ntau, i_zero, prop, thresh =   5e-7, return_final_states = False):\n",
    "    def filter_prob(p):\n",
    "        if p > thresh:\n",
    "            return 1.\n",
    "        return p/thresh\n",
    "    filter_prob = np.vectorize(filter_prob)\n",
    "\n",
    "    states = np.array([np.sum(i_zero*(N_x**np.arange(ntau+1, dtype = int)))])#np.full((1,ntau+1),i_zero,dtype=int)\n",
    "    probs = dok_array((N_x**(ntau+1),1), dtype=np.float32)\n",
    "    new_probs = dok_array((N_x**(ntau+1),1), dtype=np.float32)\n",
    "    probs[states] = 1.\n",
    "    #probs = np.array([1.])\n",
    "    total_prob = [1]\n",
    "    unaltered_props = [1]\n",
    "\n",
    "    hists = np.empty((N_t,N_x))\n",
    "\n",
    "    for i in tqdm(np.arange(N_t)):\n",
    "#         new_states = states//N_x\n",
    "#         s0 = states%N_x\n",
    "#         a_s = np.swapaxes(prop,1,2)[s0+new_states%N_x,states//(N_x**ntau),:]\n",
    "\n",
    "#         total_probs = a_s*probs[states].todense()\n",
    "#         #print(total_probs.shape)\n",
    "#         unaltered_props.append(np.sum(total_probs))\n",
    "        \n",
    "        new_state_list = []\n",
    "        s0 = states%N_x\n",
    "        for s in range(N_x):\n",
    "            old_states = states[s0 == s]\n",
    "            if len(old_states) > 0:\n",
    "                new_states = old_states//N_x\n",
    "\n",
    "                a_s = np.swapaxes(prop,1,2)[s+new_states%N_x, old_states//(N_x**ntau),:]\n",
    "                total_probs = a_s*probs[old_states].todense()\n",
    "                #print(total_probs.shape)\n",
    "                #unaltered_props.append(np.sum(total_probs))\n",
    "                i_s = np.where(total_probs > thresh)\n",
    "                if len(i_s[0]) > 0:\n",
    "                    #i_s = np.where(total_probs > thresh*np.random.rand(*total_probs.shape))\n",
    "                    #new_probs = total_probs[i_s]/filter_prob(total_probs[i_s])\n",
    "                    l_new_states = np.repeat(new_states[:,None],N_x, axis = 1,)[i_s]\n",
    "                    l_new_states += i_s[1]*(N_x**ntau)\n",
    "                    #print(l_new_states)\n",
    "                    #print(~(probs[l_new_states,[0]] != 0).todense()[0])\n",
    "                    new_state_list.append(l_new_states[~(new_probs[l_new_states,[0]] != 0).todense()[0]])\n",
    "                    new_probs[l_new_states,[0]] += total_probs[i_s]\n",
    "    \n",
    "        probs = new_probs.copy()\n",
    "        states = np.concatenate(new_state_list)\n",
    "        total_prob.append(np.sum(probs))\n",
    "        probs = probs/np.sum(probs)\n",
    "        new_probs.clear()\n",
    "       \n",
    "    hists[i] = [np.sum(probs[states[states//(N_x**ntau) == i]]) for i in range(N_x)] \n",
    "    print('Total number of final states:', states.shape)\n",
    "    if return_final_states:\n",
    "        return hists, unaltered_props, total_prob, new_states\n",
    "    return hists, unaltered_props, total_prob\n",
    "\n",
    "def simulate_traj(N_p, N_loop, N_t, ntau, s, dt, border, force):\n",
    "    pos = np.empty((N_loop,N_p,N_t))\n",
    "    vel = s*np.random.randn(N_loop,N_p,N_t)*1/np.sqrt(dt)\n",
    "\n",
    "    pos[:,:,:ntau+1] = -border\n",
    "    vel[:,:,:ntau+1] = 0\n",
    "\n",
    "    for i in tqdm(range(ntau+1,N_t)):\n",
    "        pos[:,:,i] = pos[:,:,i-1] + vel[:,:,i-1]*dt\n",
    "        vel[:,:,i] += force(pos[:,:,i-ntau])\n",
    "    return pos\n",
    "\n",
    "\n",
    "def get_rate(hists, dt,total_props=None):\n",
    "    if total_props is None:\n",
    "        sur_l = np.sum(hists[:,x_s <= 0],axis = 1)/np.sum(hists[0])\n",
    "        sur_r = np.sum(hists[:,x_s > 0],axis = 1)/np.sum(hists[0])\n",
    "    else:\n",
    "        sur_l = np.sum(hists[:,x_s <= 0],axis = 1)/np.sum(hists[0]) * np.cumprod(total_props[1:])\n",
    "        sur_r = np.sum(hists[:,x_s > 0],axis = 1)/np.sum(hists[0]) * np.cumprod(total_props[1:])\n",
    "    rate = -np.diff(sur_l)/(sur_l[:-1]-sur_r[:-1])/dt\n",
    "    return sur_l, rate"
   ]
  },
  {
   "cell_type": "markdown",
   "id": "e2eade25-5db9-4bed-8699-8f4e223bc560",
   "metadata": {
    "tags": []
   },
   "source": [
    "# One example"
   ]
  },
  {
   "cell_type": "code",
   "execution_count": 301,
   "id": "f704ce4c-1d9a-4115-9f1a-97581f223492",
   "metadata": {},
   "outputs": [],
   "source": [
    "# k = 1\n",
    "# tau = 0.5\n",
    "# D = 1/2\n",
    "# s = np.sqrt(2*D)\n",
    "# N_t = 100\n",
    "# dt = tau/4 if tau > 0 else 5e-2\n",
    "# dx = 1/2\n",
    "#sb = 20\n",
    "\n",
    "k = 3\n",
    "tau = 0.4\n",
    "D = 1e-6\n",
    "s = np.sqrt(2*D)\n",
    "N_t = 100\n",
    "dt = tau/4 if tau > 0 else 5e-2\n",
    "dx = 4e-4\n",
    "sb = 15*dx#0.005\n",
    "\n",
    "f = 30\n",
    "N_p = 8_000\n",
    "\n",
    "\n",
    "ntau = round(tau/dt)\n",
    "ts = np.arange(0,N_t)*dt\n",
    "ts_r = ts[1:]\n",
    "\n",
    "\n",
    "# jump over zero as x point\n",
    "x_s = np.arange(-sb,sb+1e-6,dx)\n",
    "bins = np.arange(-sb-dx/2,sb+dx/2+1e-5,dx)\n",
    "N_x = len(x_s)\n",
    "\n",
    "def force(x,*args):\n",
    "     return -k*x\n",
    "i_zero = np.argmin(force(x_s)**2)"
   ]
  },
  {
   "cell_type": "code",
   "execution_count": 302,
   "id": "d69a79a7-5b2d-47ad-9ec8-fd3f468565de",
   "metadata": {},
   "outputs": [],
   "source": [
    "thresh = 5e-7"
   ]
  },
  {
   "cell_type": "code",
   "execution_count": 303,
   "id": "c8a6ba57-4a6b-4a78-9d26-833ac1a38817",
   "metadata": {},
   "outputs": [
    {
     "data": {
      "application/vnd.jupyter.widget-view+json": {
       "model_id": "e43e50f3a88543588d547d93889f6ca1",
       "version_major": 2,
       "version_minor": 0
      },
      "text/plain": [
       "  0%|          | 0/100 [00:00<?, ?it/s]"
      ]
     },
     "metadata": {},
     "output_type": "display_data"
    },
    {
     "name": "stdout",
     "output_type": "stream",
     "text": [
      "Total number of final states: (51089, 5)\n"
     ]
    }
   ],
   "source": [
    "prop = get_prop(x_s, force,D,dt,dx)\n",
    "hists, unaltered_props, total_prob = get_hists(N_t = N_t, N_x=N_x,ntau=ntau,i_zero=i_zero,prop=prop, thresh=thresh)"
   ]
  },
  {
   "cell_type": "code",
   "execution_count": 304,
   "id": "cab04948-2ae2-4b69-8bb4-a86dc74e3ed1",
   "metadata": {},
   "outputs": [],
   "source": [
    "prop2 = get_prop_v2(x_s, force,D,dt,dx)\n",
    "#hists2, unaltered_props2, total_prob2 = get_hists_v2(N_t = N_t, N_x=N_x,ntau=ntau,i_zero=i_zero,prop=prop2, thresh=thresh)\n",
    "#hists3, unaltered_props3, total_prob3 = get_hists_v3(N_t = N_t, N_x=N_x,ntau=ntau,i_zero=i_zero,prop=prop2, thresh=thresh)"
   ]
  },
  {
   "cell_type": "code",
   "execution_count": 305,
   "id": "568bb247-e79e-4b2a-a3be-cc7ae5c58ff0",
   "metadata": {},
   "outputs": [
    {
     "data": {
      "application/vnd.jupyter.widget-view+json": {
       "model_id": "41b7e2c0e37d4e67984028e6ff50151d",
       "version_major": 2,
       "version_minor": 0
      },
      "text/plain": [
       "  0%|          | 0/100 [00:00<?, ?it/s]"
      ]
     },
     "metadata": {},
     "output_type": "display_data"
    },
    {
     "name": "stdout",
     "output_type": "stream",
     "text": [
      "Total number of final states: (38889,)\n"
     ]
    }
   ],
   "source": [
    "hists4, unaltered_props4, total_prob4 = get_hists_v4(N_t = N_t, N_x=N_x,ntau=ntau,i_zero=i_zero,prop=prop2, thresh=thresh)"
   ]
  },
  {
   "cell_type": "code",
   "execution_count": 306,
   "id": "23ef8268-6bc1-4e99-9169-0698736a7b0b",
   "metadata": {},
   "outputs": [],
   "source": [
    "#hists5, unaltered_props5, total_prob5 = get_hists_v5(N_t = N_t, N_x=N_x,ntau=ntau,i_zero=i_zero,prop=prop2, thresh=thresh)"
   ]
  },
  {
   "cell_type": "code",
   "execution_count": 307,
   "id": "b8704362-f49d-47a8-964e-a8e5263f6c3c",
   "metadata": {},
   "outputs": [
    {
     "data": {
      "application/vnd.jupyter.widget-view+json": {
       "model_id": "5a71cd0dab10464abbc7b8755def2bef",
       "version_major": 2,
       "version_minor": 0
      },
      "text/plain": [
       "  0%|          | 0/3059 [00:00<?, ?it/s]"
      ]
     },
     "metadata": {},
     "output_type": "display_data"
    },
    {
     "data": {
      "application/vnd.jupyter.widget-view+json": {
       "model_id": "675584e7b75e4de1ae573ea060865ddc",
       "version_major": 2,
       "version_minor": 0
      },
      "text/plain": [
       "  0%|          | 0/3180 [00:00<?, ?it/s]"
      ]
     },
     "metadata": {},
     "output_type": "display_data"
    }
   ],
   "source": [
    "pos = simulate_traj(N_p=N_p, N_loop=1, N_t=(N_t+ntau+2)*f, ntau=ntau*f, s=s, dt=dt/f,border=0, force=force)\n",
    "all_pos = pos[0]\n",
    "sim_hists = [np.histogram(all_pos[:,j], bins = bins)[0] for j in tqdm(range(all_pos.shape[-1]))]\n",
    "sim_ts = np.arange(0, len(all_pos[0]))*dt/f -tau-dt"
   ]
  },
  {
   "cell_type": "code",
   "execution_count": 324,
   "id": "88517dcb-4f2f-413b-b8ea-54fa074ce5e2",
   "metadata": {},
   "outputs": [
    {
     "data": {
      "text/plain": [
       "<matplotlib.legend.Legend at 0x7f2950427c10>"
      ]
     },
     "execution_count": 324,
     "metadata": {},
     "output_type": "execute_result"
    },
    {
     "data": {
      "image/png": "[encoded data removed]",
      "text/plain": [
       "<Figure size 640x480 with 1 Axes>"
      ]
     },
     "metadata": {},
     "output_type": "display_data"
    }
   ],
   "source": [
    "idx = 30\n",
    "plt.plot(x_s,sim_hists[f*(idx+ntau+1)]/N_p,'.-', label='sim')\n",
    "plt.plot(x_s,hists[idx],'.--', label='v1')\n",
    "#plt.plot(x_s,hists2[idx],'.-')\n",
    "#plt.plot(x_s,hists3[idx],'.-')\n",
    "plt.plot(x_s,hists4[idx],'.--', label = 'v4')\n",
    "plt.legend()"
   ]
  },
  {
   "cell_type": "code",
   "execution_count": 314,
   "id": "80cc0d1c-f4a0-4bca-ab47-57974b1a791e",
   "metadata": {},
   "outputs": [],
   "source": [
    "sim_var = np.var(pos, axis = 1)\n",
    "sim_p = sim_hists/np.sum(sim_hists, axis = 1)[:,None]\n",
    "sim_hist_var = np.sum(sim_p*x_s[None,:]**2 - (sim_p*x_s[None,:])**2, axis = 1)\n",
    "\n",
    "num_p = hists[:,:]/np.sum(hists, axis = 1)[:,None]\n",
    "num_var = np.sum(num_p*x_s[None,:]**2 - (num_p*x_s[None,:])**2, axis = 1)\n",
    "\n",
    "#num_p_2 = hists2[:,:]/np.sum(hists2, axis = 1)[:,None]\n",
    "#num_var_2 = np.sum(num_p_2*x_s[None,:]**2 - (num_p_2*x_s[None,:])**2, axis = 1)\n",
    "\n",
    "#num_p_3 = hists3[:,:]/np.sum(hists3, axis = 1)[:,None]\n",
    "#num_var_3 = np.sum(num_p_3*x_s[None,:]**2 - (num_p_3*x_s[None,:])**2, axis = 1)\n",
    "\n",
    "num_p_4 = hists4[:,:]/np.sum(hists4, axis = 1)[:,None]\n",
    "num_var_4 = np.sum(num_p_4*x_s[None,:]**2 - (num_p_4*x_s[None,:])**2, axis = 1)"
   ]
  },
  {
   "cell_type": "code",
   "execution_count": 315,
   "id": "abee1475-d702-44ea-9938-b034035975f7",
   "metadata": {},
   "outputs": [
    {
     "data": {
      "text/plain": [
       "0.4"
      ]
     },
     "execution_count": 315,
     "metadata": {},
     "output_type": "execute_result"
    }
   ],
   "source": [
    "tau"
   ]
  },
  {
   "cell_type": "code",
   "execution_count": 317,
   "id": "63e6a478-7598-46c7-b791-4b5e33894e99",
   "metadata": {},
   "outputs": [
    {
     "data": {
      "text/plain": [
       "(0.0, 2.0)"
      ]
     },
     "execution_count": 317,
     "metadata": {},
     "output_type": "execute_result"
    },
    {
     "data": {
      "image/png": "[encoded data removed]",
      "text/plain": [
       "<Figure size 640x480 with 1 Axes>"
      ]
     },
     "metadata": {},
     "output_type": "display_data"
    }
   ],
   "source": [
    "plt.plot(sim_ts,sim_var[0], label='sim')\n",
    "plt.plot(sim_ts,sim_hist_var, label='sim hist')\n",
    "plt.plot(ts, num_var, label='v1', ls = '--')\n",
    "#plt.plot(ts, num_var_2, label='v2',ls =  '--')\n",
    "#plt.plot(ts, num_var_3, label='v3',ls =  '--')\n",
    "plt.plot(ts, num_var_4, label='v4',ls =  '--')\n",
    "plt.legend()\n",
    "plt.xlim(0,2)"
   ]
  },
  {
   "cell_type": "code",
   "execution_count": 319,
   "id": "105d9bb8-77e3-40bd-82a9-233f81640c88",
   "metadata": {},
   "outputs": [
    {
     "name": "stdout",
     "output_type": "stream",
     "text": [
      "1.7962576146877355e-06\n",
      "1.7335133114016182e-06\n",
      "\n",
      "2.305629417277476e-06\n",
      "1.6350548345045026e-06\n"
     ]
    }
   ],
   "source": [
    "print(np.mean(sim_var[0,-f*N_t//2:]))\n",
    "print(np.mean(sim_hist_var[-f*N_t//2:]))\n",
    "print()\n",
    "print(np.mean(num_var[-N_t//2:]))\n",
    "print(np.mean(num_var_4[-N_t//2:]))"
   ]
  },
  {
   "cell_type": "markdown",
   "id": "0d435131-c683-487f-a0b9-234fe713a939",
   "metadata": {},
   "source": [
    "# The loop"
   ]
  },
  {
   "cell_type": "code",
   "execution_count": 6,
   "id": "84004f3c-f23c-427c-8573-8686081e335b",
   "metadata": {},
   "outputs": [
    {
     "data": {
      "application/vnd.jupyter.widget-view+json": {
       "model_id": "5b84574a32294b38b6b849f0a781da26",
       "version_major": 2,
       "version_minor": 0
      },
      "text/plain": [
       "  0%|          | 0/8 [00:00<?, ?it/s]"
      ]
     },
     "metadata": {},
     "output_type": "display_data"
    },
    {
     "name": "stdout",
     "output_type": "stream",
     "text": [
      "0.0025 4\n"
     ]
    },
    {
     "data": {
      "application/vnd.jupyter.widget-view+json": {
       "model_id": "390b961a611b479d96f6b72152a57082",
       "version_major": 2,
       "version_minor": 0
      },
      "text/plain": [
       "  0%|          | 0/100 [00:00<?, ?it/s]"
      ]
     },
     "metadata": {},
     "output_type": "display_data"
    },
    {
     "name": "stdout",
     "output_type": "stream",
     "text": [
      "Total number of final states: (539,)\n"
     ]
    },
    {
     "data": {
      "application/vnd.jupyter.widget-view+json": {
       "model_id": "b6ff4b303b52418fa757a7ecdd87af6f",
       "version_major": 2,
       "version_minor": 0
      },
      "text/plain": [
       "  0%|          | 0/3059 [00:00<?, ?it/s]"
      ]
     },
     "metadata": {},
     "output_type": "display_data"
    },
    {
     "data": {
      "application/vnd.jupyter.widget-view+json": {
       "model_id": "24cae02df4984a21a32087cd862dec66",
       "version_major": 2,
       "version_minor": 0
      },
      "text/plain": [
       "  0%|          | 0/3180 [00:00<?, ?it/s]"
      ]
     },
     "metadata": {},
     "output_type": "display_data"
    },
    {
     "name": "stdout",
     "output_type": "stream",
     "text": [
      "0.0125 4\n"
     ]
    },
    {
     "data": {
      "application/vnd.jupyter.widget-view+json": {
       "model_id": "f843901d40f340f6b1b2119eab6da397",
       "version_major": 2,
       "version_minor": 0
      },
      "text/plain": [
       "  0%|          | 0/100 [00:00<?, ?it/s]"
      ]
     },
     "metadata": {},
     "output_type": "display_data"
    },
    {
     "name": "stdout",
     "output_type": "stream",
     "text": [
      "Total number of final states: (2139,)\n"
     ]
    },
    {
     "data": {
      "application/vnd.jupyter.widget-view+json": {
       "model_id": "15250dcd9e864f2da38c29699aae3594",
       "version_major": 2,
       "version_minor": 0
      },
      "text/plain": [
       "  0%|          | 0/3059 [00:00<?, ?it/s]"
      ]
     },
     "metadata": {},
     "output_type": "display_data"
    },
    {
     "data": {
      "application/vnd.jupyter.widget-view+json": {
       "model_id": "1027755e95454ba3932ee10487d42d29",
       "version_major": 2,
       "version_minor": 0
      },
      "text/plain": [
       "  0%|          | 0/3180 [00:00<?, ?it/s]"
      ]
     },
     "metadata": {},
     "output_type": "display_data"
    },
    {
     "name": "stdout",
     "output_type": "stream",
     "text": [
      "0.025 4\n"
     ]
    },
    {
     "data": {
      "application/vnd.jupyter.widget-view+json": {
       "model_id": "129f1e74150941c1a7f73b4c39f09556",
       "version_major": 2,
       "version_minor": 0
      },
      "text/plain": [
       "  0%|          | 0/100 [00:00<?, ?it/s]"
      ]
     },
     "metadata": {},
     "output_type": "display_data"
    },
    {
     "name": "stdout",
     "output_type": "stream",
     "text": [
      "Total number of final states: (4387,)\n"
     ]
    },
    {
     "data": {
      "application/vnd.jupyter.widget-view+json": {
       "model_id": "df438532ed8d421baf07811fab04b622",
       "version_major": 2,
       "version_minor": 0
      },
      "text/plain": [
       "  0%|          | 0/3059 [00:00<?, ?it/s]"
      ]
     },
     "metadata": {},
     "output_type": "display_data"
    },
    {
     "data": {
      "application/vnd.jupyter.widget-view+json": {
       "model_id": "66c5fd5cf1864b38883e85fc5e872016",
       "version_major": 2,
       "version_minor": 0
      },
      "text/plain": [
       "  0%|          | 0/3180 [00:00<?, ?it/s]"
      ]
     },
     "metadata": {},
     "output_type": "display_data"
    },
    {
     "name": "stdout",
     "output_type": "stream",
     "text": [
      "0.05 4\n"
     ]
    },
    {
     "data": {
      "application/vnd.jupyter.widget-view+json": {
       "model_id": "3f8fc495cac94812a27e752a12d012f4",
       "version_major": 2,
       "version_minor": 0
      },
      "text/plain": [
       "  0%|          | 0/100 [00:00<?, ?it/s]"
      ]
     },
     "metadata": {},
     "output_type": "display_data"
    },
    {
     "name": "stdout",
     "output_type": "stream",
     "text": [
      "Total number of final states: (10315,)\n"
     ]
    },
    {
     "data": {
      "application/vnd.jupyter.widget-view+json": {
       "model_id": "7c3ed8baf4444d5792467fadae15866a",
       "version_major": 2,
       "version_minor": 0
      },
      "text/plain": [
       "  0%|          | 0/3059 [00:00<?, ?it/s]"
      ]
     },
     "metadata": {},
     "output_type": "display_data"
    },
    {
     "data": {
      "application/vnd.jupyter.widget-view+json": {
       "model_id": "15daaf36a20049ab8266a0d23a3ac290",
       "version_major": 2,
       "version_minor": 0
      },
      "text/plain": [
       "  0%|          | 0/3180 [00:00<?, ?it/s]"
      ]
     },
     "metadata": {},
     "output_type": "display_data"
    },
    {
     "name": "stdout",
     "output_type": "stream",
     "text": [
      "0.075 4\n"
     ]
    },
    {
     "data": {
      "application/vnd.jupyter.widget-view+json": {
       "model_id": "9c94bb0b05834468b474908c09d9c04b",
       "version_major": 2,
       "version_minor": 0
      },
      "text/plain": [
       "  0%|          | 0/100 [00:00<?, ?it/s]"
      ]
     },
     "metadata": {},
     "output_type": "display_data"
    },
    {
     "name": "stdout",
     "output_type": "stream",
     "text": [
      "Total number of final states: (20441,)\n"
     ]
    },
    {
     "data": {
      "application/vnd.jupyter.widget-view+json": {
       "model_id": "201fce0b43694b8fb6c092dfbc59e87f",
       "version_major": 2,
       "version_minor": 0
      },
      "text/plain": [
       "  0%|          | 0/3059 [00:00<?, ?it/s]"
      ]
     },
     "metadata": {},
     "output_type": "display_data"
    },
    {
     "data": {
      "application/vnd.jupyter.widget-view+json": {
       "model_id": "16e5149218414520a745c980e38e24f2",
       "version_major": 2,
       "version_minor": 0
      },
      "text/plain": [
       "  0%|          | 0/3180 [00:00<?, ?it/s]"
      ]
     },
     "metadata": {},
     "output_type": "display_data"
    },
    {
     "name": "stdout",
     "output_type": "stream",
     "text": [
      "0.1 4\n"
     ]
    },
    {
     "data": {
      "application/vnd.jupyter.widget-view+json": {
       "model_id": "04bbfa3b9bee4306b01a06ef17dbfe8d",
       "version_major": 2,
       "version_minor": 0
      },
      "text/plain": [
       "  0%|          | 0/100 [00:00<?, ?it/s]"
      ]
     },
     "metadata": {},
     "output_type": "display_data"
    },
    {
     "name": "stdout",
     "output_type": "stream",
     "text": [
      "Total number of final states: (38889,)\n"
     ]
    },
    {
     "data": {
      "application/vnd.jupyter.widget-view+json": {
       "model_id": "a553b28f2bcd4c069e8934bc0bbb4881",
       "version_major": 2,
       "version_minor": 0
      },
      "text/plain": [
       "  0%|          | 0/3059 [00:00<?, ?it/s]"
      ]
     },
     "metadata": {},
     "output_type": "display_data"
    },
    {
     "data": {
      "application/vnd.jupyter.widget-view+json": {
       "model_id": "8b055e9ee0d44b939da2232f90e03bf9",
       "version_major": 2,
       "version_minor": 0
      },
      "text/plain": [
       "  0%|          | 0/3180 [00:00<?, ?it/s]"
      ]
     },
     "metadata": {},
     "output_type": "display_data"
    },
    {
     "name": "stdout",
     "output_type": "stream",
     "text": [
      "0.125 4\n"
     ]
    },
    {
     "data": {
      "application/vnd.jupyter.widget-view+json": {
       "model_id": "6e00a844292746fdb5b404c3f87a0570",
       "version_major": 2,
       "version_minor": 0
      },
      "text/plain": [
       "  0%|          | 0/100 [00:00<?, ?it/s]"
      ]
     },
     "metadata": {},
     "output_type": "display_data"
    },
    {
     "name": "stdout",
     "output_type": "stream",
     "text": [
      "Total number of final states: (31775,)\n"
     ]
    },
    {
     "data": {
      "application/vnd.jupyter.widget-view+json": {
       "model_id": "b10a69d1773148c6b7a5c18757931627",
       "version_major": 2,
       "version_minor": 0
      },
      "text/plain": [
       "  0%|          | 0/3059 [00:00<?, ?it/s]"
      ]
     },
     "metadata": {},
     "output_type": "display_data"
    },
    {
     "data": {
      "application/vnd.jupyter.widget-view+json": {
       "model_id": "0e3e45a1b61a42a5be6db3d1a00a6cb6",
       "version_major": 2,
       "version_minor": 0
      },
      "text/plain": [
       "  0%|          | 0/3180 [00:00<?, ?it/s]"
      ]
     },
     "metadata": {},
     "output_type": "display_data"
    },
    {
     "name": "stdout",
     "output_type": "stream",
     "text": [
      "0.15 4\n"
     ]
    },
    {
     "data": {
      "application/vnd.jupyter.widget-view+json": {
       "model_id": "801238aea39241d9af0fe2537bea5e35",
       "version_major": 2,
       "version_minor": 0
      },
      "text/plain": [
       "  0%|          | 0/100 [00:00<?, ?it/s]"
      ]
     },
     "metadata": {},
     "output_type": "display_data"
    },
    {
     "name": "stdout",
     "output_type": "stream",
     "text": [
      "Total number of final states: (1804,)\n"
     ]
    },
    {
     "data": {
      "application/vnd.jupyter.widget-view+json": {
       "model_id": "b178ef581d8240799ad1fd534ae6c4f5",
       "version_major": 2,
       "version_minor": 0
      },
      "text/plain": [
       "  0%|          | 0/3059 [00:00<?, ?it/s]"
      ]
     },
     "metadata": {},
     "output_type": "display_data"
    },
    {
     "data": {
      "application/vnd.jupyter.widget-view+json": {
       "model_id": "124879b60bd4487fa7e72daf88767549",
       "version_major": 2,
       "version_minor": 0
      },
      "text/plain": [
       "  0%|          | 0/3180 [00:00<?, ?it/s]"
      ]
     },
     "metadata": {},
     "output_type": "display_data"
    }
   ],
   "source": [
    "k = 3\n",
    "D = 1e-6\n",
    "s = np.sqrt(2*D)\n",
    "N_t = 100\n",
    "dx = 4e-4 #4e-4\n",
    "sb = 15*dx#0.005\n",
    "\n",
    "f = 30\n",
    "N_p = 8_000\n",
    "\n",
    "\n",
    "# jump over zero as x point\n",
    "x_s = np.arange(-sb,sb+1e-6,dx)\n",
    "bins = np.arange(-sb-dx/2,sb+dx/2+1e-5,dx)\n",
    "N_x = len(x_s)\n",
    "\n",
    "ltaus = np.array([0.01, 0.05, 0.1, 0.2,0.3,0.4,0.5,0.6])\n",
    "sim_vars = np.empty(len(ltaus))\n",
    "num_vars = np.empty(len(ltaus))\n",
    "num_vars_2 = np.empty(len(ltaus))\n",
    "sim_hist_vars = np.empty(len(ltaus))\n",
    "\n",
    "tau_frac = 4\n",
    "\n",
    "def force(x,*args):\n",
    "     return -k*x\n",
    "i_zero = np.argmin(force(x_s)**2)\n",
    "\n",
    "for i,ltau in enumerate(tqdm(ltaus)):\n",
    "    \n",
    "    \n",
    "    ldt = ltau/tau_frac if ltau > 0 else 5e-2\n",
    "    lntau = round(ltau/ldt)\n",
    "    \n",
    "    print(ldt, lntau)\n",
    "    prop = get_prop_v2(x_s, force,D,ldt,dx)\n",
    "    hists, unaltered_props, total_prob = get_hists_v4(N_t = N_t, N_x=N_x,ntau=lntau,i_zero=i_zero,prop=prop)\n",
    "    \n",
    "    #prop2 = get_prop_v2(x_s, force,D,ldt,dx)\n",
    "    #hists2, unaltered_props2, total_prob2 = get_hists_v2(N_t = N_t, N_x=N_x,ntau=lntau,i_zero=i_zero,prop=prop2)\n",
    "    \n",
    "    \n",
    "    pos = simulate_traj(N_p=N_p, N_loop=1, N_t=(N_t+lntau+2)*f, ntau=lntau*f, s=s, dt=ldt/f,border=0, force=force)\n",
    "    all_pos = pos[0]\n",
    "    sim_hists = [np.histogram(all_pos[:,j], bins = bins)[0] for j in tqdm(range(all_pos.shape[-1]))]\n",
    " \n",
    "    sim_var = np.var(pos, axis = 1)\n",
    "    sim_p = sim_hists/np.sum(sim_hists, axis = 1)[:,None]\n",
    "    sim_hist_var = np.sum(sim_p*x_s[None,:]**2 - (sim_p*x_s[None,:])**2, axis = 1)\n",
    "    \n",
    "    num_p = hists[:,:]/np.sum(hists, axis = 1)[:,None]\n",
    "    num_var = np.sum(num_p*x_s[None,:]**2 - (num_p*x_s[None,:])**2, axis = 1)\n",
    "\n",
    "    #num_p_2 = hists2[:,:]/np.sum(hists2, axis = 1)[:,None]\n",
    "    #num_var_2 = np.sum(num_p_2*x_s[None,:]**2 - (num_p_2*x_s[None,:])**2, axis = 1)\n",
    "    \n",
    "    sim_vars[i] = np.mean(sim_var[0,-f*N_t//2:])\n",
    "    num_vars[i] = np.mean(num_var[-N_t//2:])\n",
    "    sim_hist_vars[i] = np.mean(sim_hist_var[-f*N_t//2:])\n",
    "    #num_vars_2[i] = np.mean(num_var_2[-N_t//2:])\n",
    "    \n",
    "with open(f'nummeric_results/sim_vs_num_v4_emb{tau_frac}_old.pkl', 'wb') as file:\n",
    "    pickle.dump({'ltaus':ltaus,\n",
    "                 'sim_vars':sim_vars,\n",
    "                 'sim_hist_vars':sim_hist_vars,\n",
    "                 'num_vars':num_vars\n",
    "                }, file)"
   ]
  },
  {
   "cell_type": "code",
   "execution_count": 14,
   "id": "2e006dcf-1794-42a9-99b4-8f57363875f7",
   "metadata": {},
   "outputs": [],
   "source": [
    "# sim_vs_num_v2 = pickle.load(open('nummeric_results/sim_vs_num_v2_emb4.pkl', 'rb'))\n",
    "# ltaus = sim_vs_num_v2['ltaus']\n",
    "# sim_vars = sim_vs_num_v2['sim_vars']\n",
    "# num_vars = sim_vs_num_v2['num_vars']\n",
    "# num_vars_2 = sim_vs_num_v2['num_vars_2']\n",
    "\n",
    "sim_vs_num_v4 = pickle.load(open('nummeric_results/sim_vs_num_v4_emb4_old.pkl', 'rb'))\n",
    "ltaus = sim_vs_num_v4['ltaus']\n",
    "sim_vars = sim_vs_num_v4['sim_vars']\n",
    "num_vars = sim_vs_num_v4['num_vars']\n",
    "sim_hist_vars = sim_vs_num_v4['sim_hist_vars']"
   ]
  },
  {
   "cell_type": "code",
   "execution_count": 15,
   "id": "b33166ec-b350-46b0-9145-6a35e05f7f11",
   "metadata": {},
   "outputs": [],
   "source": [
    "short_time_approx_var = s**2/(2*k)*(1+k*ltaus)\n",
    "exact_sol = s**2/(2*k)*(1+np.sin(k*ltaus))/np.cos(k*ltaus)"
   ]
  },
  {
   "cell_type": "code",
   "execution_count": 16,
   "id": "77c2af35-45fb-46ee-afcd-e108e2abba74",
   "metadata": {},
   "outputs": [
    {
     "data": {
      "image/png": "[encoded data removed]",
      "text/plain": [
       "<Figure size 640x480 with 1 Axes>"
      ]
     },
     "metadata": {},
     "output_type": "display_data"
    }
   ],
   "source": [
    "ax = plt.subplot()\n",
    "plt.plot(ltaus,sim_vars,'.-', label='sim')\n",
    "#plt.plot(ltaus,sim_hist_vars,'.-', label='hist-sim')\n",
    "plt.plot(ltaus,num_vars,'.--', label='new algorithm')\n",
    "#plt.plot(ltaus,num_vars_2,'.--' ,label='v2')\n",
    "plt.plot(ltaus,short_time_approx_var ,'.-.',label='short time')\n",
    "plt.plot(ltaus[:-1],exact_sol[:-1] ,'.-.',label='exact')\n",
    "\n",
    "plt.ylim(1e-7,5e-5)\n",
    "plt.vlines([1/np.e /k, np.pi/2/k],*plt.ylim(), color='black')\n",
    "plt.text(0.5*1/np.e /k,              2e-7,'Regim I', ha='center', va='center')\n",
    "plt.text(0.5*(1/np.e /k+  np.pi/2/k),2e-7,'Regim II',ha='center', va='center')\n",
    "plt.text(1.1*(np.pi/2/k),            2e-7,'Regim III',ha='center', va='center')\n",
    "\n",
    "plt.yscale('log')\n",
    "plt.legend()\n",
    "plt.xlabel(r'$\\tau$')\n",
    "plt.ylabel(r'$\\sigma^2$')\n",
    "plt.tight_layout()\n",
    "plt.savefig('Graphic_Results/varianz_compare.pdf')"
   ]
  },
  {
   "cell_type": "code",
   "execution_count": 17,
   "id": "a709c007-2979-4afe-9b87-c0d65f454cd2",
   "metadata": {},
   "outputs": [
    {
     "data": {
      "text/plain": [
       "<matplotlib.legend.Legend at 0x7f1960509240>"
      ]
     },
     "execution_count": 17,
     "metadata": {},
     "output_type": "execute_result"
    },
    {
     "data": {
      "image/png": "[encoded data removed]",
      "text/plain": [
       "<Figure size 640x480 with 1 Axes>"
      ]
     },
     "metadata": {},
     "output_type": "display_data"
    }
   ],
   "source": [
    "plt.plot(ltaus,num_vars/sim_hist_vars,'.-', label='v1')\n",
    "#plt.plot(ltaus,num_vars_2/sim_vars,label='v2')\n",
    "plt.plot(ltaus,short_time_approx_var/sim_hist_vars,'.-',label='short time')\n",
    "plt.ylim(0.5,1.5)\n",
    "plt.legend()"
   ]
  },
  {
   "cell_type": "code",
   "execution_count": null,
   "id": "4da74fb5-0420-4952-9db0-4227deffccb4",
   "metadata": {},
   "outputs": [],
   "source": []
  }
 ],
 "metadata": {
  "kernelspec": {
   "display_name": "Python 3",
   "language": "python",
   "name": "python3"
  },
  "language_info": {
   "codemirror_mode": {
    "name": "ipython",
    "version": 3
   },
   "file_extension": ".py",
   "mimetype": "text/x-python",
   "name": "python",
   "nbconvert_exporter": "python",
   "pygments_lexer": "ipython3",
   "version": "3.10.6"
  }
 },
 "nbformat": 4,
 "nbformat_minor": 5
}
