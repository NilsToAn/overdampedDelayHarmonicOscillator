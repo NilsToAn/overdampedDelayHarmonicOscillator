{
 "cells": [
  {
   "cell_type": "code",
   "execution_count": 1,
   "id": "5acbf630-c240-4644-852c-717643949a50",
   "metadata": {},
   "outputs": [],
   "source": [
    "%load_ext autoreload\n",
    "%autoreload 2\n",
    "%matplotlib inline\n",
    "\n",
    "\n",
    "import numpy as np\n",
    "import matplotlib.pyplot as plt\n",
    "from scipy.linalg import expm\n",
    "from tqdm.notebook import tqdm\n",
    "import pickle\n",
    "import timeit"
   ]
  },
  {
   "cell_type": "code",
   "execution_count": 51,
   "id": "72810b45-03d0-4b8f-9beb-83fad4f1a259",
   "metadata": {},
   "outputs": [],
   "source": [
    "def get_prop(x_s, force,D, dt, dx):\n",
    "    N_x = len(x_s)\n",
    "    # x(t-tau), x(t), res\n",
    "    R = np.zeros(( N_x,N_x, N_x))\n",
    "    \n",
    "    F = force(x_s)\n",
    "    lp = D / dx**2 * np.exp((F*dx/D)/2)  # r_i->i+1\n",
    "    ln = D / dx**2 * np.exp(-(F*dx/D)/2)  # r_i+1->i\n",
    "\n",
    "    R[:,0,0] = -lp\n",
    "    R[:,-1,-1] = -ln\n",
    "    R[:,np.arange(1,N_x-1),np.arange(1,N_x-1)] = -(lp[:,None]+ln[:,None]) # -(r_i->i+1 + r_i->i-1) ????\n",
    "    R[:,np.arange(0,N_x-1),np.arange(1,N_x)] = ln[:,None]\n",
    "    R[:,np.arange(1,N_x),np.arange(0,N_x-1)] = lp[:,None]\n",
    "    prop = expm(R*dt, )\n",
    "    return prop\n",
    "\n",
    "def get_prop_v2(x_s, force,D, dt, dx):\n",
    "    N_x = len(x_s)\n",
    "    half_x_s = np.arange(x_s[0],x_s[-1]+dx/4,dx/2)\n",
    "    # x(t-tau), x(t), res\n",
    "    R = np.zeros(( len(half_x_s),N_x, N_x))\n",
    "    \n",
    "    F = force(half_x_s)\n",
    "    lp = D / dx**2 * np.exp((F*dx/D)/2)  # r_i->i+1\n",
    "    ln = D / dx**2 * np.exp(-(F*dx/D)/2)  # r_i+1->i\n",
    "\n",
    "    R[:,0,0] = -lp\n",
    "    R[:,-1,-1] = -ln\n",
    "    R[:,np.arange(1,N_x-1),np.arange(1,N_x-1)] = -(lp[:,None]+ln[:,None]) # -(r_i->i+1 + r_i->i-1) ????\n",
    "    R[:,np.arange(0,N_x-1),np.arange(1,N_x)] = ln[:,None]\n",
    "    R[:,np.arange(1,N_x),np.arange(0,N_x-1)] = lp[:,None]\n",
    "    prop = expm(R*dt, )\n",
    "    return prop\n",
    "\n",
    "\n",
    "def get_prop_abs(x_s, force, D,dt,dx, N_border):\n",
    "    # x(t-tau), x(t), res\n",
    "    N_x = len(x_s)\n",
    "    R_abs = np.zeros(( N_x,N_x, N_x))\n",
    "    \n",
    "    F = force(x_s)\n",
    "    lp = D / dx**2 * np.exp((F*dx/D)/2)  # r_i->i+1\n",
    "    ln = D / dx**2 * np.exp(-(F*dx/D)/2)  # r_i+1->i\n",
    "    \n",
    "    R_abs[:,0,0] = -lp\n",
    "    R_abs[:,np.arange(1,N_border+1),np.arange(1,N_border+1)] = -(lp[:,None]+ln[:,None]) # -(r_i->i+1 + r_i->i-1) ????\n",
    "    R_abs[:,np.arange(0,N_border),np.arange(1,N_border+1)] = ln[:,None]\n",
    "    R_abs[:,np.arange(1,N_border),np.arange(0,N_border-1)] = lp[:,None]\n",
    "    prop_abs = expm(R_abs*dt, )\n",
    "    return prop_abs\n",
    "\n",
    "\n",
    "def get_hists(N_t, N_x, ntau, i_zero, prop, thresh =  0.000005, return_final_states = False):\n",
    "\n",
    "    def filter_prob(p):\n",
    "        if p > thresh:\n",
    "            return 1.\n",
    "        return p/thresh\n",
    "    filter_prob = np.vectorize(filter_prob)\n",
    "\n",
    "    states = np.full((1,ntau+1),i_zero,dtype=int)\n",
    "    probs = np.array([1.])\n",
    "    total_prob = [1]\n",
    "    unaltered_props = [1]\n",
    "\n",
    "    hists = np.empty((N_t,N_x))\n",
    "\n",
    "    for i in tqdm(np.arange(N_t)):\n",
    "        a_s = np.swapaxes(prop,1,2)[states[:,0],states[:,-1],:]\n",
    "\n",
    "        total_probs = a_s*probs[:,None]\n",
    "        unaltered_props.append(np.sum(total_probs))\n",
    "        i_s = np.where(total_probs > thresh)\n",
    "        new_probs = total_probs[i_s]\n",
    "        #i_s = np.where(total_probs > thresh*np.random.rand(*total_probs.shape))\n",
    "        #new_probs = total_probs[i_s]/filter_prob(total_probs[i_s])\n",
    "        new_states = np.repeat(states[:,None,:],N_x, axis = 1,)[i_s]\n",
    "        new_states[:,:-1] = new_states[:,1:]\n",
    "        new_states[:,-1]  = i_s[1]\n",
    "\n",
    "\n",
    "        uni, indxs = np.unique(new_states, axis=0, return_inverse=True)\n",
    "        states = uni\n",
    "        new_probs = np.stack([np.sum(new_probs[indxs == i]) for i in range(len(uni))])\n",
    "        total_prob.append(np.sum(new_probs))\n",
    "        probs = new_probs/np.sum(new_probs)\n",
    "\n",
    "        hists[i] = [np.sum(probs[states[:,-1] == i]) for i in range(N_x)] \n",
    "    print('Total number of final states:', states.shape)\n",
    "    if return_final_states:\n",
    "        return hists, unaltered_props, total_prob, new_states\n",
    "    return hists, unaltered_props, total_prob\n",
    "\n",
    "\n",
    "def get_hists_v2(N_t, N_x, ntau, i_zero, prop, thresh =  0.000005, return_final_states = False):\n",
    "    def filter_prob(p):\n",
    "        if p > thresh:\n",
    "            return 1.\n",
    "        return p/thresh\n",
    "    filter_prob = np.vectorize(filter_prob)\n",
    "\n",
    "    states = np.full((1,ntau+1),i_zero,dtype=int)\n",
    "    probs = np.array([1.])\n",
    "    total_prob = [1]\n",
    "    unaltered_props = [1]\n",
    "\n",
    "    hists = np.empty((N_t,N_x))\n",
    "\n",
    "    for i in tqdm(np.arange(N_t)):\n",
    "        a_s = np.swapaxes(prop,1,2)[states[:,0]+states[:,1],states[:,-1],:]\n",
    "\n",
    "        total_probs = a_s*probs[:,None]\n",
    "        unaltered_props.append(np.sum(total_probs))\n",
    "        i_s = np.where(total_probs > thresh)\n",
    "        new_probs = total_probs[i_s]\n",
    "        #i_s = np.where(total_probs > thresh*np.random.rand(*total_probs.shape))\n",
    "        #new_probs = total_probs[i_s]/filter_prob(total_probs[i_s])\n",
    "        new_states = np.repeat(states[:,None,:],N_x, axis = 1,)[i_s]\n",
    "        new_states[:,:-1] = new_states[:,1:]\n",
    "        new_states[:,-1]  = i_s[1]\n",
    "\n",
    "\n",
    "        #uni, indxs = np.unique(new_states, axis=0, return_inverse=True)\n",
    "        indxs, indxs_inv, counts  = np.unique(np.sum(new_states * (N_x**np.arange(ntau,-1,-1)), axis = 1),\n",
    "                                              return_index=True,\n",
    "                                              return_inverse=True,\n",
    "                                              return_counts=True\n",
    "                                             )[1:]\n",
    "        #states = uni\n",
    "        states = new_states[indxs]\n",
    "        new_probs = np.stack([np.sum(new_probs[indxs_inv == i]) if counts[i] > 1 else  new_probs[indxs[i]] for i in range(len(states))])\n",
    "        total_prob.append(np.sum(new_probs))\n",
    "        probs = new_probs/np.sum(new_probs)\n",
    "\n",
    "        hists[i] = [np.sum(probs[states[:,-1] == i]) for i in range(N_x)] \n",
    "    print('Total number of final states:', states.shape)\n",
    "    if return_final_states:\n",
    "        return hists, unaltered_props, total_prob, new_states\n",
    "    return hists, unaltered_props, total_prob\n",
    "\n",
    "def get_hists_v3(N_t, N_x, ntau, i_zero, prop, thresh =  0.000005, return_final_states = False):\n",
    "    def filter_prob(p):\n",
    "        if p > thresh:\n",
    "            return 1.\n",
    "        return p/thresh\n",
    "    filter_prob = np.vectorize(filter_prob)\n",
    "\n",
    "    states = np.full((1,ntau+1),i_zero,dtype=int)\n",
    "    probs = np.array([1.])\n",
    "    total_prob = [1]\n",
    "    unaltered_props = [1]\n",
    "\n",
    "    hists = np.empty((N_t,N_x))\n",
    "\n",
    "    for i in tqdm(np.arange(N_t)):\n",
    "        a_s = np.swapaxes(prop,1,2)[states[:,0]+states[:,1],states[:,-1],:]\n",
    "\n",
    "        total_probs = a_s*probs[:,None]\n",
    "        unaltered_props.append(np.sum(total_probs))\n",
    "        #i_s = np.where(total_probs > thresh)\n",
    "        #new_probs = total_probs[i_s]\n",
    "        i_s = np.where(total_probs > thresh*np.random.rand(*total_probs.shape))\n",
    "        new_probs = total_probs[i_s]/filter_prob(total_probs[i_s])\n",
    "        new_states = np.repeat(states[:,None,:],N_x, axis = 1,)[i_s]\n",
    "        new_states[:,:-1] = new_states[:,1:]\n",
    "        new_states[:,-1]  = i_s[1]\n",
    "\n",
    "\n",
    "        #uni, indxs = np.unique(new_states, axis=0, return_inverse=True)\n",
    "        indxs, indxs_inv, counts  = np.unique(np.sum(new_states * (N_x**np.arange(ntau,-1,-1)), axis = 1),\n",
    "                                              return_index=True,\n",
    "                                              return_inverse=True,\n",
    "                                              return_counts=True\n",
    "                                             )[1:]\n",
    "        #states = uni\n",
    "        states = new_states[indxs]\n",
    "        new_probs = np.stack([np.sum(new_probs[indxs_inv == i]) if counts[i] > 1 else  new_probs[indxs[i]] for i in range(len(states))])\n",
    "        total_prob.append(np.sum(new_probs))\n",
    "        probs = new_probs/np.sum(new_probs)\n",
    "\n",
    "        hists[i] = [np.sum(probs[states[:,-1] == i]) for i in range(N_x)] \n",
    "    print('Total number of final states:', states.shape)\n",
    "    if return_final_states:\n",
    "        return hists, unaltered_props, total_prob, new_states\n",
    "    return hists, unaltered_props, total_prob\n",
    "\n",
    "\n",
    "def simulate_traj(N_p, N_loop, N_t, ntau, s, dt, border, force):\n",
    "    pos = np.empty((N_loop,N_p,N_t))\n",
    "    vel = s*np.random.randn(N_loop,N_p,N_t)*1/np.sqrt(dt)\n",
    "\n",
    "    pos[:,:,:ntau+1] = -border\n",
    "    vel[:,:,:ntau+1] = 0\n",
    "\n",
    "    for i in tqdm(range(ntau+1,N_t)):\n",
    "        pos[:,:,i] = pos[:,:,i-1] + vel[:,:,i-1]*dt\n",
    "        vel[:,:,i] += force(pos[:,:,i-ntau])\n",
    "    return pos\n",
    "\n",
    "\n",
    "def get_rate(hists, dt,total_props=None):\n",
    "    if total_props is None:\n",
    "        sur_l = np.sum(hists[:,x_s <= 0],axis = 1)/np.sum(hists[0])\n",
    "        sur_r = np.sum(hists[:,x_s > 0],axis = 1)/np.sum(hists[0])\n",
    "    else:\n",
    "        sur_l = np.sum(hists[:,x_s <= 0],axis = 1)/np.sum(hists[0]) * np.cumprod(total_props[1:])\n",
    "        sur_r = np.sum(hists[:,x_s > 0],axis = 1)/np.sum(hists[0]) * np.cumprod(total_props[1:])\n",
    "    rate = -np.diff(sur_l)/(sur_l[:-1]-sur_r[:-1])/dt\n",
    "    return sur_l, rate"
   ]
  },
  {
   "cell_type": "markdown",
   "id": "e2eade25-5db9-4bed-8699-8f4e223bc560",
   "metadata": {
    "tags": []
   },
   "source": [
    "# One example"
   ]
  },
  {
   "cell_type": "code",
   "execution_count": 66,
   "id": "f704ce4c-1d9a-4115-9f1a-97581f223492",
   "metadata": {},
   "outputs": [],
   "source": [
    "# k = 1\n",
    "# tau = 0.5\n",
    "# D = 1/2\n",
    "# s = np.sqrt(2*D)\n",
    "# N_t = 100\n",
    "# dt = tau/4 if tau > 0 else 5e-2\n",
    "# dx = 1/2\n",
    "#sb = 20\n",
    "\n",
    "k = 3\n",
    "tau = 0.3\n",
    "D = 1e-6\n",
    "s = np.sqrt(2*D)\n",
    "N_t = 50\n",
    "dt = tau/4 if tau > 0 else 5e-2\n",
    "dx = 4e-4\n",
    "sb = 15*dx#0.005\n",
    "\n",
    "f = 30\n",
    "N_p = 8_000\n",
    "\n",
    "\n",
    "ntau = round(tau/dt)\n",
    "ts = np.arange(0,N_t)*dt\n",
    "ts_r = ts[1:]\n",
    "\n",
    "\n",
    "# jump over zero as x point\n",
    "x_s = np.arange(-sb,sb+1e-6,dx)\n",
    "bins = np.arange(-sb-dx/2,sb+dx/2+1e-5,dx)\n",
    "N_x = len(x_s)\n",
    "\n",
    "def force(x,*args):\n",
    "     return -k*x\n",
    "i_zero = np.argmin(force(x_s)**2)"
   ]
  },
  {
   "cell_type": "code",
   "execution_count": 74,
   "id": "d69a79a7-5b2d-47ad-9ec8-fd3f468565de",
   "metadata": {},
   "outputs": [],
   "source": [
    "thresh = 5e-7"
   ]
  },
  {
   "cell_type": "code",
   "execution_count": 75,
   "id": "c8a6ba57-4a6b-4a78-9d26-833ac1a38817",
   "metadata": {},
   "outputs": [
    {
     "data": {
      "application/vnd.jupyter.widget-view+json": {
       "model_id": "376ea4921c424c0ea3561b23190030f5",
       "version_major": 2,
       "version_minor": 0
      },
      "text/plain": [
       "  0%|          | 0/50 [00:00<?, ?it/s]"
      ]
     },
     "metadata": {},
     "output_type": "display_data"
    },
    {
     "name": "stdout",
     "output_type": "stream",
     "text": [
      "Total number of final states: (25093, 5)\n"
     ]
    }
   ],
   "source": [
    "prop = get_prop(x_s, force,D,dt,dx)\n",
    "hists, unaltered_props, total_prob = get_hists(N_t = N_t, N_x=N_x,ntau=ntau,i_zero=i_zero,prop=prop, thresh=thresh)"
   ]
  },
  {
   "cell_type": "code",
   "execution_count": 76,
   "id": "cab04948-2ae2-4b69-8bb4-a86dc74e3ed1",
   "metadata": {},
   "outputs": [
    {
     "data": {
      "application/vnd.jupyter.widget-view+json": {
       "model_id": "10f17fef45ea41ecbbe6cceaf5f56735",
       "version_major": 2,
       "version_minor": 0
      },
      "text/plain": [
       "  0%|          | 0/50 [00:00<?, ?it/s]"
      ]
     },
     "metadata": {},
     "output_type": "display_data"
    },
    {
     "name": "stdout",
     "output_type": "stream",
     "text": [
      "Total number of final states: (20433, 5)\n"
     ]
    }
   ],
   "source": [
    "prop2 = get_prop_v2(x_s, force,D,dt,dx)\n",
    "hists2, unaltered_props2, total_prob2 = get_hists_v2(N_t = N_t, N_x=N_x,ntau=ntau,i_zero=i_zero,prop=prop2, thresh=thresh)\n",
    "#hists3, unaltered_props3, total_prob3 = get_hists_v3(N_t = N_t, N_x=N_x,ntau=ntau,i_zero=i_zero,prop=prop2, thresh=thresh)"
   ]
  },
  {
   "cell_type": "code",
   "execution_count": 77,
   "id": "b8704362-f49d-47a8-964e-a8e5263f6c3c",
   "metadata": {},
   "outputs": [
    {
     "data": {
      "application/vnd.jupyter.widget-view+json": {
       "model_id": "acdfd6c95e944dac8d97b3f373342702",
       "version_major": 2,
       "version_minor": 0
      },
      "text/plain": [
       "  0%|          | 0/1559 [00:00<?, ?it/s]"
      ]
     },
     "metadata": {},
     "output_type": "display_data"
    },
    {
     "data": {
      "application/vnd.jupyter.widget-view+json": {
       "model_id": "5449d9873b914bbeafe90889d52f6eb9",
       "version_major": 2,
       "version_minor": 0
      },
      "text/plain": [
       "  0%|          | 0/1680 [00:00<?, ?it/s]"
      ]
     },
     "metadata": {},
     "output_type": "display_data"
    }
   ],
   "source": [
    "pos = simulate_traj(N_p=N_p, N_loop=1, N_t=(N_t+ntau+2)*f, ntau=ntau*f, s=s, dt=dt/f,border=0, force=force)\n",
    "all_pos = pos[0]\n",
    "sim_hists = [np.histogram(all_pos[:,j], bins = bins)[0] for j in tqdm(range(all_pos.shape[-1]))]\n",
    "sim_ts = np.arange(0, len(all_pos[0]))*dt/f -tau-dt"
   ]
  },
  {
   "cell_type": "code",
   "execution_count": 83,
   "id": "88517dcb-4f2f-413b-b8ea-54fa074ce5e2",
   "metadata": {},
   "outputs": [
    {
     "data": {
      "text/plain": [
       "[<matplotlib.lines.Line2D at 0x7f3ad1c37820>]"
      ]
     },
     "execution_count": 83,
     "metadata": {},
     "output_type": "execute_result"
    },
    {
     "data": {
      "image/png": "[encoded data removed]",
      "text/plain": [
       "<Figure size 640x480 with 1 Axes>"
      ]
     },
     "metadata": {},
     "output_type": "display_data"
    }
   ],
   "source": [
    "idx = 40\n",
    "plt.plot(x_s,sim_hists[f*(idx+ntau+1)]/N_p,'.-')\n",
    "plt.plot(x_s,hists[idx],'.-')\n",
    "plt.plot(x_s,hists2[idx],'.-')\n",
    "#plt.plot(x_s,hists3[idx],'.-')"
   ]
  },
  {
   "cell_type": "code",
   "execution_count": 81,
   "id": "80cc0d1c-f4a0-4bca-ab47-57974b1a791e",
   "metadata": {},
   "outputs": [],
   "source": [
    "sim_var = np.var(pos, axis = 1)\n",
    "sim_p = sim_hists/np.sum(sim_hists, axis = 1)[:,None]\n",
    "sim_hist_var = np.sum(sim_p*x_s[None,:]**2 - (sim_p*x_s[None,:])**2, axis = 1)\n",
    "\n",
    "num_p = hists[:,:]/np.sum(hists, axis = 1)[:,None]\n",
    "num_var = np.sum(num_p*x_s[None,:]**2 - (num_p*x_s[None,:])**2, axis = 1)\n",
    "\n",
    "num_p_2 = hists2[:,:]/np.sum(hists2, axis = 1)[:,None]\n",
    "num_var_2 = np.sum(num_p_2*x_s[None,:]**2 - (num_p_2*x_s[None,:])**2, axis = 1)\n",
    "\n",
    "#num_p_3 = hists3[:,:]/np.sum(hists3, axis = 1)[:,None]\n",
    "#num_var_3 = np.sum(num_p_3*x_s[None,:]**2 - (num_p_3*x_s[None,:])**2, axis = 1)"
   ]
  },
  {
   "cell_type": "code",
   "execution_count": 82,
   "id": "63e6a478-7598-46c7-b791-4b5e33894e99",
   "metadata": {},
   "outputs": [
    {
     "data": {
      "text/plain": [
       "<matplotlib.legend.Legend at 0x7f3ad1887e50>"
      ]
     },
     "execution_count": 82,
     "metadata": {},
     "output_type": "execute_result"
    },
    {
     "data": {
      "image/png": "[encoded data removed]",
      "text/plain": [
       "<Figure size 640x480 with 1 Axes>"
      ]
     },
     "metadata": {},
     "output_type": "display_data"
    }
   ],
   "source": [
    "plt.plot(sim_ts,sim_var[0], label='sim')\n",
    "plt.plot(sim_ts,sim_hist_var, label='sim hist')\n",
    "plt.plot(ts, num_var, label='v1', ls = '--')\n",
    "plt.plot(ts, num_var_2, label='v2',ls =  '--')\n",
    "#plt.plot(ts, num_var_3, label='v3',ls =  '--')\n",
    "plt.legend()\n",
    "#plt.xlim(0,4)"
   ]
  },
  {
   "cell_type": "code",
   "execution_count": 130,
   "id": "105d9bb8-77e3-40bd-82a9-233f81640c88",
   "metadata": {},
   "outputs": [
    {
     "data": {
      "text/plain": [
       "(1.7508856428166393e-06, 2.2251630365652e-06, 1.6074545380523827e-06)"
      ]
     },
     "execution_count": 130,
     "metadata": {},
     "output_type": "execute_result"
    }
   ],
   "source": [
    "np.mean(sim_var[0,-f*N_t//2:]), np.mean(num_var[-N_t//2:]), np.mean(num_var_2[-N_t//2:])"
   ]
  },
  {
   "cell_type": "markdown",
   "id": "0d435131-c683-487f-a0b9-234fe713a939",
   "metadata": {},
   "source": [
    "# The loop"
   ]
  },
  {
   "cell_type": "code",
   "execution_count": 22,
   "id": "84004f3c-f23c-427c-8573-8686081e335b",
   "metadata": {},
   "outputs": [
    {
     "data": {
      "application/vnd.jupyter.widget-view+json": {
       "model_id": "645c135dfb6645c8bec3a43dc231078d",
       "version_major": 2,
       "version_minor": 0
      },
      "text/plain": [
       "  0%|          | 0/8 [00:00<?, ?it/s]"
      ]
     },
     "metadata": {},
     "output_type": "display_data"
    },
    {
     "name": "stdout",
     "output_type": "stream",
     "text": [
      "0.0025 4\n"
     ]
    },
    {
     "data": {
      "application/vnd.jupyter.widget-view+json": {
       "model_id": "6fc1f21f49914246aba461417362da7b",
       "version_major": 2,
       "version_minor": 0
      },
      "text/plain": [
       "  0%|          | 0/50 [00:00<?, ?it/s]"
      ]
     },
     "metadata": {},
     "output_type": "display_data"
    },
    {
     "name": "stdout",
     "output_type": "stream",
     "text": [
      "Total number of final states: (863, 5)\n"
     ]
    },
    {
     "data": {
      "application/vnd.jupyter.widget-view+json": {
       "model_id": "45816094199a434699964275b7b579a2",
       "version_major": 2,
       "version_minor": 0
      },
      "text/plain": [
       "  0%|          | 0/50 [00:00<?, ?it/s]"
      ]
     },
     "metadata": {},
     "output_type": "display_data"
    },
    {
     "name": "stdout",
     "output_type": "stream",
     "text": [
      "Total number of final states: (861, 5)\n"
     ]
    },
    {
     "data": {
      "application/vnd.jupyter.widget-view+json": {
       "model_id": "1d7630f728db4e74a64790136b71916e",
       "version_major": 2,
       "version_minor": 0
      },
      "text/plain": [
       "  0%|          | 0/1559 [00:00<?, ?it/s]"
      ]
     },
     "metadata": {},
     "output_type": "display_data"
    },
    {
     "data": {
      "application/vnd.jupyter.widget-view+json": {
       "model_id": "71928556a42f48a59f9d8d091deaa678",
       "version_major": 2,
       "version_minor": 0
      },
      "text/plain": [
       "  0%|          | 0/1680 [00:00<?, ?it/s]"
      ]
     },
     "metadata": {},
     "output_type": "display_data"
    },
    {
     "name": "stdout",
     "output_type": "stream",
     "text": [
      "0.0125 4\n"
     ]
    },
    {
     "data": {
      "application/vnd.jupyter.widget-view+json": {
       "model_id": "290b214a18804fb7b86d1ce82cf1f898",
       "version_major": 2,
       "version_minor": 0
      },
      "text/plain": [
       "  0%|          | 0/50 [00:00<?, ?it/s]"
      ]
     },
     "metadata": {},
     "output_type": "display_data"
    },
    {
     "name": "stdout",
     "output_type": "stream",
     "text": [
      "Total number of final states: (4233, 5)\n"
     ]
    },
    {
     "data": {
      "application/vnd.jupyter.widget-view+json": {
       "model_id": "cb80266dc08f454d8c409fc8eb1d889d",
       "version_major": 2,
       "version_minor": 0
      },
      "text/plain": [
       "  0%|          | 0/50 [00:00<?, ?it/s]"
      ]
     },
     "metadata": {},
     "output_type": "display_data"
    },
    {
     "name": "stdout",
     "output_type": "stream",
     "text": [
      "Total number of final states: (4215, 5)\n"
     ]
    },
    {
     "data": {
      "application/vnd.jupyter.widget-view+json": {
       "model_id": "ed36aff490ee4649983ad6c34d922890",
       "version_major": 2,
       "version_minor": 0
      },
      "text/plain": [
       "  0%|          | 0/1559 [00:00<?, ?it/s]"
      ]
     },
     "metadata": {},
     "output_type": "display_data"
    },
    {
     "data": {
      "application/vnd.jupyter.widget-view+json": {
       "model_id": "2a1a40a9d6994cebb6820d71017148c5",
       "version_major": 2,
       "version_minor": 0
      },
      "text/plain": [
       "  0%|          | 0/1680 [00:00<?, ?it/s]"
      ]
     },
     "metadata": {},
     "output_type": "display_data"
    },
    {
     "name": "stdout",
     "output_type": "stream",
     "text": [
      "0.025 4\n"
     ]
    },
    {
     "data": {
      "application/vnd.jupyter.widget-view+json": {
       "model_id": "f53efe152e644992a38857411f2308be",
       "version_major": 2,
       "version_minor": 0
      },
      "text/plain": [
       "  0%|          | 0/50 [00:00<?, ?it/s]"
      ]
     },
     "metadata": {},
     "output_type": "display_data"
    },
    {
     "name": "stdout",
     "output_type": "stream",
     "text": [
      "Total number of final states: (8889, 5)\n"
     ]
    },
    {
     "data": {
      "application/vnd.jupyter.widget-view+json": {
       "model_id": "c3d5dff16cae46e69ade0fa244dbd26b",
       "version_major": 2,
       "version_minor": 0
      },
      "text/plain": [
       "  0%|          | 0/50 [00:00<?, ?it/s]"
      ]
     },
     "metadata": {},
     "output_type": "display_data"
    },
    {
     "name": "stdout",
     "output_type": "stream",
     "text": [
      "Total number of final states: (8729, 5)\n"
     ]
    },
    {
     "data": {
      "application/vnd.jupyter.widget-view+json": {
       "model_id": "8d89443489bd46a7931170d3f83e376d",
       "version_major": 2,
       "version_minor": 0
      },
      "text/plain": [
       "  0%|          | 0/1559 [00:00<?, ?it/s]"
      ]
     },
     "metadata": {},
     "output_type": "display_data"
    },
    {
     "data": {
      "application/vnd.jupyter.widget-view+json": {
       "model_id": "ffe0f3e513aa416eb922aba5a7cd199d",
       "version_major": 2,
       "version_minor": 0
      },
      "text/plain": [
       "  0%|          | 0/1680 [00:00<?, ?it/s]"
      ]
     },
     "metadata": {},
     "output_type": "display_data"
    },
    {
     "name": "stdout",
     "output_type": "stream",
     "text": [
      "0.05 4\n"
     ]
    },
    {
     "data": {
      "application/vnd.jupyter.widget-view+json": {
       "model_id": "fbf4f5c97ea54eee9ecb06d741a13ca6",
       "version_major": 2,
       "version_minor": 0
      },
      "text/plain": [
       "  0%|          | 0/50 [00:00<?, ?it/s]"
      ]
     },
     "metadata": {},
     "output_type": "display_data"
    },
    {
     "name": "stdout",
     "output_type": "stream",
     "text": [
      "Total number of final states: (20551, 5)\n"
     ]
    },
    {
     "data": {
      "application/vnd.jupyter.widget-view+json": {
       "model_id": "e51e7adde4664d53aa7d4be094ff4bfe",
       "version_major": 2,
       "version_minor": 0
      },
      "text/plain": [
       "  0%|          | 0/50 [00:00<?, ?it/s]"
      ]
     },
     "metadata": {},
     "output_type": "display_data"
    },
    {
     "name": "stdout",
     "output_type": "stream",
     "text": [
      "Total number of final states: (19393, 5)\n"
     ]
    },
    {
     "data": {
      "application/vnd.jupyter.widget-view+json": {
       "model_id": "449c0afe446f4f4498109ab6c016dace",
       "version_major": 2,
       "version_minor": 0
      },
      "text/plain": [
       "  0%|          | 0/1559 [00:00<?, ?it/s]"
      ]
     },
     "metadata": {},
     "output_type": "display_data"
    },
    {
     "data": {
      "application/vnd.jupyter.widget-view+json": {
       "model_id": "18eef24aa73a4c768fd0a86e5a3e21a4",
       "version_major": 2,
       "version_minor": 0
      },
      "text/plain": [
       "  0%|          | 0/1680 [00:00<?, ?it/s]"
      ]
     },
     "metadata": {},
     "output_type": "display_data"
    },
    {
     "name": "stdout",
     "output_type": "stream",
     "text": [
      "0.075 4\n"
     ]
    },
    {
     "data": {
      "application/vnd.jupyter.widget-view+json": {
       "model_id": "3907121c75094322aaa766107ef26380",
       "version_major": 2,
       "version_minor": 0
      },
      "text/plain": [
       "  0%|          | 0/50 [00:00<?, ?it/s]"
      ]
     },
     "metadata": {},
     "output_type": "display_data"
    },
    {
     "name": "stdout",
     "output_type": "stream",
     "text": [
      "Total number of final states: (37269, 5)\n"
     ]
    },
    {
     "data": {
      "application/vnd.jupyter.widget-view+json": {
       "model_id": "b1daf4b24f634d789f2800f799bfe897",
       "version_major": 2,
       "version_minor": 0
      },
      "text/plain": [
       "  0%|          | 0/50 [00:00<?, ?it/s]"
      ]
     },
     "metadata": {},
     "output_type": "display_data"
    },
    {
     "name": "stdout",
     "output_type": "stream",
     "text": [
      "Total number of final states: (33469, 5)\n"
     ]
    },
    {
     "data": {
      "application/vnd.jupyter.widget-view+json": {
       "model_id": "bc2a1486aff0490d8606f93a4e9e443a",
       "version_major": 2,
       "version_minor": 0
      },
      "text/plain": [
       "  0%|          | 0/1559 [00:00<?, ?it/s]"
      ]
     },
     "metadata": {},
     "output_type": "display_data"
    },
    {
     "data": {
      "application/vnd.jupyter.widget-view+json": {
       "model_id": "a9e2a92da06f40a78cdf8745f97168a2",
       "version_major": 2,
       "version_minor": 0
      },
      "text/plain": [
       "  0%|          | 0/1680 [00:00<?, ?it/s]"
      ]
     },
     "metadata": {},
     "output_type": "display_data"
    },
    {
     "name": "stdout",
     "output_type": "stream",
     "text": [
      "0.1 4\n"
     ]
    },
    {
     "data": {
      "application/vnd.jupyter.widget-view+json": {
       "model_id": "f1a108fcba98431bbe39c2c95044768b",
       "version_major": 2,
       "version_minor": 0
      },
      "text/plain": [
       "  0%|          | 0/50 [00:00<?, ?it/s]"
      ]
     },
     "metadata": {},
     "output_type": "display_data"
    },
    {
     "name": "stdout",
     "output_type": "stream",
     "text": [
      "Total number of final states: (62147, 5)\n"
     ]
    },
    {
     "data": {
      "application/vnd.jupyter.widget-view+json": {
       "model_id": "50b4fc3f48004cf2a5b0bc8d72a6ad39",
       "version_major": 2,
       "version_minor": 0
      },
      "text/plain": [
       "  0%|          | 0/50 [00:00<?, ?it/s]"
      ]
     },
     "metadata": {},
     "output_type": "display_data"
    },
    {
     "name": "stdout",
     "output_type": "stream",
     "text": [
      "Total number of final states: (52609, 5)\n"
     ]
    },
    {
     "data": {
      "application/vnd.jupyter.widget-view+json": {
       "model_id": "b93ad20c829f484c85edb520dd45ac6b",
       "version_major": 2,
       "version_minor": 0
      },
      "text/plain": [
       "  0%|          | 0/1559 [00:00<?, ?it/s]"
      ]
     },
     "metadata": {},
     "output_type": "display_data"
    },
    {
     "data": {
      "application/vnd.jupyter.widget-view+json": {
       "model_id": "f23d639f525543cfadd2bb3210a5f6e4",
       "version_major": 2,
       "version_minor": 0
      },
      "text/plain": [
       "  0%|          | 0/1680 [00:00<?, ?it/s]"
      ]
     },
     "metadata": {},
     "output_type": "display_data"
    },
    {
     "name": "stdout",
     "output_type": "stream",
     "text": [
      "0.125 4\n"
     ]
    },
    {
     "data": {
      "application/vnd.jupyter.widget-view+json": {
       "model_id": "08b9761409ac43a1ab5f484a46081998",
       "version_major": 2,
       "version_minor": 0
      },
      "text/plain": [
       "  0%|          | 0/50 [00:00<?, ?it/s]"
      ]
     },
     "metadata": {},
     "output_type": "display_data"
    },
    {
     "name": "stdout",
     "output_type": "stream",
     "text": [
      "Total number of final states: (95123, 5)\n"
     ]
    },
    {
     "data": {
      "application/vnd.jupyter.widget-view+json": {
       "model_id": "bca5fdd169c84b59be7c7c34e17533db",
       "version_major": 2,
       "version_minor": 0
      },
      "text/plain": [
       "  0%|          | 0/50 [00:00<?, ?it/s]"
      ]
     },
     "metadata": {},
     "output_type": "display_data"
    },
    {
     "name": "stdout",
     "output_type": "stream",
     "text": [
      "Total number of final states: (77473, 5)\n"
     ]
    },
    {
     "data": {
      "application/vnd.jupyter.widget-view+json": {
       "model_id": "52333eb2a7054f2facb965af36bcd394",
       "version_major": 2,
       "version_minor": 0
      },
      "text/plain": [
       "  0%|          | 0/1559 [00:00<?, ?it/s]"
      ]
     },
     "metadata": {},
     "output_type": "display_data"
    },
    {
     "data": {
      "application/vnd.jupyter.widget-view+json": {
       "model_id": "cd2a59ff5ed54cfba92f927efaaeec08",
       "version_major": 2,
       "version_minor": 0
      },
      "text/plain": [
       "  0%|          | 0/1680 [00:00<?, ?it/s]"
      ]
     },
     "metadata": {},
     "output_type": "display_data"
    },
    {
     "name": "stdout",
     "output_type": "stream",
     "text": [
      "0.15 4\n"
     ]
    },
    {
     "data": {
      "application/vnd.jupyter.widget-view+json": {
       "model_id": "fdad3c1ee36f4a2691a9fcacf5985441",
       "version_major": 2,
       "version_minor": 0
      },
      "text/plain": [
       "  0%|          | 0/50 [00:00<?, ?it/s]"
      ]
     },
     "metadata": {},
     "output_type": "display_data"
    },
    {
     "name": "stdout",
     "output_type": "stream",
     "text": [
      "Total number of final states: (41693, 5)\n"
     ]
    },
    {
     "data": {
      "application/vnd.jupyter.widget-view+json": {
       "model_id": "9075e6f403bd42d08580a94304a0f253",
       "version_major": 2,
       "version_minor": 0
      },
      "text/plain": [
       "  0%|          | 0/50 [00:00<?, ?it/s]"
      ]
     },
     "metadata": {},
     "output_type": "display_data"
    },
    {
     "name": "stdout",
     "output_type": "stream",
     "text": [
      "Total number of final states: (114335, 5)\n"
     ]
    },
    {
     "data": {
      "application/vnd.jupyter.widget-view+json": {
       "model_id": "0ac5f243ff994ab29f374e6e4b69c3bc",
       "version_major": 2,
       "version_minor": 0
      },
      "text/plain": [
       "  0%|          | 0/1559 [00:00<?, ?it/s]"
      ]
     },
     "metadata": {},
     "output_type": "display_data"
    },
    {
     "data": {
      "application/vnd.jupyter.widget-view+json": {
       "model_id": "26bdcc7482b5420aa5441f68daf31f3c",
       "version_major": 2,
       "version_minor": 0
      },
      "text/plain": [
       "  0%|          | 0/1680 [00:00<?, ?it/s]"
      ]
     },
     "metadata": {},
     "output_type": "display_data"
    }
   ],
   "source": [
    "k = 3\n",
    "D = 1e-6\n",
    "s = np.sqrt(2*D)\n",
    "N_t = 50\n",
    "dx = 3e-4 #4e-4\n",
    "sb = 15*dx#0.005\n",
    "\n",
    "f = 30\n",
    "N_p = 8_000\n",
    "\n",
    "f = 30\n",
    "N_p = 8_000\n",
    "\n",
    "\n",
    "# jump over zero as x point\n",
    "x_s = np.arange(-sb,sb+1e-6,dx)\n",
    "bins = np.arange(-sb-dx/2,sb+dx/2+1e-5,dx)\n",
    "N_x = len(x_s)\n",
    "\n",
    "ltaus = [0.01, 0.05, 0.1, 0.2,0.3,0.4,0.5,0.6]\n",
    "sim_vars = np.empty(len(ltaus))\n",
    "num_vars = np.empty(len(ltaus))\n",
    "num_vars_2 = np.empty(len(ltaus))\n",
    "\n",
    "tau_frac = 4\n",
    "\n",
    "def force(x,*args):\n",
    "     return -k*x\n",
    "i_zero = np.argmin(force(x_s)**2)\n",
    "\n",
    "for i,ltau in enumerate(tqdm(ltaus)):\n",
    "    \n",
    "    \n",
    "    ldt = ltau/tau_frac if ltau > 0 else 5e-2\n",
    "    lntau = round(ltau/ldt)\n",
    "    \n",
    "    print(ldt, lntau)\n",
    "    prop = get_prop(x_s, force,D,ldt,dx)\n",
    "    hists, unaltered_props, total_prob = get_hists(N_t = N_t, N_x=N_x,ntau=lntau,i_zero=i_zero,prop=prop)\n",
    "    \n",
    "    prop2 = get_prop_v2(x_s, force,D,ldt,dx)\n",
    "    hists2, unaltered_props2, total_prob2 = get_hists_v2(N_t = N_t, N_x=N_x,ntau=lntau,i_zero=i_zero,prop=prop2)\n",
    "    \n",
    "    prop2 = get_prop_v2(x_s, force,D,ldt,dx)    \n",
    "    pos = simulate_traj(N_p=N_p, N_loop=1, N_t=(N_t+lntau+2)*f, ntau=lntau*f, s=s, dt=ldt/f,border=0, force=force)\n",
    "    all_pos = pos[0]\n",
    "    sim_hists = [np.histogram(all_pos[:,j], bins = bins)[0] for j in tqdm(range(all_pos.shape[-1]))]\n",
    " \n",
    "    sim_var = np.var(pos, axis = 1)\n",
    "    num_p = hists[:,:]/np.sum(hists, axis = 1)[:,None]\n",
    "    num_var = np.sum(num_p*x_s[None,:]**2 - (num_p*x_s[None,:])**2, axis = 1)\n",
    "\n",
    "    num_p_2 = hists2[:,:]/np.sum(hists2, axis = 1)[:,None]\n",
    "    num_var_2 = np.sum(num_p_2*x_s[None,:]**2 - (num_p_2*x_s[None,:])**2, axis = 1)\n",
    "    \n",
    "    sim_vars[i] = np.mean(sim_var[0,-f*N_t//2:])\n",
    "    num_vars[i] = np.mean(num_var[-N_t//2:])\n",
    "    num_vars_2[i] = np.mean(num_var_2[-N_t//2:])\n",
    "    \n",
    "with open(f'nummeric_results/sim_vs_num_v2_emb{tau_frac}.pkl', 'wb') as file:\n",
    "    pickle.dump({'ltaus':ltaus,\n",
    "                 'sim_vars':sim_vars,\n",
    "                 'num_vars':num_vars,\n",
    "                 'num_vars_2':num_vars_2\n",
    "                }, file)"
   ]
  },
  {
   "cell_type": "code",
   "execution_count": 115,
   "id": "2e006dcf-1794-42a9-99b4-8f57363875f7",
   "metadata": {},
   "outputs": [],
   "source": [
    "sim_vs_num_v2 = pickle.load(open('nummeric_results/sim_vs_num_v2_emb4.pkl', 'rb'))\n",
    "ltaus = sim_vs_num_v2['ltaus']\n",
    "sim_vars = sim_vs_num_v2['sim_vars']\n",
    "num_vars = sim_vs_num_v2['num_vars']\n",
    "num_vars_2 = sim_vs_num_v2['num_vars_2']"
   ]
  },
  {
   "cell_type": "code",
   "execution_count": 116,
   "id": "b33166ec-b350-46b0-9145-6a35e05f7f11",
   "metadata": {},
   "outputs": [],
   "source": [
    "short_time_approx_var = s**2/(2*k)*(1+k*np.array(ltaus))"
   ]
  },
  {
   "cell_type": "code",
   "execution_count": 117,
   "id": "77c2af35-45fb-46ee-afcd-e108e2abba74",
   "metadata": {},
   "outputs": [
    {
     "data": {
      "text/plain": [
       "<matplotlib.legend.Legend at 0x7f7aceaf91b0>"
      ]
     },
     "execution_count": 117,
     "metadata": {},
     "output_type": "execute_result"
    },
    {
     "data": {
      "image/png": "[encoded data removed]",
      "text/plain": [
       "<Figure size 640x480 with 1 Axes>"
      ]
     },
     "metadata": {},
     "output_type": "display_data"
    }
   ],
   "source": [
    "plt.plot(ltaus,sim_vars,'.-', label='sim')\n",
    "plt.plot(ltaus,num_vars,'.--', label='v1')\n",
    "plt.plot(ltaus,num_vars_2,'.--' ,label='v2')\n",
    "plt.plot(ltaus,short_time_approx_var ,'.-.',label='short time')\n",
    "plt.ylim(0,1e-5)\n",
    "plt.legend()"
   ]
  },
  {
   "cell_type": "code",
   "execution_count": 34,
   "id": "a709c007-2979-4afe-9b87-c0d65f454cd2",
   "metadata": {},
   "outputs": [
    {
     "data": {
      "text/plain": [
       "<matplotlib.legend.Legend at 0x7f7adb437c40>"
      ]
     },
     "execution_count": 34,
     "metadata": {},
     "output_type": "execute_result"
    },
    {
     "data": {
      "image/png": "[encoded data removed]",
      "text/plain": [
       "<Figure size 640x480 with 1 Axes>"
      ]
     },
     "metadata": {},
     "output_type": "display_data"
    }
   ],
   "source": [
    "plt.plot(ltaus,num_vars/sim_vars, label='v1')\n",
    "plt.plot(ltaus,num_vars_2/sim_vars,label='v2')\n",
    "plt.plot(ltaus,short_time_approx_var/sim_vars,label='short time')\n",
    "plt.ylim(0.5,1.5)\n",
    "plt.legend()"
   ]
  },
  {
   "cell_type": "code",
   "execution_count": 88,
   "id": "17f5a5b7-9ec5-4fdc-ac2a-1b9ee5339806",
   "metadata": {},
   "outputs": [],
   "source": [
    "## \n",
    "max_i = 40\n",
    "test_arr = np.random.randint(0, max_i, (200_000,6))\n",
    "test_probs = np.random.random(200_000)"
   ]
  },
  {
   "cell_type": "code",
   "execution_count": 89,
   "id": "2902b980-60a5-439a-b7e6-363f62013501",
   "metadata": {},
   "outputs": [
    {
     "name": "stdout",
     "output_type": "stream",
     "text": [
      "333 ms ± 13.9 ms per loop (mean ± std. dev. of 7 runs, 1 loop each)\n"
     ]
    }
   ],
   "source": [
    "%%timeit\n",
    "np.unique(test_arr, axis = 0,return_inverse=True, return_index=True)"
   ]
  },
  {
   "cell_type": "code",
   "execution_count": 131,
   "id": "0c7fce0e-75a7-400c-8a53-2359a01350fa",
   "metadata": {},
   "outputs": [
    {
     "name": "stdout",
     "output_type": "stream",
     "text": [
      "26.4 ms ± 1.37 ms per loop (mean ± std. dev. of 7 runs, 10 loops each)\n"
     ]
    }
   ],
   "source": [
    "%%timeit\n",
    "np.unique(np.sum(test_arr * (max_i**np.arange(5,-1,-1)), axis = 1),return_inverse=True, return_index=True, return_counts=True)"
   ]
  },
  {
   "cell_type": "code",
   "execution_count": 94,
   "id": "8cf6d3eb-410d-43db-a7c0-4b9c5650b4ee",
   "metadata": {},
   "outputs": [],
   "source": [
    "# import pandas as pd\n",
    "\n",
    "# %%timeit\n",
    "# pd.unique(np.sum(test_arr * (max_i**np.arange(5,-1,-1)), axis = 1))"
   ]
  },
  {
   "cell_type": "code",
   "execution_count": 137,
   "id": "00ba6c8d-ef63-40c6-bebb-60907205e4b4",
   "metadata": {},
   "outputs": [],
   "source": [
    "items,a,b,c = np.unique(np.sum(test_arr * (max_i**np.arange(5,-1,-1)), axis = 1), return_inverse=True, return_index=True, return_counts=True)"
   ]
  },
  {
   "cell_type": "code",
   "execution_count": 145,
   "id": "3fea4d2e-d41b-44f5-b718-05cb41f770e3",
   "metadata": {},
   "outputs": [],
   "source": [
    "new_test_prob = np.stack([np.sum(test_probs[b == i]) if c[i] > 1 else  test_probs[a[i]] for i in range(len(a))])"
   ]
  },
  {
   "cell_type": "code",
   "execution_count": 146,
   "id": "42f391b0-e848-4cba-85a0-1dc7f8e6cab0",
   "metadata": {},
   "outputs": [
    {
     "data": {
      "text/plain": [
       "199995"
      ]
     },
     "execution_count": 146,
     "metadata": {},
     "output_type": "execute_result"
    }
   ],
   "source": [
    "len(new_test_prob)"
   ]
  },
  {
   "cell_type": "code",
   "execution_count": 148,
   "id": "bccf7948-bcea-4f88-aa65-2a09b9b7f4a4",
   "metadata": {},
   "outputs": [
    {
     "data": {
      "text/plain": [
       "4"
      ]
     },
     "execution_count": 148,
     "metadata": {},
     "output_type": "execute_result"
    }
   ],
   "source": [
    "(new_test_prob > 1).sum()"
   ]
  },
  {
   "cell_type": "code",
   "execution_count": null,
   "id": "4ee360aa-f0bf-4947-9364-b433283f74a2",
   "metadata": {},
   "outputs": [],
   "source": []
  }
 ],
 "metadata": {
  "kernelspec": {
   "display_name": "Python 3",
   "language": "python",
   "name": "python3"
  },
  "language_info": {
   "codemirror_mode": {
    "name": "ipython",
    "version": 3
   },
   "file_extension": ".py",
   "mimetype": "text/x-python",
   "name": "python",
   "nbconvert_exporter": "python",
   "pygments_lexer": "ipython3",
   "version": "3.10.6"
  }
 },
 "nbformat": 4,
 "nbformat_minor": 5
}
